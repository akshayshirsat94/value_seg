{
 "cells": [
  {
   "cell_type": "code",
   "execution_count": 0,
   "metadata": {
    "application/vnd.databricks.v1+cell": {
     "cellMetadata": {
      "byteLimit": 2048000,
      "rowLimit": 10000
     },
     "inputWidgets": {},
     "nuid": "1bca339c-df26-4c63-aa16-6d0186a1d5cd",
     "showTitle": false,
     "title": ""
    }
   },
   "outputs": [
    {
     "output_type": "stream",
     "name": "stdout",
     "output_type": "stream",
     "text": [
      "\u001B[43mNote: you may need to restart the kernel using dbutils.library.restartPython() to use updated packages.\u001B[0m\nCollecting sqlalchemy\n  Obtaining dependency information for sqlalchemy from https://files.pythonhosted.org/packages/4d/21/87bcad723070f7cd5f9d45fb05557596aa1d23d19eef078b13edc9e31813/SQLAlchemy-2.0.30-cp311-cp311-manylinux_2_17_x86_64.manylinux2014_x86_64.whl.metadata\n  Downloading SQLAlchemy-2.0.30-cp311-cp311-manylinux_2_17_x86_64.manylinux2014_x86_64.whl.metadata (9.6 kB)\nRequirement already satisfied: typing-extensions>=4.6.0 in /databricks/python3/lib/python3.11/site-packages (from sqlalchemy) (4.7.1)\nCollecting greenlet!=0.4.17 (from sqlalchemy)\n  Obtaining dependency information for greenlet!=0.4.17 from https://files.pythonhosted.org/packages/c6/1f/12d5a6cc26e8b483c2e7975f9c22e088ac735c0d8dcb8a8f72d31a4e5f04/greenlet-3.0.3-cp311-cp311-manylinux_2_24_x86_64.manylinux_2_28_x86_64.whl.metadata\n  Downloading greenlet-3.0.3-cp311-cp311-manylinux_2_24_x86_64.manylinux_2_28_x86_64.whl.metadata (3.8 kB)\nDownloading SQLAlchemy-2.0.30-cp311-cp311-manylinux_2_17_x86_64.manylinux2014_x86_64.whl (3.2 MB)\n\u001B[?25l   \u001B[90m━━━━━━━━━━━━━━━━━━━━━━━━━━━━━━━━━━━━━━━━\u001B[0m \u001B[32m0.0/3.2 MB\u001B[0m \u001B[31m?\u001B[0m eta \u001B[36m-:--:--\u001B[0m\n\u001B[2K   \u001B[91m━\u001B[0m\u001B[91m╸\u001B[0m\u001B[90m━━━━━━━━━━━━━━━━━━━━━━━━━━━━━━━━━━━━━━\u001B[0m \u001B[32m0.1/3.2 MB\u001B[0m \u001B[31m4.1 MB/s\u001B[0m eta \u001B[36m0:00:01\u001B[0m\n\u001B[2K   \u001B[91m━━━━━━\u001B[0m\u001B[90m╺\u001B[0m\u001B[90m━━━━━━━━━━━━━━━━━━━━━━━━━━━━━━━━━\u001B[0m \u001B[32m0.5/3.2 MB\u001B[0m \u001B[31m7.2 MB/s\u001B[0m eta \u001B[36m0:00:01\u001B[0m\n\u001B[2K   \u001B[91m━━━━━━━━━━━\u001B[0m\u001B[90m╺\u001B[0m\u001B[90m━━━━━━━━━━━━━━━━━━━━━━━━━━━━\u001B[0m \u001B[32m0.9/3.2 MB\u001B[0m \u001B[31m8.7 MB/s\u001B[0m eta \u001B[36m0:00:01\u001B[0m\n\u001B[2K   \u001B[91m━━━━━━━━━━━━━━━━━\u001B[0m\u001B[90m╺\u001B[0m\u001B[90m━━━━━━━━━━━━━━━━━━━━━━\u001B[0m \u001B[32m1.4/3.2 MB\u001B[0m \u001B[31m9.8 MB/s\u001B[0m eta \u001B[36m0:00:01\u001B[0m\n\u001B[2K   \u001B[91m━━━━━━━━━━━━━━━━━━━━━━━\u001B[0m\u001B[91m╸\u001B[0m\u001B[90m━━━━━━━━━━━━━━━━\u001B[0m \u001B[32m1.9/3.2 MB\u001B[0m \u001B[31m10.8 MB/s\u001B[0m eta \u001B[36m0:00:01\u001B[0m\n\u001B[2K   \u001B[91m━━━━━━━━━━━━━━━━━━━━━━━━━━━━━━\u001B[0m\u001B[91m╸\u001B[0m\u001B[90m━━━━━━━━━\u001B[0m \u001B[32m2.5/3.2 MB\u001B[0m \u001B[31m11.8 MB/s\u001B[0m eta \u001B[36m0:00:01\u001B[0m\n\u001B[2K   \u001B[91m━━━━━━━━━━━━━━━━━━━━━━━━━━━━━━━━━━━━━━━\u001B[0m\u001B[91m╸\u001B[0m \u001B[32m3.2/3.2 MB\u001B[0m \u001B[31m12.9 MB/s\u001B[0m eta \u001B[36m0:00:01\u001B[0m\n\u001B[2K   \u001B[90m━━━━━━━━━━━━━━━━━━━━━━━━━━━━━━━━━━━━━━━━\u001B[0m \u001B[32m3.2/3.2 MB\u001B[0m \u001B[31m11.9 MB/s\u001B[0m eta \u001B[36m0:00:00\u001B[0m\n\u001B[?25hDownloading greenlet-3.0.3-cp311-cp311-manylinux_2_24_x86_64.manylinux_2_28_x86_64.whl (620 kB)\n\u001B[?25l   \u001B[90m━━━━━━━━━━━━━━━━━━━━━━━━━━━━━━━━━━━━━━━━\u001B[0m \u001B[32m0.0/620.0 kB\u001B[0m \u001B[31m?\u001B[0m eta \u001B[36m-:--:--\u001B[0m\n\u001B[2K   \u001B[91m━━━━━━━━━━━━━━━━━━━━━━━━━━━━━━━━━━━━━━━\u001B[0m\u001B[91m╸\u001B[0m \u001B[32m614.4/620.0 kB\u001B[0m \u001B[31m22.7 MB/s\u001B[0m eta \u001B[36m0:00:01\u001B[0m\n\u001B[2K   \u001B[90m━━━━━━━━━━━━━━━━━━━━━━━━━━━━━━━━━━━━━━━━\u001B[0m \u001B[32m620.0/620.0 kB\u001B[0m \u001B[31m16.5 MB/s\u001B[0m eta \u001B[36m0:00:00\u001B[0m\n\u001B[?25hInstalling collected packages: greenlet, sqlalchemy\nSuccessfully installed greenlet-3.0.3 sqlalchemy-2.0.30\n\u001B[43mNote: you may need to restart the kernel using dbutils.library.restartPython() to use updated packages.\u001B[0m\n\u001B[43mNote: you may need to restart the kernel using dbutils.library.restartPython() to use updated packages.\u001B[0m\nCollecting plotnine\n  Obtaining dependency information for plotnine from https://files.pythonhosted.org/packages/93/b1/e1c84e68cf24e83c4d251122e04c48840be203dafb4727e738381cdefa74/plotnine-0.13.6-py3-none-any.whl.metadata\n  Downloading plotnine-0.13.6-py3-none-any.whl.metadata (8.9 kB)\nRequirement already satisfied: matplotlib>=3.7.0 in /databricks/python3/lib/python3.11/site-packages (from plotnine) (3.7.2)\nCollecting pandas<3.0.0,>=2.1.0 (from plotnine)\n  Obtaining dependency information for pandas<3.0.0,>=2.1.0 from https://files.pythonhosted.org/packages/fc/a5/4d82be566f069d7a9a702dcdf6f9106df0e0b042e738043c0cc7ddd7e3f6/pandas-2.2.2-cp311-cp311-manylinux_2_17_x86_64.manylinux2014_x86_64.whl.metadata\n  Downloading pandas-2.2.2-cp311-cp311-manylinux_2_17_x86_64.manylinux2014_x86_64.whl.metadata (19 kB)\nCollecting mizani~=0.11.0 (from plotnine)\n  Obtaining dependency information for mizani~=0.11.0 from https://files.pythonhosted.org/packages/2a/11/f3777ad46c5d92e3ead121c22ea45fafb6c3b2c1edca0c0c6494969c125c/mizani-0.11.4-py3-none-any.whl.metadata\n  Downloading mizani-0.11.4-py3-none-any.whl.metadata (4.8 kB)\nRequirement already satisfied: numpy>=1.23.0 in /databricks/python3/lib/python3.11/site-packages (from plotnine) (1.23.5)\nRequirement already satisfied: scipy>=1.7.0 in /databricks/python3/lib/python3.11/site-packages (from plotnine) (1.11.1)\nRequirement already satisfied: statsmodels>=0.14.0 in /databricks/python3/lib/python3.11/site-packages (from plotnine) (0.14.0)\nRequirement already satisfied: contourpy>=1.0.1 in /databricks/python3/lib/python3.11/site-packages (from matplotlib>=3.7.0->plotnine) (1.0.5)\nRequirement already satisfied: cycler>=0.10 in /databricks/python3/lib/python3.11/site-packages (from matplotlib>=3.7.0->plotnine) (0.11.0)\nRequirement already satisfied: fonttools>=4.22.0 in /databricks/python3/lib/python3.11/site-packages (from matplotlib>=3.7.0->plotnine) (4.25.0)\nRequirement already satisfied: kiwisolver>=1.0.1 in /databricks/python3/lib/python3.11/site-packages (from matplotlib>=3.7.0->plotnine) (1.4.4)\nRequirement already satisfied: packaging>=20.0 in /databricks/python3/lib/python3.11/site-packages (from matplotlib>=3.7.0->plotnine) (23.2)\nRequirement already satisfied: pillow>=6.2.0 in /databricks/python3/lib/python3.11/site-packages (from matplotlib>=3.7.0->plotnine) (9.4.0)\nRequirement already satisfied: pyparsing<3.1,>=2.3.1 in /databricks/python3/lib/python3.11/site-packages (from matplotlib>=3.7.0->plotnine) (3.0.9)\nRequirement already satisfied: python-dateutil>=2.7 in /databricks/python3/lib/python3.11/site-packages (from matplotlib>=3.7.0->plotnine) (2.8.2)\nRequirement already satisfied: pytz>=2020.1 in /databricks/python3/lib/python3.11/site-packages (from pandas<3.0.0,>=2.1.0->plotnine) (2022.7)\nCollecting tzdata>=2022.7 (from pandas<3.0.0,>=2.1.0->plotnine)\n  Obtaining dependency information for tzdata>=2022.7 from https://files.pythonhosted.org/packages/65/58/f9c9e6be752e9fcb8b6a0ee9fb87e6e7a1f6bcab2cdc73f02bb7ba91ada0/tzdata-2024.1-py2.py3-none-any.whl.metadata\n  Downloading tzdata-2024.1-py2.py3-none-any.whl.metadata (1.4 kB)\nRequirement already satisfied: patsy>=0.5.2 in /databricks/python3/lib/python3.11/site-packages (from statsmodels>=0.14.0->plotnine) (0.5.3)\nRequirement already satisfied: six in /usr/lib/python3/dist-packages (from patsy>=0.5.2->statsmodels>=0.14.0->plotnine) (1.16.0)\nDownloading plotnine-0.13.6-py3-none-any.whl (1.3 MB)\n\u001B[?25l   \u001B[90m━━━━━━━━━━━━━━━━━━━━━━━━━━━━━━━━━━━━━━━━\u001B[0m \u001B[32m0.0/1.3 MB\u001B[0m \u001B[31m?\u001B[0m eta \u001B[36m-:--:--\u001B[0m\n\u001B[2K   \u001B[91m━━━━━━━━\u001B[0m\u001B[90m╺\u001B[0m\u001B[90m━━━━━━━━━━━━━━━━━━━━━━━━━━━━━━━\u001B[0m \u001B[32m0.3/1.3 MB\u001B[0m \u001B[31m8.5 MB/s\u001B[0m eta \u001B[36m0:00:01\u001B[0m\n\u001B[2K   \u001B[91m━━━━━━━━━━━━━━━━━━━━━━━━━━━━━━━━━━━━━━━\u001B[0m\u001B[91m╸\u001B[0m \u001B[32m1.3/1.3 MB\u001B[0m \u001B[31m21.2 MB/s\u001B[0m eta \u001B[36m0:00:01\u001B[0m\n\u001B[2K   \u001B[90m━━━━━━━━━━━━━━━━━━━━━━━━━━━━━━━━━━━━━━━━\u001B[0m \u001B[32m1.3/1.3 MB\u001B[0m \u001B[31m16.4 MB/s\u001B[0m eta \u001B[36m0:00:00\u001B[0m\n\u001B[?25hDownloading mizani-0.11.4-py3-none-any.whl (127 kB)\n\u001B[?25l   \u001B[90m━━━━━━━━━━━━━━━━━━━━━━━━━━━━━━━━━━━━━━━━\u001B[0m \u001B[32m0.0/127.4 kB\u001B[0m \u001B[31m?\u001B[0m eta \u001B[36m-:--:--\u001B[0m\n\u001B[2K   \u001B[90m━━━━━━━━━━━━━━━━━━━━━━━━━━━━━━━━━━━━━━━━\u001B[0m \u001B[32m127.4/127.4 kB\u001B[0m \u001B[31m15.0 MB/s\u001B[0m eta \u001B[36m0:00:00\u001B[0m\n\u001B[?25hDownloading pandas-2.2.2-cp311-cp311-manylinux_2_17_x86_64.manylinux2014_x86_64.whl (13.0 MB)\n\u001B[?25l   \u001B[90m━━━━━━━━━━━━━━━━━━━━━━━━━━━━━━━━━━━━━━━━\u001B[0m \u001B[32m0.0/13.0 MB\u001B[0m \u001B[31m?\u001B[0m eta \u001B[36m-:--:--\u001B[0m\n\u001B[2K   \u001B[91m━━━━━━━━━━━━\u001B[0m\u001B[90m╺\u001B[0m\u001B[90m━━━━━━━━━━━━━━━━━━━━━━━━━━━\u001B[0m \u001B[32m3.9/13.0 MB\u001B[0m \u001B[31m118.6 MB/s\u001B[0m eta \u001B[36m0:00:01\u001B[0m\n\u001B[2K   \u001B[91m━━━━━━━━━━━━━━━━━━━━━━━━━\u001B[0m\u001B[90m╺\u001B[0m\u001B[90m━━━━━━━━━━━━━━\u001B[0m \u001B[32m8.3/13.0 MB\u001B[0m \u001B[31m121.4 MB/s\u001B[0m eta \u001B[36m0:00:01\u001B[0m\n\u001B[2K   \u001B[91m━━━━━━━━━━━━━━━━━━━━━━━━━━━━━━━━━━━━━━━\u001B[0m\u001B[91m╸\u001B[0m \u001B[32m13.0/13.0 MB\u001B[0m \u001B[31m129.2 MB/s\u001B[0m eta \u001B[36m0:00:01\u001B[0m\n\u001B[2K   \u001B[91m━━━━━━━━━━━━━━━━━━━━━━━━━━━━━━━━━━━━━━━\u001B[0m\u001B[91m╸\u001B[0m \u001B[32m13.0/13.0 MB\u001B[0m \u001B[31m129.2 MB/s\u001B[0m eta \u001B[36m0:00:01\u001B[0m\n\u001B[2K   \u001B[90m━━━━━━━━━━━━━━━━━━━━━━━━━━━━━━━━━━━━━━━━\u001B[0m \u001B[32m13.0/13.0 MB\u001B[0m \u001B[31m68.0 MB/s\u001B[0m eta \u001B[36m0:00:00\u001B[0m\n\u001B[?25hDownloading tzdata-2024.1-py2.py3-none-any.whl (345 kB)\n\u001B[?25l   \u001B[90m━━━━━━━━━━━━━━━━━━━━━━━━━━━━━━━━━━━━━━━━\u001B[0m \u001B[32m0.0/345.4 kB\u001B[0m \u001B[31m?\u001B[0m eta \u001B[36m-:--:--\u001B[0m\n\u001B[2K   \u001B[90m━━━━━━━━━━━━━━━━━━━━━━━━━━━━━━━━━━━━━━━━\u001B[0m \u001B[32m345.4/345.4 kB\u001B[0m \u001B[31m29.6 MB/s\u001B[0m eta \u001B[36m0:00:00\u001B[0m\n\u001B[?25hInstalling collected packages: tzdata, pandas, mizani, plotnine\n  Attempting uninstall: tzdata\n    Found existing installation: tzdata 2022.1\n    Not uninstalling tzdata at /databricks/python3/lib/python3.11/site-packages, outside environment /local_disk0/.ephemeral_nfs/envs/pythonEnv-b9ed5074-0197-4f36-9eed-a14d6469de37\n    Can't uninstall 'tzdata'. No files were found to uninstall.\n  Attempting uninstall: pandas\n    Found existing installation: pandas 1.5.3\n    Not uninstalling pandas at /databricks/python3/lib/python3.11/site-packages, outside environment /local_disk0/.ephemeral_nfs/envs/pythonEnv-b9ed5074-0197-4f36-9eed-a14d6469de37\n    Can't uninstall 'pandas'. No files were found to uninstall.\nSuccessfully installed mizani-0.11.4 pandas-2.2.2 plotnine-0.13.6 tzdata-2024.1\n\u001B[43mNote: you may need to restart the kernel using dbutils.library.restartPython() to use updated packages.\u001B[0m\n"
     ]
    }
   ],
   "source": [
    "%pip install sqlalchemy\n",
    "%pip install plotnine\n",
    "# %pip install mlflow\n"
   ]
  },
  {
   "cell_type": "code",
   "execution_count": 0,
   "metadata": {
    "application/vnd.databricks.v1+cell": {
     "cellMetadata": {
      "byteLimit": 2048000,
      "rowLimit": 10000
     },
     "inputWidgets": {},
     "nuid": "ece27cbc-b9ee-4dc0-a861-7e181093923d",
     "showTitle": false,
     "title": ""
    }
   },
   "outputs": [],
   "source": [
    "dbutils.library.restartPython()"
   ]
  },
  {
   "cell_type": "code",
   "execution_count": 0,
   "metadata": {
    "application/vnd.databricks.v1+cell": {
     "cellMetadata": {
      "byteLimit": 2048000,
      "rowLimit": 10000
     },
     "inputWidgets": {},
     "nuid": "b0f39373-5279-42a2-9325-39927ac0e0a7",
     "showTitle": false,
     "title": ""
    }
   },
   "outputs": [],
   "source": [
    "import pandas as pd\n",
    "import numpy as np\n",
    "import os\n",
    "from sqlalchemy import create_engine\n",
    "import datetime as dt\n",
    "from sklearn.cluster import KMeans\n",
    "from sklearn.metrics import silhouette_score\n",
    "from plotnine import ggplot, geom_point, aes, geom_line, xlab\n",
    "from pyspark.sql.functions import when, col\n",
    "from pyspark.sql import functions as F"
   ]
  },
  {
   "cell_type": "code",
   "execution_count": 0,
   "metadata": {
    "application/vnd.databricks.v1+cell": {
     "cellMetadata": {
      "byteLimit": 2048000,
      "rowLimit": 10000
     },
     "inputWidgets": {},
     "nuid": "3722e2e6-97b3-4556-8ec0-a292b484eade",
     "showTitle": false,
     "title": ""
    },
    "jupyter": {
     "source_hidden": true
    }
   },
   "outputs": [],
   "source": [
    "import pandas as pd\n",
    "import numpy as np\n",
    "\n",
    "def get_data(con,query):\n",
    "\n",
    "  cur=con.cursor()\n",
    "  return pd.DataFrame(cur.execute(query).fetch_dataframe())\n",
    "\n",
    "def get_mode_per_column(dataframe, group_cols, col):\n",
    "    return (dataframe.fillna(-1) # NaN placeholder to keep group \n",
    "            .groupby(group_cols + [col])\n",
    "            .size()\n",
    "            .to_frame('count')\n",
    "            .reset_index()\n",
    "            .sort_values('count', ascending=False)\n",
    "            .drop_duplicates(subset=group_cols)\n",
    "            .drop(columns=['count'])\n",
    "            .sort_values(group_cols)\n",
    "            .replace(-1, np.NaN))  # restore NaNs\n",
    "\n",
    "def max_and_join(df,vector,col_name):\n",
    "\n",
    "    df['temp']=vector\n",
    "    temp=df[['PERSON_PR_ID','temp']].groupby('PERSON_PR_ID').max()\n",
    "    df=df.join(temp,on='PERSON_PR_ID',rsuffix='_').rename(columns={'temp_':col_name})\n",
    "    df=df.drop(columns=['temp'])\n",
    "    return df\n",
    "\n",
    "def replace_with_unknown(df,col):\n",
    "    df[col]=df[col].fillna('Unknown')\n",
    "    return df\n",
    "\n",
    "def replace_with_zero(df,col):\n",
    "    df[col]=df[col].fillna(0)\n",
    "    return df\n"
   ]
  },
  {
   "cell_type": "code",
   "execution_count": 0,
   "metadata": {
    "application/vnd.databricks.v1+cell": {
     "cellMetadata": {
      "byteLimit": 2048000,
      "rowLimit": 10000
     },
     "inputWidgets": {},
     "nuid": "25f42ff6-b7b3-4ee0-91ff-680aa5a6f5f2",
     "showTitle": false,
     "title": ""
    }
   },
   "outputs": [],
   "source": [
    "pd.set_option('display.max_columns', None)\n",
    "pd.options.mode.chained_assignment = None"
   ]
  },
  {
   "cell_type": "code",
   "execution_count": 0,
   "metadata": {
    "application/vnd.databricks.v1+cell": {
     "cellMetadata": {
      "byteLimit": 2048000,
      "rowLimit": 10000
     },
     "inputWidgets": {},
     "nuid": "96011b37-9faa-4175-8481-7309dbfbd886",
     "showTitle": false,
     "title": ""
    }
   },
   "outputs": [],
   "source": [
    "path = \"/FileStore/tables/Hilton_Segmentation/Value_full_data\"\n",
    "Value_df = spark.read.format(\"csv\").option(\"header\",\"true\").option(\"inferSchema\",\"true\").load(path)"
   ]
  },
  {
   "cell_type": "code",
   "execution_count": 0,
   "metadata": {
    "application/vnd.databricks.v1+cell": {
     "cellMetadata": {
      "byteLimit": 2048000,
      "rowLimit": 10000
     },
     "inputWidgets": {},
     "nuid": "04d029b0-64ef-4aff-936b-cd3c0fea825a",
     "showTitle": false,
     "title": ""
    }
   },
   "outputs": [],
   "source": [
    "df_spark = pd.read_csv('RAPP_Spark_Customers.csv')"
   ]
  },
  {
   "cell_type": "code",
   "execution_count": 0,
   "metadata": {
    "application/vnd.databricks.v1+cell": {
     "cellMetadata": {
      "byteLimit": 2048000,
      "rowLimit": 10000
     },
     "inputWidgets": {},
     "nuid": "77261dd2-0653-4ba6-bd92-684e8a754173",
     "showTitle": false,
     "title": ""
    }
   },
   "outputs": [],
   "source": [
    "df_spark.replace(['(null)', 'null', 'None'], None, inplace=True)\n",
    "\n",
    "# Convert the Pandas DataFrame to a Spark DataFrame\n",
    "df_spark = spark.createDataFrame(df_spark)\n",
    "\n",
    "# Return the converted Spark DataFrame\n",
    "# df_rapp_spark.display()"
   ]
  },
  {
   "cell_type": "code",
   "execution_count": 0,
   "metadata": {
    "application/vnd.databricks.v1+cell": {
     "cellMetadata": {
      "byteLimit": 2048000,
      "rowLimit": 10000
     },
     "inputWidgets": {},
     "nuid": "75048eb3-d440-489b-a120-6d2147bc0171",
     "showTitle": false,
     "title": ""
    }
   },
   "outputs": [],
   "source": [
    "df_spark = df_spark.withColumn('canopy_LIT_p12m', when(col('cust_stays_canopy_p12m')>=1, 1).otherwise(0))\\\n",
    "       .withColumn('canopy_LIT_p36m', when(col('cust_stays_canopy_p36m')>=1, 1).otherwise(0))\\\n",
    "       .withColumn('tempo_LIT_p12m', when(col('cust_stays_tempo_p12m')>=1, 1).otherwise(0))\\\n",
    "       .withColumn('tempo_LIT_p36m', when(col('cust_stays_tempo_p36m')>=1, 1).otherwise(0))\\\n",
    "       .withColumn('motto_LIT_p12m', when(col('cust_stays_motto_p12m')>=1, 1).otherwise(0))\\\n",
    "       .withColumn('motto_LIT_p36m', when(col('cust_stays_motto_p36m')>=1, 1).otherwise(0))\\\n",
    "       .withColumn('curio_LIT_p12m', when(col('cust_stays_curio_p12m')>=1, 1).otherwise(0))\\\n",
    "       .withColumn('curio_LIT_p36m', when(col('cust_stays_curio_p36m')>=1, 1).otherwise(0))\\\n",
    "       .withColumn('tapestry_LIT_p12m', when(col('cust_stays_tapestry_p12m')>=1, 1).otherwise(0))\\\n",
    "       .withColumn('tapestry_LIT_p36m', when(col('cust_stays_tapestry_p36m')>=1, 1).otherwise(0))\\\n",
    "       .withColumn('LIT_stays_p12m', col('cust_stays_canopy_p12m') + col('cust_stays_tempo_p12m') +\n",
    "                   col('cust_stays_motto_p12m') + col('cust_stays_curio_p12m') + col('cust_stays_tapestry_p12m'))\\\n",
    "       .withColumn('LIT_stays_p36m', col('cust_stays_canopy_p36m') + col('cust_stays_tempo_p36m') +\n",
    "                   col('cust_stays_motto_p36m') + col('cust_stays_curio_p36m') + col('cust_stays_tapestry_p36m'))\\\n",
    "       .withColumn('LIT_stays_p12m_flag', when(col(\"LIT_stays_p12m\")>=1, 1).otherwise(0))\\\n",
    "       .withColumn('LIT_stays_p36m_flag', when(col(\"LIT_stays_p36m\")>=1, 1).otherwise(0))\\\n",
    "       .withColumn('All_stays_p12m', col('CUST_DOMESTIC_STAYS_P12M') + col('CUST_INTL_STAYS_P12M'))\\\n",
    "       .withColumn('All_stays_p36m', col('CUST_DOMESTIC_STAYS_P36M') + col('CUST_INTL_STAYS_P36M'))\\\n",
    "       .withColumn('hampton_Value_p12m', when(col('cust_stays_hampton_p12m')>=1, 1).otherwise(0))\\\n",
    "       .withColumn('hampton_Value_p36m', when(col('cust_stays_hampton_p36m')>=1, 1).otherwise(0))\\\n",
    "       .withColumn('tru_Value_p12m', when(col('cust_stays_tru_p12m')>=1, 1).otherwise(0))\\\n",
    "       .withColumn('tru_Value_p36m', when(col('cust_stays_tru_p36m')>=1, 1).otherwise(0))\\\n",
    "       .withColumn('Spark_Value_p12m', when(col('cust_stays_Spark_p12m')>=1, 1).otherwise(0))\\\n",
    "       .withColumn('Spark_Value_p36m', when(col('cust_stays_Spark_p36m')>=1, 1).otherwise(0))\\\n",
    "       .withColumn('Value_stays_p12m', col('cust_stays_hampton_p12m') + col('cust_stays_tru_p12m') + col('cust_stays_Spark_p12m'))\\\n",
    "       .withColumn('Value_stays_p36m', col('cust_stays_hampton_p36m') + col('cust_stays_tru_p36m') + col('cust_stays_Spark_p36m'))\\\n",
    "       .withColumn('Value_stays_p12m_flag', when(col(\"Value_stays_p12m\")>=1, 1).otherwise(0))\\\n",
    "       .withColumn('Value_stays_p36m_flag', when(col(\"Value_stays_p36m\")>=1, 1).otherwise(0))\\\n",
    "       .withColumn('reward_stay_p12m', when(col('REWARD_HH_STAYS_P12M')>=1, 1).otherwise(0))\\\n",
    "       .withColumn('reward_stay_p36m', when(col('REWARD_HH_STAYS_P36M')>=1, 1).otherwise(0))\\\n",
    "       .withColumn('customer_count', when(col('MARKETABLE_CUSTOMER')>=0, 1).otherwise(0))\\\n",
    "       .withColumn('Cust_stays_p36m_grp', when(col(\"Cust_stays_p36m\")>=20, 20).otherwise(col(\"Cust_stays_p36m\")))\\\n",
    "       .withColumn('Cust_nights_p36m_grp', when(col(\"Cust_nights_p36m\")>=40, 40).otherwise(col(\"Cust_nights_p36m\")))\\\n",
    "       .withColumn('CUST_FOLIO_P36M_grp', F.round(col('CUST_FOLIO_P36M')/100, 0))\\\n",
    "       .withColumn('CUST_FOOD_P36M_grp', F.round(col('CUST_FOOD_SPEND_P36M')/100, 0))\\\n",
    "       .withColumn('CUST_BEVERAGE_P36M_grp', F.round(col('CUST_BEVERAGE_SPEND_P36M')/100, 0))\\\n",
    "       .withColumn('CUST_FOLIO_P36M_grp2', when(col('CUST_FOLIO_P36M_grp')>50, 50).otherwise(col('CUST_FOLIO_P36M_grp')))\\\n",
    "       .withColumn('CUST_HIGH_VALUE', when((col('CUST_FOLIO_P36M')>=3000) | (col('cust_stays_p36m')>=10) | (col('cust_nights_p36m')>=20), 1).otherwise(0))\\\n",
    "       .withColumn('CUST_FOOD_P36M_grp2', when(col('CUST_FOOD_P36M_grp')>100, 100).otherwise(col('CUST_FOOD_P36M_grp')))\\\n",
    "       .withColumn('CUST_BEVERAGE_P36M_grp2', when(col('CUST_BEVERAGE_P36M_grp')>100, 100).otherwise(col('CUST_BEVERAGE_P36M_grp')))\\\n",
    "       .withColumn('CUST_FOLIO_CANOPY_P36M_v2', F.nanvl(F.col(\"CUST_FOLIO_CANOPY_P36M\"), F.lit(0)))\\\n",
    "       .withColumn('CUST_AVG_PTS_REDEEMED_STAY_P12M_grp', F.round(col('CUST_AVG_PTS_REDEEMED_STAY_P12M')/1000, 0))"
   ]
  },
  {
   "cell_type": "code",
   "execution_count": 0,
   "metadata": {
    "application/vnd.databricks.v1+cell": {
     "cellMetadata": {
      "byteLimit": 2048000,
      "rowLimit": 10000
     },
     "inputWidgets": {},
     "nuid": "8bf8fe0c-1fba-4342-9f63-9bbc6f5c0093",
     "showTitle": false,
     "title": ""
    }
   },
   "outputs": [],
   "source": [
    "df_spark = df_spark.filter(col(\"LIT_stays_p36m_flag\") == 0)"
   ]
  },
  {
   "cell_type": "code",
   "execution_count": 0,
   "metadata": {
    "application/vnd.databricks.v1+cell": {
     "cellMetadata": {
      "byteLimit": 2048000,
      "rowLimit": 10000
     },
     "inputWidgets": {},
     "nuid": "ae66a4a3-9f4f-4c6d-a55a-14b446589103",
     "showTitle": false,
     "title": ""
    }
   },
   "outputs": [],
   "source": [
    "Value_df = Value_df.join(df_spark, Value_df['HILTON_CUSTOMER_ID'] == df_spark['hilton_customer_id'], 'left_anti')"
   ]
  },
  {
   "cell_type": "code",
   "execution_count": 0,
   "metadata": {
    "application/vnd.databricks.v1+cell": {
     "cellMetadata": {
      "byteLimit": 2048000,
      "rowLimit": 10000
     },
     "inputWidgets": {},
     "nuid": "8764c0e1-b210-49f5-952a-82663db09141",
     "showTitle": false,
     "title": ""
    }
   },
   "outputs": [],
   "source": [
    "# Value_df = Value_df.limit(2000000)\n",
    "Value_df = Value_df.sample(fraction = 0.15, seed=42)"
   ]
  },
  {
   "cell_type": "code",
   "execution_count": 0,
   "metadata": {
    "application/vnd.databricks.v1+cell": {
     "cellMetadata": {
      "byteLimit": 2048000,
      "rowLimit": 10000
     },
     "inputWidgets": {},
     "nuid": "be76be5e-8559-46da-b6a5-b30adbd11f1a",
     "showTitle": false,
     "title": ""
    }
   },
   "outputs": [
    {
     "output_type": "stream",
     "name": "stdout",
     "output_type": "stream",
     "text": [
      "Number of rows: 6267796\nNumber of columns: 214\n"
     ]
    }
   ],
   "source": [
    "num_rows = Value_df.count()\n",
    "num_columns = len(Value_df.columns)\n",
    "\n",
    "print(f\"Number of rows: {num_rows}\")\n",
    "print(f\"Number of columns: {num_columns}\")"
   ]
  },
  {
   "cell_type": "code",
   "execution_count": 0,
   "metadata": {
    "application/vnd.databricks.v1+cell": {
     "cellMetadata": {
      "byteLimit": 2048000,
      "rowLimit": 10000
     },
     "inputWidgets": {},
     "nuid": "8ccb0c16-76af-4e19-9ff8-60635b5404fa",
     "showTitle": false,
     "title": ""
    }
   },
   "outputs": [
    {
     "output_type": "stream",
     "name": "stderr",
     "output_type": "stream",
     "text": [
      "/databricks/spark/python/pyspark/sql/connect/conf.py:48: UserWarning: The SQL config 'spark.sql.execution.arrow.enabled' is NOT supported in Spark Connect\n"
     ]
    }
   ],
   "source": [
    "spark.conf.set(\"spark.sql.execution.arrow.enabled\",\"true\")"
   ]
  },
  {
   "cell_type": "code",
   "execution_count": 0,
   "metadata": {
    "application/vnd.databricks.v1+cell": {
     "cellMetadata": {
      "byteLimit": 2048000,
      "rowLimit": 10000
     },
     "inputWidgets": {},
     "nuid": "3ddfa16c-61a8-495d-98ac-6c56bd8b2a3c",
     "showTitle": false,
     "title": ""
    }
   },
   "outputs": [],
   "source": [
    "# # V1\n",
    "clustering_columns = ['HONORS_ACTIVE_FLAG', 'HONORS_TIER', 'DISTINCT_COUNTRIES_PAST_12MONTHS', \n",
    "                      'MARKETABLE_CUSTOMER', 'COBRAND_CARDHOLDER_FLAG', 'PRIMARY_STAY_TYPE_LIFETIME', \n",
    "                      'PRIMARY_CHANNEL_LIFETIME', 'HONORS_ENROLL_YEAR', 'FIRST_CHECKOUT_YEAR', 'COBRAND_ENROLL_YEAR_POST_2018',\n",
    "                      'PROMO_REGISTRANT_FLAG_P12M', 'PREFERRED_LANGUGAGE_GROUPING', \n",
    "                      'US_HONORS_INCOME_RANGE_DETAILED', 'US_HONORS_HOUSEHOLD_SIZE', \n",
    "                      'PT_REDEEMER_PAST_12MONTHS', 'CUST_FOOD_SPEND_P36M', 'CUST_BEVERAGE_SPEND_P36M',\n",
    "                      'CUST_STAYS_P36M', 'CUST_NIGHTS_P36M', 'CUST_FOLIO_P36M', 'CUST_STAYS_RESORT_P36M', \n",
    "                      'CUST_STAYS_LUXURY_BRAND_DIV_P36M',  \n",
    "                      'FB_FOLIO_RATIO',\n",
    "                      'TOTAL_TRIP_DIST_MILES_P36M', 'EMAIL_CLICKS_P36M']\n",
    "\n",
    "# clustering_columns = ['HONORS_ACTIVE_FLAG', 'HONORS_TIER', 'DISTINCT_COUNTRIES_PAST_12MONTHS', \n",
    "#                       'MARKETABLE_CUSTOMER', 'COBRAND_CARDHOLDER_FLAG', 'PRIMARY_STAY_TYPE_LIFETIME', \n",
    "#                       'PRIMARY_CHANNEL_LIFETIME', 'HONORS_ENROLL_YEAR', 'FIRST_CHECKOUT_YEAR', 'COBRAND_ENROLL_YEAR_POST_2018',\n",
    "#                       'PROMO_REGISTRANT_FLAG_P12M', 'PREFERRED_LANGUGAGE_GROUPING',  'CUST_FOOD_SPEND_P36M', \n",
    "#                       'CUST_BEVERAGE_SPEND_P36M', 'US_HONORS_INCOME_RANGE_DETAILED', 'US_HONORS_HOUSEHOLD_SIZE', \n",
    "#                       'PT_REDEEMER_PAST_12MONTHS', 'UNIQUE_BRANDS_P12M_BUCKETS', 'FB_FOLIO_RATIO',\n",
    "#                       'US_HONORS_OCCUPATION', 'US_HONORS_OCCUPATION_DETAILED', 'UNIQUE_BRANDS_P12M_BUCKETS', 'FB_FOLIO_RATIO',\n",
    "#                       'UNIQUE_BRANDS_P36M_BUCKETS', 'CUST_MASS_PROMO_STAYS_P36M', 'CUST_MASS_PROMO_NIGHTS_P36M', \n",
    "#                       'CUST_STAYS_P36M', 'CUST_NIGHTS_P36M', 'CUST_FOLIO_P36M', 'CUST_STAYS_RESORT_P36M', \n",
    "#                       'CUST_STAYS_LUXURY_BRAND_DIV_P36M', 'TOTAL_TRIP_DIST_MILES_P36M', 'EMAIL_CLICKS_P36M']\n",
    "\n",
    "profiling_columns = ['CUSTOMER_SEGMENT', 'COBRAND_SEG', 'LIFETIME_DIAMOND_FLAG', \n",
    "                     'ORGANIC_INORGANIC_FLAG', 'ENROLL_CHANNEL', 'APP_LAUNCHER_P12M', \n",
    "                     'CUSTOMER_REGION_CODE', \n",
    "                     'CUSTOMER_COUNTRY', 'HGV_OWNER_FLAG', 'PRIMARY_BRAND_LT', \n",
    "                     'US_HONORS_OCCUPATION', 'US_HONORS_OCCUPATION_DETAILED', 'US_HONORS_LIFE_STAGE',\n",
    "                     'UPSCALE_PROPENSITY', 'POINTS_BALANCE_CATEGORIES', 'UNIQUE_BRANDS_P12M_BUCKETS', \n",
    "                     'UNIQUE_BRANDS_P36M_BUCKETS', 'FIRST_PREFERRED_BOOKING_RATE_P36M', \n",
    "                     'SECOND_PREFERRED_BOOKING_RATE_P36M', 'THIRD_PREFERRED_BOOKING_RATE_P31M',\n",
    "                     'CUST_AVG_PTS_REDEEMED_STAY_P12M', 'CUSTOMER_VALUE_FY2022', 'CUSTOMER_VALUE_3YEARS',\n",
    "                     'REWARD_HH_STAYS_P12M', 'REWARD_HH_STAYS_P36M', 'CUST_UNIQUE_BRANDS_P12M', \n",
    "                     'CUST_UNIQUE_BRANDS_P36M', 'CUST_STAYS_P12M', 'CUST_NIGHTS_P12M', 'CUST_FOLIO_P12M', \n",
    "                     'CUST_FOOD_SPEND_P12M', 'CUST_BEVERAGE_SPEND_P12M', \n",
    "                     'CUST_FOOD_SPEND_P36M', 'CUST_BEVERAGE_SPEND_P36M', \n",
    "                     'CUST_STAYS_RESORT_P12M', 'CUST_STAYS_LUXURY_BRAND_DIV_P12M', \n",
    "                     'CUST_DOMESTIC_STAYS_P12M', 'CUST_INTL_STAYS_P12M',\n",
    "                     'CUST_DOMESTIC_STAYS_P36M', 'CUST_INTL_STAYS_P36M', \n",
    "                     'TOTAL_TRIP_DIST_MILES_P12M', 'TOTAL_DOMESTIC_TRIP_DIST_MILES_P12M', \n",
    "                     'TOTAL_INTL_TRIP_DIST_MILES_P12M', 'EMAIL_CLICKS_P12M', \n",
    "                     'CUST_STAYS_HAMPTON_P12M', 'CUST_STAYS_HAMPTON_P36M', \n",
    "                     'CUST_STAYS_HILTON_P12M', 'CUST_STAYS_HILTON_P36M', 'CUST_STAYS_HGI_P12M', \n",
    "                     'CUST_STAYS_HGI_P36M', 'CUST_STAYS_HOMEWOOD_P12M', 'CUST_STAYS_HOMEWOOD_P36M', \n",
    "                     'CUST_STAYS_DOUBLETREE_P12M', 'CUST_STAYS_DOUBLETREE_P36M', 'CUST_STAYS_EMBASSY_P12M', \n",
    "                     'CUST_STAYS_EMBASSY_P36M', 'CUST_STAYS_HOME2_P12M', 'CUST_STAYS_HOME2_P36M', \n",
    "                     'CUST_STAYS_TRU_P12M', 'CUST_STAYS_TRU_P36M', 'CUST_STAYS_CANOPY_P12M', \n",
    "                     'CUST_STAYS_CANOPY_P36M', 'CUST_STAYS_TAPESTRY_P12M', 'CUST_STAYS_TAPESTRY_P36M', \n",
    "                     'CUST_STAYS_CONRAD_P12M', 'CUST_STAYS_CONRAD_P36M', 'CUST_STAYS_CURIO_P12M', \n",
    "                     'CUST_STAYS_CURIO_P36M', 'CUST_STAYS_WALDORF_P12M', 'CUST_STAYS_WALDORF_P36M', \n",
    "                     'CUST_STAYS_LXR_P12M', 'CUST_STAYS_LXR_P36M', 'CUST_STAYS_MOTTO_P12M', \n",
    "                     'CUST_STAYS_MOTTO_P36M', 'CUST_STAYS_SIGNIA_P12M', 'CUST_STAYS_SIGNIA_P36M', \n",
    "                     'CUST_STAYS_TEMPO_P12M', 'CUST_STAYS_TEMPO_P36M', 'CUST_FOLIO_HAMPTON_P12M', \n",
    "                     'CUST_FOLIO_HAMPTON_P36M', 'CUST_FOLIO_HILTON_P12M', 'CUST_FOLIO_HILTON_P36M', \n",
    "                     'CUST_FOLIO_HGI_P12M', 'CUST_FOLIO_HGI_P36M', 'CUST_FOLIO_HOMEWOOD_P12M', \n",
    "                     'CUST_FOLIO_HOMEWOOD_P36M', 'CUST_FOLIO_DOUBLETREE_P12M', 'CUST_FOLIO_DOUBLETREE_P36M', \n",
    "                     'CUST_FOLIO_EMBASSY_P12M', 'CUST_FOLIO_EMBASSY_P36M', 'CUST_FOLIO_HOME2_P12M', \n",
    "                     'CUST_FOLIO_HOME2_P36M', 'CUST_FOLIO_TRU_P12M', 'CUST_FOLIO_TRU_P36M', \n",
    "                     'CUST_FOLIO_CANOPY_P12M', 'CUST_FOLIO_CANOPY_P36M', 'CUST_FOLIO_TAPESTRY_P12M', \n",
    "                     'CUST_FOLIO_TAPESTRY_P36M', 'CUST_FOLIO_CONRAD_P12M', 'CUST_FOLIO_CONRAD_P36M', \n",
    "                     'CUST_FOLIO_CURIO_P12M', 'CUST_FOLIO_CURIO_P36M', 'CUST_FOLIO_WALDORF_P12M', \n",
    "                     'CUST_FOLIO_WALDORF_P36M', 'CUST_FOLIO_LXR_P12M', 'CUST_FOLIO_LXR_P36M', \n",
    "                     'CUST_FOLIO_MOTTO_P12M', 'CUST_FOLIO_MOTTO_P36M', 'CUST_FOLIO_SIGNIA_P12M', \n",
    "                     'CUST_FOLIO_SIGNIA_P36M', 'CUST_FOLIO_TEMPO_P12M', 'CUST_FOLIO_TEMPO_P36M', \n",
    "                     'CUST_NIGHTS_HAMPTON_P12M', 'CUST_NIGHTS_HAMPTON_P36M', 'CUST_NIGHTS_HILTON_P12M', \n",
    "                     'CUST_NIGHTS_HILTON_P36M', 'CUST_NIGHTS_HGI_P12M', 'CUST_NIGHTS_HGI_P36M', \n",
    "                     'CUST_NIGHTS_HOMEWOOD_P12M', 'CUST_NIGHTS_HOMEWOOD_P36M', \n",
    "                     'CUST_NIGHTS_DOUBLETREE_P12M', \n",
    "                     'CUST_NIGHTS_DOUBLETREE_P36M', 'CUST_NIGHTS_EMBASSY_P12M', 'CUST_NIGHTS_EMBASSY_P36M', \n",
    "                     'CUST_NIGHTS_HOME2_P12M', 'CUST_NIGHTS_HOME2_P36M', 'CUST_NIGHTS_TRU_P12M', \n",
    "                     'CUST_NIGHTS_TRU_P36M', 'CUST_NIGHTS_CANOPY_P12M', 'CUST_NIGHTS_CANOPY_P36M', \n",
    "                     'CUST_NIGHTS_TAPESTRY_P12M', 'CUST_NIGHTS_TAPESTRY_P36M', 'CUST_NIGHTS_CONRAD_P12M', \n",
    "                     'CUST_NIGHTS_CONRAD_P36M', 'CUST_NIGHTS_CURIO_P12M', 'CUST_NIGHTS_CURIO_P36M', \n",
    "                     'CUST_NIGHTS_WALDORF_P12M', 'CUST_NIGHTS_WALDORF_P36M', 'CUST_NIGHTS_LXR_P12M', \n",
    "                     'CUST_NIGHTS_LXR_P36M', 'CUST_NIGHTS_MOTTO_P12M', 'CUST_NIGHTS_MOTTO_P36M', \n",
    "                     'CUST_NIGHTS_SIGNIA_P12M', 'CUST_NIGHTS_SIGNIA_P36M', 'CUST_NIGHTS_TEMPO_P12M', \n",
    "                     'CUST_NIGHTS_TEMPO_P36M', 'COBRAND_CARD_SPEND_P12M', 'COBRAND_CARD_SPEND_36M', \n",
    "                     'COBRAND_CARD_HILTON_SPEND_P12M', 'COBRAND_CARD_HILTON_SPEND_P36M', \n",
    "                     'CUST_STAYS_DIRECT_P12M', \n",
    "                     'CUST_STAYS_DIRECT_P36M', 'CUST_STAYS_INDIRECT_P12M', 'CUST_STAYS_INDIRECT_P36M', \n",
    "                     'CUST_STAYS_OTA_P12M', 'CUST_STAYS_OTA_P36M', 'CUST_STAYS_OTHER_P12M', \n",
    "                     'CUST_STAYS_OTHER_P36M',\n",
    "                     'CUST_MASS_PROMO_STAYS_P12M', 'CUST_MASS_PROMO_STAYS_P36M', \n",
    "                     'CUST_MASS_PROMO_NIGHTS_P12M', \n",
    "                     'CUST_MASS_PROMO_NIGHTS_P36M', 'TOTAL_DOMESTIC_TRIP_DIST_MILES_P36M', \n",
    "                     'TOTAL_INTL_TRIP_DIST_MILES_P36M']"
   ]
  },
  {
   "cell_type": "code",
   "execution_count": 0,
   "metadata": {
    "application/vnd.databricks.v1+cell": {
     "cellMetadata": {
      "byteLimit": 2048000,
      "rowLimit": 10000
     },
     "inputWidgets": {},
     "nuid": "2450e442-b961-496c-9465-cb41dd79ef42",
     "showTitle": false,
     "title": ""
    }
   },
   "outputs": [],
   "source": [
    "# y = x[[\"HONORS_ACTIVE_FLAG\", \"DISTINCT_COUNTRIES_PAST_12MONTHS\", \"US_HONORS_INCOME_RANGE_DETAILED\", \n",
    "#        \"US_HONORS_HOUSEHOLD_SIZE\", 'EMAIL_CLICKS_P36M', 'HONORS_TIER', 'MARKETABLE_CUSTOMER', \n",
    "#        'COBRAND_CARDHOLDER_FLAG', 'PRIMARY_STAY_TYPE_LIFETIME',  'Diff_FCY_NOW',\n",
    "#        'PRIMARY_CHANNEL_LIFETIME', 'PROMO_REGISTRANT_FLAG_P12M', 'PREFERRED_LANGUGAGE_GROUPING',\n",
    "#        'CUST_MASS_PROMO_STAYS_P36M', 'CUST_MASS_PROMO_NIGHTS_P36M', 'UNIQUE_BRANDS_P36M_BUCKETS',\n",
    "#        'PT_REDEEMER_PAST_12MONTHS', 'CUST_STAYS_RESORT_P36M', 'CUST_STAYS_LUXURY_BRAND_DIV_P36M', \n",
    "#        'CUST_STAYS_P36M', 'FB_FOLIO_RATIO', 'FOLIO_NIGHTS_RATIO', 'TRIP_MILES_PER_STAY']]\n",
    "\n",
    "# newdata2 = pd.concat([newdata.reset_index(drop=True), \n",
    "#                       pd.get_dummies(customers[['CUSTOMER_SEGMENT', 'COBRAND_SEG', 'LIFETIME_DIAMOND_FLAG', 'ORGANIC_INORGANIC_FLAG', \n",
    "#            'ENROLL_CHANNEL', 'APP_LAUNCHER_P12M', 'CUSTOMER_REGION_CODE', 'CUSTOMER_COUNTRY', 'FB_FOLIO_RATIO',\n",
    "#            'HGV_OWNER_FLAG', 'PRIMARY_BRAND_LT', 'US_HONORS_OCCUPATION', 'US_HONORS_OCCUPATION_DETAILED', \n",
    "#            'US_HONORS_LIFE_STAGE', 'UPSCALE_PROPENSITY', 'POINTS_BALANCE_CATEGORIES',\n",
    "#            'UNIQUE_BRANDS_P12M_BUCKETS', 'UNIQUE_BRANDS_P36M_BUCKETS', 'FIRST_PREFERRED_BOOKING_RATE_P36M', \n",
    "#            'SECOND_PREFERRED_BOOKING_RATE_P36M', 'THIRD_PREFERRED_BOOKING_RATE_P31M']])])"
   ]
  },
  {
   "cell_type": "code",
   "execution_count": 0,
   "metadata": {
    "application/vnd.databricks.v1+cell": {
     "cellMetadata": {
      "byteLimit": 2048000,
      "rowLimit": 10000
     },
     "inputWidgets": {},
     "nuid": "3d447c6b-22cf-4eb7-833a-59a685a7e05a",
     "showTitle": false,
     "title": ""
    }
   },
   "outputs": [],
   "source": [
    "from pyspark.sql.functions import col, to_timestamp, date_format\n",
    "\n",
    "df_with_string_dates = Value_df.withColumn(\"FIRST_CHECKOUT_YEAR\", date_format(to_timestamp(col(\"FIRST_CHECKOUT_YEAR\")), \"yyyy-MM-dd HH:mm:ss\")) \\\n",
    "    .withColumn(\"COBRAND_ENROLL_YEAR_POST_2018\", date_format(to_timestamp(col(\"COBRAND_ENROLL_YEAR_POST_2018\")), \"yyyy-MM-dd HH:mm:ss\")) \\\n",
    "    .withColumn(\"HONORS_ENROLL_YEAR\", date_format(to_timestamp(col(\"HONORS_ENROLL_YEAR\")), \"yyyy-MM-dd HH:mm:ss\"))\n"
   ]
  },
  {
   "cell_type": "code",
   "execution_count": 0,
   "metadata": {
    "application/vnd.databricks.v1+cell": {
     "cellMetadata": {
      "byteLimit": 2048000,
      "rowLimit": 10000
     },
     "inputWidgets": {},
     "nuid": "bb1f5595-8664-482e-9ad8-1bbcd2a570bf",
     "showTitle": false,
     "title": ""
    }
   },
   "outputs": [],
   "source": [
    "# Convert the Spark DataFrame to a Pandas DataFrame\n",
    "customers = df_with_string_dates.select('HONORS_ACTIVE_FLAG', 'HONORS_TIER', 'DISTINCT_COUNTRIES_PAST_12MONTHS', \n",
    "                      'MARKETABLE_CUSTOMER', 'COBRAND_CARDHOLDER_FLAG', 'PRIMARY_STAY_TYPE_LIFETIME', \n",
    "                      'PRIMARY_CHANNEL_LIFETIME', 'HONORS_ENROLL_YEAR', 'FIRST_CHECKOUT_YEAR', 'COBRAND_ENROLL_YEAR_POST_2018',\n",
    "                      'PROMO_REGISTRANT_FLAG_P12M', 'PREFERRED_LANGUGAGE_GROUPING', \n",
    "                      'US_HONORS_INCOME_RANGE_DETAILED', 'US_HONORS_HOUSEHOLD_SIZE', \n",
    "                      'PT_REDEEMER_PAST_12MONTHS',\n",
    "                      'CUST_STAYS_P36M', 'CUST_NIGHTS_P36M', 'CUST_FOLIO_P36M', 'CUST_STAYS_RESORT_P36M', \n",
    "                      'CUST_STAYS_LUXURY_BRAND_DIV_P36M',  \n",
    "                      'TOTAL_TRIP_DIST_MILES_P36M', 'EMAIL_CLICKS_P36M', 'CUSTOMER_SEGMENT', 'COBRAND_SEG', 'LIFETIME_DIAMOND_FLAG', 'ORGANIC_INORGANIC_FLAG', \n",
    "           'ENROLL_CHANNEL', 'APP_LAUNCHER_P12M', 'CUSTOMER_REGION_CODE', 'CUSTOMER_COUNTRY',\n",
    "           'HGV_OWNER_FLAG', 'PRIMARY_BRAND_LT', 'US_HONORS_OCCUPATION', 'US_HONORS_OCCUPATION_DETAILED', \n",
    "           'US_HONORS_LIFE_STAGE', 'UPSCALE_PROPENSITY', 'POINTS_BALANCE_CATEGORIES',\n",
    "           'UNIQUE_BRANDS_P12M_BUCKETS', 'UNIQUE_BRANDS_P36M_BUCKETS', 'FIRST_PREFERRED_BOOKING_RATE_P36M', \n",
    "           'SECOND_PREFERRED_BOOKING_RATE_P36M', 'THIRD_PREFERRED_BOOKING_RATE_P31M', \n",
    " 'CUST_AVG_PTS_REDEEMED_STAY_P12M',\n",
    " 'CUSTOMER_VALUE_FY2022',\n",
    " 'CUSTOMER_VALUE_3YEARS',\n",
    " 'REWARD_HH_STAYS_P12M',\n",
    " 'REWARD_HH_STAYS_P36M',\n",
    " 'CUST_UNIQUE_BRANDS_P12M',\n",
    " 'CUST_UNIQUE_BRANDS_P36M',\n",
    " 'CUST_STAYS_P12M',\n",
    " 'CUST_NIGHTS_P12M',\n",
    " 'CUST_FOLIO_P12M',\n",
    " 'CUST_FOOD_SPEND_P12M',\n",
    " 'CUST_BEVERAGE_SPEND_P12M',\n",
    " 'CUST_FOOD_SPEND_P36M',\n",
    " 'CUST_BEVERAGE_SPEND_P36M',\n",
    " 'CUST_STAYS_RESORT_P12M',\n",
    " 'CUST_STAYS_LUXURY_BRAND_DIV_P12M',\n",
    " 'CUST_DOMESTIC_STAYS_P12M',\n",
    " 'CUST_INTL_STAYS_P12M',\n",
    " 'CUST_DOMESTIC_STAYS_P36M',\n",
    " 'CUST_INTL_STAYS_P36M',\n",
    " 'TOTAL_TRIP_DIST_MILES_P12M',\n",
    " 'TOTAL_DOMESTIC_TRIP_DIST_MILES_P12M',\n",
    " 'TOTAL_INTL_TRIP_DIST_MILES_P12M',\n",
    " 'EMAIL_CLICKS_P12M',\n",
    " 'CUST_STAYS_HAMPTON_P12M',\n",
    " 'CUST_STAYS_HAMPTON_P36M',\n",
    " 'CUST_STAYS_HILTON_P12M',\n",
    " 'CUST_STAYS_HILTON_P36M',\n",
    " 'CUST_STAYS_HGI_P12M',\n",
    " 'CUST_STAYS_HGI_P36M',\n",
    " 'CUST_STAYS_HOMEWOOD_P12M',\n",
    " 'CUST_STAYS_HOMEWOOD_P36M',\n",
    " 'CUST_STAYS_DOUBLETREE_P12M',\n",
    " 'CUST_STAYS_DOUBLETREE_P36M',\n",
    " 'CUST_STAYS_EMBASSY_P12M',\n",
    " 'CUST_STAYS_EMBASSY_P36M',\n",
    " 'CUST_STAYS_HOME2_P12M',\n",
    " 'CUST_STAYS_HOME2_P36M',\n",
    " 'CUST_STAYS_TRU_P12M',\n",
    " 'CUST_STAYS_TRU_P36M',\n",
    " 'CUST_STAYS_CANOPY_P12M',\n",
    " 'CUST_STAYS_CANOPY_P36M',\n",
    " 'CUST_STAYS_TAPESTRY_P12M',\n",
    " 'CUST_STAYS_TAPESTRY_P36M',\n",
    " 'CUST_STAYS_CONRAD_P12M',\n",
    " 'CUST_STAYS_CONRAD_P36M',\n",
    " 'CUST_STAYS_CURIO_P12M',\n",
    " 'CUST_STAYS_CURIO_P36M',\n",
    " 'CUST_STAYS_WALDORF_P12M',\n",
    " 'CUST_STAYS_WALDORF_P36M',\n",
    " 'CUST_STAYS_LXR_P12M',\n",
    " 'CUST_STAYS_LXR_P36M',\n",
    " 'CUST_STAYS_MOTTO_P12M', \n",
    " 'CUST_STAYS_MOTTO_P36M',\n",
    " 'CUST_STAYS_SIGNIA_P12M', \n",
    " 'CUST_STAYS_SIGNIA_P36M',\n",
    " 'CUST_STAYS_TEMPO_P12M', \n",
    " 'CUST_STAYS_TEMPO_P36M', \n",
    " 'CUST_FOLIO_HAMPTON_P12M',\n",
    " 'CUST_FOLIO_HAMPTON_P36M',\n",
    " 'CUST_FOLIO_HILTON_P12M',\n",
    " 'CUST_FOLIO_HILTON_P36M',\n",
    " 'CUST_FOLIO_HGI_P12M',\n",
    " 'CUST_FOLIO_HGI_P36M',\n",
    " 'CUST_FOLIO_HOMEWOOD_P12M',\n",
    " 'CUST_FOLIO_HOMEWOOD_P36M',\n",
    " 'CUST_FOLIO_DOUBLETREE_P12M',\n",
    " 'CUST_FOLIO_DOUBLETREE_P36M',\n",
    " 'CUST_FOLIO_EMBASSY_P12M',\n",
    " 'CUST_FOLIO_EMBASSY_P36M',\n",
    " 'CUST_FOLIO_HOME2_P12M',\n",
    " 'CUST_FOLIO_HOME2_P36M',\n",
    " 'CUST_FOLIO_TRU_P12M',\n",
    " 'CUST_FOLIO_TRU_P36M',\n",
    " 'CUST_FOLIO_CANOPY_P12M',\n",
    " 'CUST_FOLIO_CANOPY_P36M',\n",
    " 'CUST_FOLIO_TAPESTRY_P12M',\n",
    " 'CUST_FOLIO_TAPESTRY_P36M',\n",
    " 'CUST_FOLIO_CONRAD_P12M',\n",
    " 'CUST_FOLIO_CONRAD_P36M',\n",
    " 'CUST_FOLIO_CURIO_P12M',\n",
    " 'CUST_FOLIO_CURIO_P36M',\n",
    " 'CUST_FOLIO_WALDORF_P12M',\n",
    " 'CUST_FOLIO_WALDORF_P36M',\n",
    " 'CUST_FOLIO_LXR_P12M',\n",
    " 'CUST_FOLIO_LXR_P36M',\n",
    " 'CUST_FOLIO_MOTTO_P12M',\n",
    " 'CUST_FOLIO_MOTTO_P36M',\n",
    " 'CUST_FOLIO_SIGNIA_P12M', \n",
    " 'CUST_FOLIO_SIGNIA_P36M',\n",
    " 'CUST_FOLIO_TEMPO_P12M', \n",
    " 'CUST_FOLIO_TEMPO_P36M', \n",
    " 'CUST_NIGHTS_HAMPTON_P12M',\n",
    " 'CUST_NIGHTS_HAMPTON_P36M',\n",
    " 'CUST_NIGHTS_HILTON_P12M',\n",
    " 'CUST_NIGHTS_HILTON_P36M',\n",
    " 'CUST_NIGHTS_HGI_P12M',\n",
    " 'CUST_NIGHTS_HGI_P36M',\n",
    " 'CUST_NIGHTS_HOMEWOOD_P12M',\n",
    " 'CUST_NIGHTS_HOMEWOOD_P36M',\n",
    " 'CUST_NIGHTS_DOUBLETREE_P12M',\n",
    " 'CUST_NIGHTS_DOUBLETREE_P36M',\n",
    " 'CUST_NIGHTS_EMBASSY_P12M',\n",
    " 'CUST_NIGHTS_EMBASSY_P36M',\n",
    " 'CUST_NIGHTS_HOME2_P12M',\n",
    " 'CUST_NIGHTS_HOME2_P36M',\n",
    " 'CUST_NIGHTS_TRU_P12M',\n",
    " 'CUST_NIGHTS_TRU_P36M',\n",
    " 'CUST_NIGHTS_CANOPY_P12M',\n",
    " 'CUST_NIGHTS_CANOPY_P36M',\n",
    " 'CUST_NIGHTS_TAPESTRY_P12M',\n",
    " 'CUST_NIGHTS_TAPESTRY_P36M',\n",
    " 'CUST_NIGHTS_CONRAD_P12M',\n",
    " 'CUST_NIGHTS_CONRAD_P36M',\n",
    " 'CUST_NIGHTS_CURIO_P12M',\n",
    " 'CUST_NIGHTS_CURIO_P36M',\n",
    " 'CUST_NIGHTS_WALDORF_P12M',\n",
    " 'CUST_NIGHTS_WALDORF_P36M',\n",
    " 'CUST_NIGHTS_LXR_P12M',\n",
    " 'CUST_NIGHTS_LXR_P36M',\n",
    " 'CUST_NIGHTS_MOTTO_P12M', \n",
    " 'CUST_NIGHTS_MOTTO_P36M', \n",
    " 'CUST_NIGHTS_SIGNIA_P12M', \n",
    " 'CUST_NIGHTS_SIGNIA_P36M', \n",
    " 'CUST_NIGHTS_TEMPO_P12M', \n",
    " 'CUST_NIGHTS_TEMPO_P36M', \n",
    " 'COBRAND_CARD_SPEND_P12M',\n",
    " 'COBRAND_CARD_SPEND_36M',\n",
    " 'COBRAND_CARD_HILTON_SPEND_P12M',\n",
    " 'COBRAND_CARD_HILTON_SPEND_P36M',\n",
    " 'CUST_STAYS_DIRECT_P12M',\n",
    " 'CUST_STAYS_DIRECT_P36M',\n",
    " 'CUST_STAYS_INDIRECT_P12M',\n",
    " 'CUST_STAYS_INDIRECT_P36M',\n",
    " 'CUST_STAYS_OTA_P12M',\n",
    " 'CUST_STAYS_OTA_P36M',\n",
    " 'CUST_STAYS_OTHER_P12M',\n",
    " 'CUST_STAYS_OTHER_P36M',\n",
    " 'CUST_MASS_PROMO_STAYS_P12M',\n",
    " 'CUST_MASS_PROMO_STAYS_P36M',\n",
    " 'CUST_MASS_PROMO_NIGHTS_P12M',\n",
    " 'CUST_MASS_PROMO_NIGHTS_P36M',\n",
    " 'TOTAL_DOMESTIC_TRIP_DIST_MILES_P36M',\n",
    " 'TOTAL_INTL_TRIP_DIST_MILES_P36M'\n",
    ").toPandas()"
   ]
  },
  {
   "cell_type": "code",
   "execution_count": 0,
   "metadata": {
    "application/vnd.databricks.v1+cell": {
     "cellMetadata": {
      "byteLimit": 2048000,
      "rowLimit": 10000
     },
     "inputWidgets": {},
     "nuid": "b93543ea-5e92-4acd-9265-4877488f5f17",
     "showTitle": false,
     "title": ""
    }
   },
   "outputs": [],
   "source": [
    "# columns_to_fill = ['CUSTOMER_SEGMENT', 'COBRAND_SEG', 'LIFETIME_DIAMOND_FLAG', 'ORGANIC_INORGANIC_FLAG', \n",
    "#            'ENROLL_CHANNEL', 'APP_LAUNCHER_P12M', 'CUSTOMER_REGION_CODE', 'CUSTOMER_COUNTRY',\n",
    "#            'HGV_OWNER_FLAG', 'PRIMARY_BRAND_LT', 'US_HONORS_OCCUPATION', 'US_HONORS_OCCUPATION_DETAILED', \n",
    "#            'US_HONORS_LIFE_STAGE', 'UPSCALE_PROPENSITY', 'POINTS_BALANCE_CATEGORIES',\n",
    "#            'UNIQUE_BRANDS_P12M_BUCKETS', 'UNIQUE_BRANDS_P36M_BUCKETS', 'FIRST_PREFERRED_BOOKING_RATE_P36M', \n",
    "#            'SECOND_PREFERRED_BOOKING_RATE_P36M', 'THIRD_PREFERRED_BOOKING_RATE_P31M', 'PRIMARY_CHANNEL_LIFETIME']\n",
    "# customers[columns_to_fill].fillna('UNKNOWN',inplace=True)"
   ]
  },
  {
   "cell_type": "code",
   "execution_count": 0,
   "metadata": {
    "application/vnd.databricks.v1+cell": {
     "cellMetadata": {
      "byteLimit": 2048000,
      "rowLimit": 10000
     },
     "inputWidgets": {},
     "nuid": "da345f4a-db67-4526-b103-8df32a8a1594",
     "showTitle": false,
     "title": ""
    }
   },
   "outputs": [],
   "source": [
    "customers = customers.fillna({\"ORGANIC_INORGANIC_FLAG\": \"UNKNOWN\", \n",
    "              \"CUSTOMER_SEGMENT\": \"UNKNOWN\", \n",
    "              \"LIFETIME_DIAMOND_FLAG\": \"UNKNOWN\", \n",
    "              \"APP_LAUNCHER_P12M\": \"UNKNOWN\", \n",
    "              \"HGV_OWNER_FLAG\": \"UNKNOWN\", \n",
    "              \"US_HONORS_OCCUPATION\": \"UNKNOWN\", \n",
    "              \"UNIQUE_BRANDS_P12M_BUCKETS\": \"UNKNOWN\", \n",
    "              \"UNIQUE_BRANDS_P36M_BUCKETS\": \"UNKNOWN\", \n",
    "              \"US_HONORS_OCCUPATION_DETAILED\": \"UNKNOWN\",\n",
    "              \"US_HONORS_LIFE_STAGE\": \"UNKNOWN\", \n",
    "              \"POINTS_BALANCE_CATEGORIES\": \"UNKNOWN\", \n",
    "              \"FIRST_PREFERRED_BOOKING_RATE_P36M\": \"UNKNOWN\",\n",
    "              \"SECOND_PREFERRED_BOOKING_RATE_P36M\": \"UNKNOWN\",\n",
    "              \"THIRD_PREFERRED_BOOKING_RATE_P31M\": \"UNKNOWN\",\n",
    "              \"ENROLL_CHANNEL\": \"UNKNOWN\",\n",
    "              \"COBRAND_SEG\": \"UNKNOWN\",\n",
    "              \"CUSTOMER_REGION_CODE\": \"UNKNOWN\",\n",
    "              \"CUSTOMER_COUNTRY\": \"UNKNOWN\",\n",
    "              \"PRIMARY_BRAND_LT\": \"UNKNOWN\",\n",
    "              \"PRIMARY_CHANNEL_LIFETIME\": \"UNKNOWN\",\n",
    "              \"UPSCALE_PROPENSITY\": \"UNKNOWN\"\n",
    "            })"
   ]
  },
  {
   "cell_type": "code",
   "execution_count": 0,
   "metadata": {
    "application/vnd.databricks.v1+cell": {
     "cellMetadata": {
      "byteLimit": 2048000,
      "rowLimit": 10000
     },
     "inputWidgets": {},
     "nuid": "8c888c0b-8c65-4e97-97b6-165f9d9b73bc",
     "showTitle": false,
     "title": ""
    }
   },
   "outputs": [],
   "source": [
    "# customers = customers.fillna({\"FIRST_CHECKOUT_YEAR\": '2100-01-01', \n",
    "#               \"COBRAND_ENROLL_YEAR_POST_2018\": '2100-01-01', \n",
    "#               \"HONORS_ENROLL_YEAR\": '2100-01-01'\n",
    "#               })"
   ]
  },
  {
   "cell_type": "code",
   "execution_count": 0,
   "metadata": {
    "application/vnd.databricks.v1+cell": {
     "cellMetadata": {
      "byteLimit": 2048000,
      "rowLimit": 10000
     },
     "inputWidgets": {},
     "nuid": "b231b72e-37cd-4098-9d06-ceb80b223863",
     "showTitle": false,
     "title": ""
    }
   },
   "outputs": [],
   "source": [
    "columns_to_fill = [\n",
    " 'CUST_STAYS_P36M',\n",
    " 'CUST_NIGHTS_P36M',\n",
    " 'CUST_FOLIO_P36M',\n",
    " 'CUST_STAYS_RESORT_P36M',\n",
    " 'CUST_STAYS_LUXURY_BRAND_DIV_P36M',\n",
    " 'TOTAL_TRIP_DIST_MILES_P36M',\n",
    " 'EMAIL_CLICKS_P36M',\n",
    " 'CUST_AVG_PTS_REDEEMED_STAY_P12M',\n",
    " 'CUSTOMER_VALUE_FY2022',\n",
    " 'CUSTOMER_VALUE_3YEARS',\n",
    " 'REWARD_HH_STAYS_P12M',\n",
    " 'REWARD_HH_STAYS_P36M',\n",
    " 'CUST_UNIQUE_BRANDS_P12M',\n",
    " 'CUST_UNIQUE_BRANDS_P36M',\n",
    " 'CUST_STAYS_P12M',\n",
    " 'CUST_NIGHTS_P12M',\n",
    " 'CUST_FOLIO_P12M',\n",
    " 'CUST_FOOD_SPEND_P12M',\n",
    " 'CUST_BEVERAGE_SPEND_P12M',\n",
    " 'CUST_FOOD_SPEND_P36M',\n",
    " 'CUST_BEVERAGE_SPEND_P36M',\n",
    " 'CUST_STAYS_RESORT_P12M',\n",
    " 'CUST_STAYS_LUXURY_BRAND_DIV_P12M',\n",
    " 'CUST_DOMESTIC_STAYS_P12M',\n",
    " 'CUST_INTL_STAYS_P12M',\n",
    " 'CUST_DOMESTIC_STAYS_P36M',\n",
    " 'CUST_INTL_STAYS_P36M',\n",
    " 'TOTAL_TRIP_DIST_MILES_P12M',\n",
    " 'TOTAL_DOMESTIC_TRIP_DIST_MILES_P12M',\n",
    " 'TOTAL_INTL_TRIP_DIST_MILES_P12M',\n",
    " 'EMAIL_CLICKS_P12M',\n",
    " 'CUST_STAYS_HAMPTON_P12M',\n",
    " 'CUST_STAYS_HAMPTON_P36M',\n",
    " 'CUST_STAYS_HILTON_P12M',\n",
    " 'CUST_STAYS_HILTON_P36M',\n",
    " 'CUST_STAYS_HGI_P12M',\n",
    " 'CUST_STAYS_HGI_P36M',\n",
    " 'CUST_STAYS_HOMEWOOD_P12M',\n",
    " 'CUST_STAYS_HOMEWOOD_P36M',\n",
    " 'CUST_STAYS_DOUBLETREE_P12M',\n",
    " 'CUST_STAYS_DOUBLETREE_P36M',\n",
    " 'CUST_STAYS_EMBASSY_P12M',\n",
    " 'CUST_STAYS_EMBASSY_P36M',\n",
    " 'CUST_STAYS_HOME2_P12M',\n",
    " 'CUST_STAYS_HOME2_P36M',\n",
    " 'CUST_STAYS_TRU_P12M',\n",
    " 'CUST_STAYS_TRU_P36M',\n",
    " 'CUST_STAYS_CANOPY_P12M',\n",
    " 'CUST_STAYS_CANOPY_P36M',\n",
    " 'CUST_STAYS_TAPESTRY_P12M',\n",
    " 'CUST_STAYS_TAPESTRY_P36M',\n",
    " 'CUST_STAYS_CONRAD_P12M',\n",
    " 'CUST_STAYS_CONRAD_P36M',\n",
    " 'CUST_STAYS_CURIO_P12M',\n",
    " 'CUST_STAYS_CURIO_P36M',\n",
    " 'CUST_STAYS_WALDORF_P12M',\n",
    " 'CUST_STAYS_WALDORF_P36M',\n",
    " 'CUST_STAYS_LXR_P12M',\n",
    " 'CUST_STAYS_LXR_P36M',\n",
    " 'CUST_STAYS_MOTTO_P12M', \n",
    " 'CUST_STAYS_MOTTO_P36M',\n",
    " 'CUST_STAYS_SIGNIA_P12M', \n",
    " 'CUST_STAYS_SIGNIA_P36M',\n",
    " 'CUST_STAYS_TEMPO_P12M', \n",
    " 'CUST_STAYS_TEMPO_P36M', \n",
    " 'CUST_FOLIO_HAMPTON_P12M',\n",
    " 'CUST_FOLIO_HAMPTON_P36M',\n",
    " 'CUST_FOLIO_HILTON_P12M',\n",
    " 'CUST_FOLIO_HILTON_P36M',\n",
    " 'CUST_FOLIO_HGI_P12M',\n",
    " 'CUST_FOLIO_HGI_P36M',\n",
    " 'CUST_FOLIO_HOMEWOOD_P12M',\n",
    " 'CUST_FOLIO_HOMEWOOD_P36M',\n",
    " 'CUST_FOLIO_DOUBLETREE_P12M',\n",
    " 'CUST_FOLIO_DOUBLETREE_P36M',\n",
    " 'CUST_FOLIO_EMBASSY_P12M',\n",
    " 'CUST_FOLIO_EMBASSY_P36M',\n",
    " 'CUST_FOLIO_HOME2_P12M',\n",
    " 'CUST_FOLIO_HOME2_P36M',\n",
    " 'CUST_FOLIO_TRU_P12M',\n",
    " 'CUST_FOLIO_TRU_P36M',\n",
    " 'CUST_FOLIO_CANOPY_P12M',\n",
    " 'CUST_FOLIO_CANOPY_P36M',\n",
    " 'CUST_FOLIO_TAPESTRY_P12M',\n",
    " 'CUST_FOLIO_TAPESTRY_P36M',\n",
    " 'CUST_FOLIO_CONRAD_P12M',\n",
    " 'CUST_FOLIO_CONRAD_P36M',\n",
    " 'CUST_FOLIO_CURIO_P12M',\n",
    " 'CUST_FOLIO_CURIO_P36M',\n",
    " 'CUST_FOLIO_WALDORF_P12M',\n",
    " 'CUST_FOLIO_WALDORF_P36M',\n",
    " 'CUST_FOLIO_LXR_P12M',\n",
    " 'CUST_FOLIO_LXR_P36M',\n",
    " 'CUST_FOLIO_MOTTO_P12M',\n",
    " 'CUST_FOLIO_MOTTO_P36M',\n",
    " 'CUST_FOLIO_SIGNIA_P12M', \n",
    " 'CUST_FOLIO_SIGNIA_P36M',\n",
    " 'CUST_FOLIO_TEMPO_P12M', \n",
    " 'CUST_FOLIO_TEMPO_P36M', \n",
    " 'CUST_NIGHTS_HAMPTON_P12M',\n",
    " 'CUST_NIGHTS_HAMPTON_P36M',\n",
    " 'CUST_NIGHTS_HILTON_P12M',\n",
    " 'CUST_NIGHTS_HILTON_P36M',\n",
    " 'CUST_NIGHTS_HGI_P12M',\n",
    " 'CUST_NIGHTS_HGI_P36M',\n",
    " 'CUST_NIGHTS_HOMEWOOD_P12M',\n",
    " 'CUST_NIGHTS_HOMEWOOD_P36M',\n",
    " 'CUST_NIGHTS_DOUBLETREE_P12M',\n",
    " 'CUST_NIGHTS_DOUBLETREE_P36M',\n",
    " 'CUST_NIGHTS_EMBASSY_P12M',\n",
    " 'CUST_NIGHTS_EMBASSY_P36M',\n",
    " 'CUST_NIGHTS_HOME2_P12M',\n",
    " 'CUST_NIGHTS_HOME2_P36M',\n",
    " 'CUST_NIGHTS_TRU_P12M',\n",
    " 'CUST_NIGHTS_TRU_P36M',\n",
    " 'CUST_NIGHTS_CANOPY_P12M',\n",
    " 'CUST_NIGHTS_CANOPY_P36M',\n",
    " 'CUST_NIGHTS_TAPESTRY_P12M',\n",
    " 'CUST_NIGHTS_TAPESTRY_P36M',\n",
    " 'CUST_NIGHTS_CONRAD_P12M',\n",
    " 'CUST_NIGHTS_CONRAD_P36M',\n",
    " 'CUST_NIGHTS_CURIO_P12M',\n",
    " 'CUST_NIGHTS_CURIO_P36M',\n",
    " 'CUST_NIGHTS_WALDORF_P12M',\n",
    " 'CUST_NIGHTS_WALDORF_P36M',\n",
    " 'CUST_NIGHTS_LXR_P12M',\n",
    " 'CUST_NIGHTS_LXR_P36M',\n",
    " 'CUST_NIGHTS_MOTTO_P12M', \n",
    " 'CUST_NIGHTS_MOTTO_P36M', \n",
    " 'CUST_NIGHTS_SIGNIA_P12M', \n",
    " 'CUST_NIGHTS_SIGNIA_P36M', \n",
    " 'CUST_NIGHTS_TEMPO_P12M', \n",
    " 'CUST_NIGHTS_TEMPO_P36M', \n",
    " 'COBRAND_CARD_SPEND_P12M',\n",
    " 'COBRAND_CARD_SPEND_36M',\n",
    " 'COBRAND_CARD_HILTON_SPEND_P12M',\n",
    " 'COBRAND_CARD_HILTON_SPEND_P36M',\n",
    " 'CUST_STAYS_DIRECT_P12M',\n",
    " 'CUST_STAYS_DIRECT_P36M',\n",
    " 'CUST_STAYS_INDIRECT_P12M',\n",
    " 'CUST_STAYS_INDIRECT_P36M',\n",
    " 'CUST_STAYS_OTA_P12M',\n",
    " 'CUST_STAYS_OTA_P36M',\n",
    " 'CUST_STAYS_OTHER_P12M',\n",
    " 'CUST_STAYS_OTHER_P36M',\n",
    " 'CUST_MASS_PROMO_STAYS_P12M',\n",
    " 'CUST_MASS_PROMO_STAYS_P36M',\n",
    " 'CUST_MASS_PROMO_NIGHTS_P12M',\n",
    " 'CUST_MASS_PROMO_NIGHTS_P36M',\n",
    " 'TOTAL_DOMESTIC_TRIP_DIST_MILES_P36M',\n",
    " 'TOTAL_INTL_TRIP_DIST_MILES_P36M']\n",
    "\n",
    "# customers[columns_to_fill] = customers[columns_to_fill].apply(pd.to_numeric, errors='coerce')\n",
    "# customers[columns_to_fill].fillna(0, inplace=True)\n",
    "\n",
    "customers[columns_to_fill] = customers[columns_to_fill].apply(pd.to_numeric, errors='coerce')\n",
    "customers[columns_to_fill] = customers[columns_to_fill].fillna(0)"
   ]
  },
  {
   "cell_type": "code",
   "execution_count": 0,
   "metadata": {
    "application/vnd.databricks.v1+cell": {
     "cellMetadata": {
      "byteLimit": 2048000,
      "rowLimit": 10000
     },
     "inputWidgets": {},
     "nuid": "ac0b379f-f6c6-4ede-867f-46eb06812716",
     "showTitle": false,
     "title": ""
    }
   },
   "outputs": [],
   "source": [
    "customers['US_HONORS_LIFE_STAGE'] = customers['US_HONORS_LIFE_STAGE'].replace(['NA', '5. NA', 'None'], 'UNKNOWN')\n",
    "customers['US_HONORS_OCCUPATION'] = customers['US_HONORS_OCCUPATION'].replace(['NA', '13. NA', '99'], 'UNKNOWN')\n",
    "customers['US_HONORS_OCCUPATION_DETAILED'] = customers['US_HONORS_OCCUPATION_DETAILED'].replace(['NA', '13. NA'], 'UNKNOWN')\n",
    "customers['ENROLL_CHANNEL'] = customers['ENROLL_CHANNEL'].replace(['N/A'], 'UNKNOWN')\n",
    "customers['CUSTOMER_REGION_CODE'] = customers['CUSTOMER_REGION_CODE'].replace(['NA'], 'UNKNOWN')\n",
    "customers['CUSTOMER_COUNTRY'] = customers['CUSTOMER_COUNTRY'].replace(['NA'], 'UNKNOWN')\n",
    "customers['PRIMARY_CHANNEL_LIFETIME'] = customers['PRIMARY_CHANNEL_LIFETIME'].replace(['N/A'], 'UNKNOWN BRAND')\n",
    "customers['UPSCALE_PROPENSITY'] = customers['UPSCALE_PROPENSITY'].replace(['NA', '4. NA'], 'UNKNOWN')\n",
    "customers['PT_REDEEMER_PAST_12MONTHS'] = customers['PT_REDEEMER_PAST_12MONTHS'].replace(['NA', '4. NA'], 'UNKNOWN')"
   ]
  },
  {
   "cell_type": "code",
   "execution_count": 0,
   "metadata": {
    "application/vnd.databricks.v1+cell": {
     "cellMetadata": {
      "byteLimit": 2048000,
      "rowLimit": 10000
     },
     "inputWidgets": {},
     "nuid": "7400090e-2cab-46e7-be69-89c1cd09f18e",
     "showTitle": false,
     "title": ""
    }
   },
   "outputs": [],
   "source": [
    "customers = customers.fillna({\"FIRST_CHECKOUT_YEAR\": '2100-01-01', \n",
    "              \"COBRAND_ENROLL_YEAR_POST_2018\": '2100-01-01', \n",
    "              \"HONORS_ENROLL_YEAR\": '2100-01-01'\n",
    "              })\n"
   ]
  },
  {
   "cell_type": "code",
   "execution_count": 0,
   "metadata": {
    "application/vnd.databricks.v1+cell": {
     "cellMetadata": {
      "byteLimit": 2048000,
      "rowLimit": 10000
     },
     "inputWidgets": {},
     "nuid": "3c4ae40d-fa2b-4981-9fc7-a9ca9dce7b40",
     "showTitle": false,
     "title": ""
    }
   },
   "outputs": [],
   "source": [
    "# # Find all columns with null values in the DataFram\n",
    "# null_columns = customers.columns[customers.isnull().any()].tolist()\n",
    "# null_columns"
   ]
  },
  {
   "cell_type": "code",
   "execution_count": 0,
   "metadata": {
    "application/vnd.databricks.v1+cell": {
     "cellMetadata": {
      "byteLimit": 2048000,
      "rowLimit": 10000
     },
     "inputWidgets": {},
     "nuid": "87a3e470-c862-4ecd-b71c-5db75a5a8b1b",
     "showTitle": false,
     "title": ""
    }
   },
   "outputs": [
    {
     "output_type": "execute_result",
     "data": {
      "text/plain": [
       "(25, 164)"
      ]
     },
     "execution_count": 24,
     "metadata": {},
     "output_type": "execute_result"
    }
   ],
   "source": [
    "len(clustering_columns), len(profiling_columns)"
   ]
  },
  {
   "cell_type": "code",
   "execution_count": 0,
   "metadata": {
    "application/vnd.databricks.v1+cell": {
     "cellMetadata": {
      "byteLimit": 2048000,
      "rowLimit": 10000
     },
     "inputWidgets": {},
     "nuid": "f1ed6b2b-3b76-4aaa-a971-dab79e9c5f93",
     "showTitle": false,
     "title": ""
    }
   },
   "outputs": [
    {
     "output_type": "stream",
     "name": "stderr",
     "output_type": "stream",
     "text": [
      "/home/spark-b9ed5074-0197-4f36-9eed-a1/.ipykernel/2610/command-2854201248256283-1116374802:2: FutureWarning: A value is trying to be set on a copy of a DataFrame or Series through chained assignment using an inplace method.\nThe behavior will change in pandas 3.0. This inplace method will never work because the intermediate object on which we are setting values always behaves as a copy.\n\nFor example, when doing 'df[col].method(value, inplace=True)', try using 'df.method({col: value}, inplace=True)' or df[col] = df[col].method(value) instead, to perform the operation inplace on the original object.\n\n\n"
     ]
    }
   ],
   "source": [
    "customers['FB_FOLIO_RATIO'] = (customers['CUST_FOOD_SPEND_P36M'] + customers['CUST_BEVERAGE_SPEND_P36M']) / customers['CUST_FOLIO_P36M']\n",
    "customers['FB_FOLIO_RATIO'].fillna(0,inplace=True)"
   ]
  },
  {
   "cell_type": "code",
   "execution_count": 0,
   "metadata": {
    "application/vnd.databricks.v1+cell": {
     "cellMetadata": {
      "byteLimit": 2048000,
      "rowLimit": 10000
     },
     "inputWidgets": {},
     "nuid": "2d16e6f7-1889-4918-951b-f5cf8e7922be",
     "showTitle": false,
     "title": ""
    }
   },
   "outputs": [],
   "source": [
    "x = customers[clustering_columns]"
   ]
  },
  {
   "cell_type": "code",
   "execution_count": 0,
   "metadata": {
    "application/vnd.databricks.v1+cell": {
     "cellMetadata": {
      "byteLimit": 2048000,
      "rowLimit": 10000
     },
     "inputWidgets": {},
     "nuid": "4e73f503-0123-4c93-9098-f360f5be23ab",
     "showTitle": false,
     "title": ""
    }
   },
   "outputs": [
    {
     "output_type": "stream",
     "name": "stderr",
     "output_type": "stream",
     "text": [
      "/home/spark-b9ed5074-0197-4f36-9eed-a1/.ipykernel/2610/command-2854201248256285-1346184628:1: FutureWarning: A value is trying to be set on a copy of a DataFrame or Series through chained assignment using an inplace method.\nThe behavior will change in pandas 3.0. This inplace method will never work because the intermediate object on which we are setting values always behaves as a copy.\n\nFor example, when doing 'df[col].method(value, inplace=True)', try using 'df.method({col: value}, inplace=True)' or df[col] = df[col].method(value) instead, to perform the operation inplace on the original object.\n\n\n/home/spark-b9ed5074-0197-4f36-9eed-a1/.ipykernel/2610/command-2854201248256285-1346184628:2: FutureWarning: A value is trying to be set on a copy of a DataFrame or Series through chained assignment using an inplace method.\nThe behavior will change in pandas 3.0. This inplace method will never work because the intermediate object on which we are setting values always behaves as a copy.\n\nFor example, when doing 'df[col].method(value, inplace=True)', try using 'df.method({col: value}, inplace=True)' or df[col] = df[col].method(value) instead, to perform the operation inplace on the original object.\n\n\n/home/spark-b9ed5074-0197-4f36-9eed-a1/.ipykernel/2610/command-2854201248256285-1346184628:3: FutureWarning: A value is trying to be set on a copy of a DataFrame or Series through chained assignment using an inplace method.\nThe behavior will change in pandas 3.0. This inplace method will never work because the intermediate object on which we are setting values always behaves as a copy.\n\nFor example, when doing 'df[col].method(value, inplace=True)', try using 'df.method({col: value}, inplace=True)' or df[col] = df[col].method(value) instead, to perform the operation inplace on the original object.\n\n\n/home/spark-b9ed5074-0197-4f36-9eed-a1/.ipykernel/2610/command-2854201248256285-1346184628:4: FutureWarning: A value is trying to be set on a copy of a DataFrame or Series through chained assignment using an inplace method.\nThe behavior will change in pandas 3.0. This inplace method will never work because the intermediate object on which we are setting values always behaves as a copy.\n\nFor example, when doing 'df[col].method(value, inplace=True)', try using 'df.method({col: value}, inplace=True)' or df[col] = df[col].method(value) instead, to perform the operation inplace on the original object.\n\n\n/home/spark-b9ed5074-0197-4f36-9eed-a1/.ipykernel/2610/command-2854201248256285-1346184628:5: FutureWarning: A value is trying to be set on a copy of a DataFrame or Series through chained assignment using an inplace method.\nThe behavior will change in pandas 3.0. This inplace method will never work because the intermediate object on which we are setting values always behaves as a copy.\n\nFor example, when doing 'df[col].method(value, inplace=True)', try using 'df.method({col: value}, inplace=True)' or df[col] = df[col].method(value) instead, to perform the operation inplace on the original object.\n\n\n/home/spark-b9ed5074-0197-4f36-9eed-a1/.ipykernel/2610/command-2854201248256285-1346184628:6: FutureWarning: A value is trying to be set on a copy of a DataFrame or Series through chained assignment using an inplace method.\nThe behavior will change in pandas 3.0. This inplace method will never work because the intermediate object on which we are setting values always behaves as a copy.\n\nFor example, when doing 'df[col].method(value, inplace=True)', try using 'df.method({col: value}, inplace=True)' or df[col] = df[col].method(value) instead, to perform the operation inplace on the original object.\n\n\n/home/spark-b9ed5074-0197-4f36-9eed-a1/.ipykernel/2610/command-2854201248256285-1346184628:7: FutureWarning: A value is trying to be set on a copy of a DataFrame or Series through chained assignment using an inplace method.\nThe behavior will change in pandas 3.0. This inplace method will never work because the intermediate object on which we are setting values always behaves as a copy.\n\nFor example, when doing 'df[col].method(value, inplace=True)', try using 'df.method({col: value}, inplace=True)' or df[col] = df[col].method(value) instead, to perform the operation inplace on the original object.\n\n\n/home/spark-b9ed5074-0197-4f36-9eed-a1/.ipykernel/2610/command-2854201248256285-1346184628:8: FutureWarning: A value is trying to be set on a copy of a DataFrame or Series through chained assignment using an inplace method.\nThe behavior will change in pandas 3.0. This inplace method will never work because the intermediate object on which we are setting values always behaves as a copy.\n\nFor example, when doing 'df[col].method(value, inplace=True)', try using 'df.method({col: value}, inplace=True)' or df[col] = df[col].method(value) instead, to perform the operation inplace on the original object.\n\n\n"
     ]
    }
   ],
   "source": [
    "x[\"US_HONORS_INCOME_RANGE_DETAILED\"].fillna(70000,inplace=True)\n",
    "x[\"US_HONORS_HOUSEHOLD_SIZE\"].fillna(99,inplace=True)\n",
    "x[\"CUST_STAYS_P36M\"].fillna(0,inplace=True)\n",
    "x[\"CUST_NIGHTS_P36M\"].fillna(0,inplace=True)\n",
    "x[\"CUST_FOLIO_P36M\"].fillna(0,inplace=True)\n",
    "x[\"EMAIL_CLICKS_P36M\"].fillna(0,inplace=True)\n",
    "x[\"CUST_STAYS_RESORT_P36M\"].fillna(0,inplace=True)\n",
    "x[\"CUST_STAYS_LUXURY_BRAND_DIV_P36M\"].fillna(0,inplace=True)"
   ]
  },
  {
   "cell_type": "code",
   "execution_count": 0,
   "metadata": {
    "application/vnd.databricks.v1+cell": {
     "cellMetadata": {
      "byteLimit": 2048000,
      "rowLimit": 10000
     },
     "inputWidgets": {},
     "nuid": "ccc098d5-220f-4eec-964d-0c6911e0cd2a",
     "showTitle": false,
     "title": ""
    }
   },
   "outputs": [],
   "source": [
    "x['FIRST_CHECKOUT_YEAR'] = x['FIRST_CHECKOUT_YEAR']\\\n",
    "    .mask(x['FIRST_CHECKOUT_YEAR'] == '9999-12-31 00:00:00', '2100-01-01')\\\n",
    "    .str.split(' ')\\\n",
    "    .str[0]\\\n",
    "    .astype('datetime64[ns]')\n",
    "x['COBRAND_ENROLL_YEAR_POST_2018'] = x['COBRAND_ENROLL_YEAR_POST_2018']\\\n",
    "    .mask(x['COBRAND_ENROLL_YEAR_POST_2018'] == '0999-12-31 00:00:00', '2100-01-01')\\\n",
    "    .str.split(' ')\\\n",
    "    .str[0]\\\n",
    "    .astype('datetime64[ns]')\n",
    "x['HONORS_ENROLL_YEAR'] = x['HONORS_ENROLL_YEAR']\\\n",
    "    .mask(x['HONORS_ENROLL_YEAR'] == '9999-12-31 00:00:00', '2100-01-01')\\\n",
    "    .str.split(' ')\\\n",
    "    .str[0]\\\n",
    "    .astype('datetime64[ns]')"
   ]
  },
  {
   "cell_type": "code",
   "execution_count": 0,
   "metadata": {
    "application/vnd.databricks.v1+cell": {
     "cellMetadata": {
      "byteLimit": 2048000,
      "rowLimit": 10000
     },
     "inputWidgets": {},
     "nuid": "f41d7b4b-94d6-4df0-baba-005168bb405c",
     "showTitle": false,
     "title": ""
    }
   },
   "outputs": [],
   "source": [
    "# x.columns[x.isnull().any()].tolist()"
   ]
  },
  {
   "cell_type": "code",
   "execution_count": 0,
   "metadata": {
    "application/vnd.databricks.v1+cell": {
     "cellMetadata": {
      "byteLimit": 2048000,
      "rowLimit": 10000
     },
     "inputWidgets": {},
     "nuid": "529193b0-6a5e-4488-8cbe-9bdf3e912f32",
     "showTitle": false,
     "title": ""
    }
   },
   "outputs": [
    {
     "output_type": "stream",
     "name": "stderr",
     "output_type": "stream",
     "text": [
      "/home/spark-b9ed5074-0197-4f36-9eed-a1/.ipykernel/2610/command-2854201248256288-47972508:18: FutureWarning: A value is trying to be set on a copy of a DataFrame or Series through chained assignment using an inplace method.\nThe behavior will change in pandas 3.0. This inplace method will never work because the intermediate object on which we are setting values always behaves as a copy.\n\nFor example, when doing 'df[col].method(value, inplace=True)', try using 'df.method({col: value}, inplace=True)' or df[col] = df[col].method(value) instead, to perform the operation inplace on the original object.\n\n\n/home/spark-b9ed5074-0197-4f36-9eed-a1/.ipykernel/2610/command-2854201248256288-47972508:21: FutureWarning: A value is trying to be set on a copy of a DataFrame or Series through chained assignment using an inplace method.\nThe behavior will change in pandas 3.0. This inplace method will never work because the intermediate object on which we are setting values always behaves as a copy.\n\nFor example, when doing 'df[col].method(value, inplace=True)', try using 'df.method({col: value}, inplace=True)' or df[col] = df[col].method(value) instead, to perform the operation inplace on the original object.\n\n\n"
     ]
    }
   ],
   "source": [
    "x[\"PT_REDEEMER_PAST_12MONTHS\"] = list(map(lambda v: v \n",
    "                              if v in ('NON PT REDEEMER', 'PT REDEEMER')\n",
    "                              else 'Unknown', x[\"PT_REDEEMER_PAST_12MONTHS\"]))\n",
    "x[\"PREFERRED_LANGUGAGE_GROUPING\"] = list(map(lambda v: v \n",
    "                              if v in (\"English\", \"Not English\")\n",
    "                              else 'Unknown', x[\"PREFERRED_LANGUGAGE_GROUPING\"]))\n",
    "x[\"PROMO_REGISTRANT_FLAG_P12M\"] = list(map(lambda v: v \n",
    "                              if v in ('NOT PROMO REGISTRANT', 'PROMO REGISTRANT')\n",
    "                              else 'Unknown', x[\"PROMO_REGISTRANT_FLAG_P12M\"]))\n",
    "# calculate time difference between the datedey to 1/1/2024\n",
    "x['Diff_FCY_NOW'] = ((pd.to_datetime(\"2024-01-01\") - x['FIRST_CHECKOUT_YEAR'])/365).dt.days\n",
    "x.loc[x['Diff_FCY_NOW']<0, 'Diff_FCY_NOW'] = 0\n",
    "# Cap CUST_STAYS_P36M to 50\n",
    "x.loc[x['CUST_STAYS_P36M']>50, 'CUST_STAYS_P36M'] = 50\n",
    "x.loc[x['CUST_STAYS_RESORT_P36M']>20, 'CUST_STAYS_RESORT_P36M'] = 20\n",
    "x.loc[x['CUST_STAYS_LUXURY_BRAND_DIV_P36M']>20, 'CUST_STAYS_LUXURY_BRAND_DIV_P36M'] = 20\n",
    "x['FOLIO_NIGHTS_RATIO'] = x['CUST_FOLIO_P36M'] / x['CUST_NIGHTS_P36M']\n",
    "x['FOLIO_NIGHTS_RATIO'].fillna(0,inplace=True)\n",
    "\n",
    "x['TRIP_MILES_PER_STAY'] = x['TOTAL_TRIP_DIST_MILES_P36M'] / x['CUST_STAYS_P36M']\n",
    "x['TRIP_MILES_PER_STAY'].fillna(0,inplace=True)\n",
    "x[\"HONORS_ACTIVE_FLAG\"] = list(map(lambda v: \"Inactive Honors\" \n",
    "                              if v == \"Inactive Honors - Closed Accounts\" \n",
    "                              else v, x[\"HONORS_ACTIVE_FLAG\"]))\n",
    "x[\"PRIMARY_STAY_TYPE_LIFETIME\"] = list(map(lambda v: v \n",
    "                              if v in (\"Other/Mix\", \"Business\", \"Leisure\")\n",
    "                              else \"Unknown\", x[\"PRIMARY_STAY_TYPE_LIFETIME\"]))\n",
    "x[\"PRIMARY_CHANNEL_LIFETIME\"] = list(map(lambda v: v \n",
    "                              if v in (\"Direct\", \"OTA\", \"Other/Mix\", \"GDS\")\n",
    "                              else \"Unknown\", x[\"PRIMARY_CHANNEL_LIFETIME\"]))\n",
    "DISTINCT_COUNTRIES_lookup = {\n",
    "    \"Zero countries\": 0,\n",
    "    \"1 country\": 1,\n",
    "    \"2 countries\": 2,\n",
    "    \"3 or more countries\": 3\n",
    "}\n",
    "x[\"DISTINCT_COUNTRIES_PAST_12MONTHS\"] = x[\"DISTINCT_COUNTRIES_PAST_12MONTHS\"].map(DISTINCT_COUNTRIES_lookup) # re-mapping\n",
    "#x[\"DISTINCT_COUNTRIES_PAST_12MONTHS\"] = list(map(lambda v: \"2+ countries\" \n",
    "#                              if v in (\"2 countries\", \"3 or more countries\")\n",
    "#                              else v, x[\"DISTINCT_COUNTRIES_PAST_12MONTHS\"]))\n",
    "x[\"US_HONORS_INCOME_RANGE_DETAILED\"] = list(map(lambda v: \"70000\" \n",
    "                              if v in (\"English\", \"Not English\")\n",
    "                              else v, x[\"US_HONORS_INCOME_RANGE_DETAILED\"]))\n",
    "x[\"US_HONORS_INCOME_RANGE_DETAILED\"] = x[\"US_HONORS_INCOME_RANGE_DETAILED\"].astype(int)\n",
    "x[\"US_HONORS_HOUSEHOLD_SIZE\"] = list(map(lambda v: \"99\" \n",
    "                              if v not in (\"1. <2\", \"2. 2-4\", \"3. >4\")\n",
    "                              else v, x[\"US_HONORS_HOUSEHOLD_SIZE\"]))\n",
    "HH_Size_lookup = {\n",
    "    \"1. <2\": 1,\n",
    "    \"2. 2-4\": 3,\n",
    "    \"3. >4\": 5,\n",
    "    \"99\": 2\n",
    "}\n",
    "x[\"US_HONORS_HOUSEHOLD_SIZE\"] = x[\"US_HONORS_HOUSEHOLD_SIZE\"].map(HH_Size_lookup) # re-mapping"
   ]
  },
  {
   "cell_type": "code",
   "execution_count": 0,
   "metadata": {
    "application/vnd.databricks.v1+cell": {
     "cellMetadata": {
      "byteLimit": 2048000,
      "rowLimit": 10000
     },
     "inputWidgets": {},
     "nuid": "3fa500ef-61f9-4ed2-aa90-401677153839",
     "showTitle": false,
     "title": ""
    }
   },
   "outputs": [
    {
     "output_type": "stream",
     "name": "stderr",
     "output_type": "stream",
     "text": [
      "/home/spark-b9ed5074-0197-4f36-9eed-a1/.ipykernel/2610/command-2854201248256289-1663896509:2: FutureWarning: A value is trying to be set on a copy of a DataFrame or Series through chained assignment using an inplace method.\nThe behavior will change in pandas 3.0. This inplace method will never work because the intermediate object on which we are setting values always behaves as a copy.\n\nFor example, when doing 'df[col].method(value, inplace=True)', try using 'df.method({col: value}, inplace=True)' or df[col] = df[col].method(value) instead, to perform the operation inplace on the original object.\n\n\n"
     ]
    }
   ],
   "source": [
    "x['FOLIO_STAYS_RATIO'] = x['CUST_FOLIO_P36M'] / x['CUST_STAYS_P36M']\n",
    "x['FOLIO_STAYS_RATIO'].fillna(0,inplace=True)\n",
    "\n",
    "# x['FB_FOLIO_RATIO'] = (x['CUST_FOOD_SPEND_P36M'] + x['CUST_BEVERAGE_SPEND_P36M']) / x['CUST_FOLIO_P36M']\n",
    "# x['FB_FOLIO_RATIO'].fillna(0,inplace=True)"
   ]
  },
  {
   "cell_type": "code",
   "execution_count": 0,
   "metadata": {
    "application/vnd.databricks.v1+cell": {
     "cellMetadata": {
      "byteLimit": 2048000,
      "rowLimit": 10000
     },
     "inputWidgets": {},
     "nuid": "7b57c061-8554-484b-a847-6b291d0ad3f3",
     "showTitle": false,
     "title": ""
    }
   },
   "outputs": [],
   "source": [
    "# Original Features\n",
    "\n",
    "y = x[[\"HONORS_ACTIVE_FLAG\", \"DISTINCT_COUNTRIES_PAST_12MONTHS\", \"US_HONORS_INCOME_RANGE_DETAILED\", \n",
    "       \"US_HONORS_HOUSEHOLD_SIZE\", 'EMAIL_CLICKS_P36M', 'HONORS_TIER', 'MARKETABLE_CUSTOMER', \n",
    "       'COBRAND_CARDHOLDER_FLAG', 'PRIMARY_STAY_TYPE_LIFETIME', 'Diff_FCY_NOW',\n",
    "       'PRIMARY_CHANNEL_LIFETIME', 'PROMO_REGISTRANT_FLAG_P12M', 'PREFERRED_LANGUGAGE_GROUPING',\n",
    "       'PT_REDEEMER_PAST_12MONTHS', 'CUST_STAYS_RESORT_P36M', 'CUST_STAYS_LUXURY_BRAND_DIV_P36M', \n",
    "        'CUST_STAYS_P36M', 'FOLIO_NIGHTS_RATIO', 'TRIP_MILES_PER_STAY',\n",
    "        'FB_FOLIO_RATIO']]"
   ]
  },
  {
   "cell_type": "code",
   "execution_count": 0,
   "metadata": {
    "application/vnd.databricks.v1+cell": {
     "cellMetadata": {
      "byteLimit": 2048000,
      "rowLimit": 10000
     },
     "inputWidgets": {},
     "nuid": "0c934b97-b02a-4aed-b384-d354f9c0d4e0",
     "showTitle": false,
     "title": ""
    }
   },
   "outputs": [],
   "source": [
    "# y = x[[\"HONORS_ACTIVE_FLAG\", \"DISTINCT_COUNTRIES_PAST_12MONTHS\", \"US_HONORS_INCOME_RANGE_DETAILED\", \n",
    "#        \"US_HONORS_HOUSEHOLD_SIZE\", 'EMAIL_CLICKS_P36M', 'HONORS_TIER', 'MARKETABLE_CUSTOMER', \n",
    "#        'COBRAND_CARDHOLDER_FLAG', 'PRIMARY_STAY_TYPE_LIFETIME',  'Diff_FCY_NOW',\n",
    "#        'PRIMARY_CHANNEL_LIFETIME', 'PROMO_REGISTRANT_FLAG_P12M', 'PREFERRED_LANGUGAGE_GROUPING',\n",
    "#        'CUST_MASS_PROMO_STAYS_P36M', 'CUST_MASS_PROMO_NIGHTS_P36M', 'UNIQUE_BRANDS_P12M_BUCKETS', 'UNIQUE_BRANDS_P36M_BUCKETS',\n",
    "#        'PT_REDEEMER_PAST_12MONTHS', 'CUST_STAYS_RESORT_P36M', 'CUST_STAYS_LUXURY_BRAND_DIV_P36M', \n",
    "#        'CUST_STAYS_P36M', 'FB_FOLIO_RATIO', 'FOLIO_NIGHTS_RATIO', 'TRIP_MILES_PER_STAY']]"
   ]
  },
  {
   "cell_type": "code",
   "execution_count": 0,
   "metadata": {
    "application/vnd.databricks.v1+cell": {
     "cellMetadata": {
      "byteLimit": 2048000,
      "rowLimit": 10000
     },
     "inputWidgets": {},
     "nuid": "50ff706a-ad32-4715-acee-4e8b923345d9",
     "showTitle": false,
     "title": ""
    }
   },
   "outputs": [],
   "source": [
    "x[[\"FIRST_CHECKOUT_YEAR\", \"COBRAND_ENROLL_YEAR_POST_2018\", \"HONORS_ENROLL_YEAR\"]] = x[[\"FIRST_CHECKOUT_YEAR\", \"COBRAND_ENROLL_YEAR_POST_2018\", \"HONORS_ENROLL_YEAR\"]].astype(str)"
   ]
  },
  {
   "cell_type": "code",
   "execution_count": 0,
   "metadata": {
    "application/vnd.databricks.v1+cell": {
     "cellMetadata": {
      "byteLimit": 2048000,
      "rowLimit": 10000
     },
     "inputWidgets": {},
     "nuid": "3378902c-bb2d-4586-9578-3560b8adadbe",
     "showTitle": false,
     "title": ""
    }
   },
   "outputs": [],
   "source": [
    "newdata=pd.get_dummies(y)"
   ]
  },
  {
   "cell_type": "code",
   "execution_count": 0,
   "metadata": {
    "application/vnd.databricks.v1+cell": {
     "cellMetadata": {
      "byteLimit": 2048000,
      "rowLimit": 10000
     },
     "inputWidgets": {},
     "nuid": "418fd0fa-1fcb-4527-856b-8b6d936948e8",
     "showTitle": false,
     "title": ""
    }
   },
   "outputs": [
    {
     "output_type": "execute_result",
     "data": {
      "text/html": [
       "<div>\n",
       "<style scoped>\n",
       "    .dataframe tbody tr th:only-of-type {\n",
       "        vertical-align: middle;\n",
       "    }\n",
       "\n",
       "    .dataframe tbody tr th {\n",
       "        vertical-align: top;\n",
       "    }\n",
       "\n",
       "    .dataframe thead th {\n",
       "        text-align: right;\n",
       "    }\n",
       "</style>\n",
       "<table border=\"1\" class=\"dataframe\">\n",
       "  <thead>\n",
       "    <tr style=\"text-align: right;\">\n",
       "      <th></th>\n",
       "      <th>DISTINCT_COUNTRIES_PAST_12MONTHS</th>\n",
       "      <th>US_HONORS_INCOME_RANGE_DETAILED</th>\n",
       "      <th>US_HONORS_HOUSEHOLD_SIZE</th>\n",
       "      <th>EMAIL_CLICKS_P36M</th>\n",
       "      <th>MARKETABLE_CUSTOMER</th>\n",
       "      <th>Diff_FCY_NOW</th>\n",
       "      <th>CUST_STAYS_RESORT_P36M</th>\n",
       "      <th>CUST_STAYS_LUXURY_BRAND_DIV_P36M</th>\n",
       "      <th>CUST_STAYS_P36M</th>\n",
       "      <th>FOLIO_NIGHTS_RATIO</th>\n",
       "      <th>TRIP_MILES_PER_STAY</th>\n",
       "      <th>FB_FOLIO_RATIO</th>\n",
       "      <th>HONORS_ACTIVE_FLAG_Active Honors</th>\n",
       "      <th>HONORS_ACTIVE_FLAG_Inactive Honors</th>\n",
       "      <th>HONORS_ACTIVE_FLAG_Non Honors</th>\n",
       "      <th>HONORS_TIER_B</th>\n",
       "      <th>HONORS_TIER_D</th>\n",
       "      <th>HONORS_TIER_G</th>\n",
       "      <th>HONORS_TIER_NHH</th>\n",
       "      <th>HONORS_TIER_S</th>\n",
       "      <th>COBRAND_CARDHOLDER_FLAG_COBRAND CARDHOLDER</th>\n",
       "      <th>COBRAND_CARDHOLDER_FLAG_NOT COBRAND CARDHOLDER</th>\n",
       "      <th>PRIMARY_STAY_TYPE_LIFETIME_Business</th>\n",
       "      <th>PRIMARY_STAY_TYPE_LIFETIME_Leisure</th>\n",
       "      <th>PRIMARY_STAY_TYPE_LIFETIME_Other/Mix</th>\n",
       "      <th>PRIMARY_STAY_TYPE_LIFETIME_Unknown</th>\n",
       "      <th>PRIMARY_CHANNEL_LIFETIME_Direct</th>\n",
       "      <th>PRIMARY_CHANNEL_LIFETIME_GDS</th>\n",
       "      <th>PRIMARY_CHANNEL_LIFETIME_OTA</th>\n",
       "      <th>PRIMARY_CHANNEL_LIFETIME_Other/Mix</th>\n",
       "      <th>PRIMARY_CHANNEL_LIFETIME_Unknown</th>\n",
       "      <th>PROMO_REGISTRANT_FLAG_P12M_NOT PROMO REGISTRANT</th>\n",
       "      <th>PROMO_REGISTRANT_FLAG_P12M_PROMO REGISTRANT</th>\n",
       "      <th>PROMO_REGISTRANT_FLAG_P12M_Unknown</th>\n",
       "      <th>PREFERRED_LANGUGAGE_GROUPING_English</th>\n",
       "      <th>PREFERRED_LANGUGAGE_GROUPING_Not English</th>\n",
       "      <th>PREFERRED_LANGUGAGE_GROUPING_Unknown</th>\n",
       "      <th>PT_REDEEMER_PAST_12MONTHS_NON PT REDEEMER</th>\n",
       "      <th>PT_REDEEMER_PAST_12MONTHS_PT REDEEMER</th>\n",
       "      <th>PT_REDEEMER_PAST_12MONTHS_Unknown</th>\n",
       "    </tr>\n",
       "  </thead>\n",
       "  <tbody>\n",
       "    <tr>\n",
       "      <th>0</th>\n",
       "      <td>1</td>\n",
       "      <td>125000</td>\n",
       "      <td>3</td>\n",
       "      <td>17.0</td>\n",
       "      <td>1</td>\n",
       "      <td>6</td>\n",
       "      <td>2</td>\n",
       "      <td>0</td>\n",
       "      <td>10</td>\n",
       "      <td>132.200556</td>\n",
       "      <td>914.538071</td>\n",
       "      <td>0.116876</td>\n",
       "      <td>True</td>\n",
       "      <td>False</td>\n",
       "      <td>False</td>\n",
       "      <td>False</td>\n",
       "      <td>False</td>\n",
       "      <td>False</td>\n",
       "      <td>False</td>\n",
       "      <td>True</td>\n",
       "      <td>False</td>\n",
       "      <td>True</td>\n",
       "      <td>True</td>\n",
       "      <td>False</td>\n",
       "      <td>False</td>\n",
       "      <td>False</td>\n",
       "      <td>True</td>\n",
       "      <td>False</td>\n",
       "      <td>False</td>\n",
       "      <td>False</td>\n",
       "      <td>False</td>\n",
       "      <td>False</td>\n",
       "      <td>True</td>\n",
       "      <td>False</td>\n",
       "      <td>True</td>\n",
       "      <td>False</td>\n",
       "      <td>False</td>\n",
       "      <td>False</td>\n",
       "      <td>True</td>\n",
       "      <td>False</td>\n",
       "    </tr>\n",
       "    <tr>\n",
       "      <th>1</th>\n",
       "      <td>0</td>\n",
       "      <td>0</td>\n",
       "      <td>1</td>\n",
       "      <td>0.0</td>\n",
       "      <td>1</td>\n",
       "      <td>6</td>\n",
       "      <td>0</td>\n",
       "      <td>0</td>\n",
       "      <td>1</td>\n",
       "      <td>380.756667</td>\n",
       "      <td>210.825144</td>\n",
       "      <td>0.056904</td>\n",
       "      <td>True</td>\n",
       "      <td>False</td>\n",
       "      <td>False</td>\n",
       "      <td>True</td>\n",
       "      <td>False</td>\n",
       "      <td>False</td>\n",
       "      <td>False</td>\n",
       "      <td>False</td>\n",
       "      <td>False</td>\n",
       "      <td>True</td>\n",
       "      <td>False</td>\n",
       "      <td>False</td>\n",
       "      <td>True</td>\n",
       "      <td>False</td>\n",
       "      <td>False</td>\n",
       "      <td>False</td>\n",
       "      <td>False</td>\n",
       "      <td>True</td>\n",
       "      <td>False</td>\n",
       "      <td>True</td>\n",
       "      <td>False</td>\n",
       "      <td>False</td>\n",
       "      <td>True</td>\n",
       "      <td>False</td>\n",
       "      <td>False</td>\n",
       "      <td>True</td>\n",
       "      <td>False</td>\n",
       "      <td>False</td>\n",
       "    </tr>\n",
       "    <tr>\n",
       "      <th>2</th>\n",
       "      <td>1</td>\n",
       "      <td>0</td>\n",
       "      <td>1</td>\n",
       "      <td>2.0</td>\n",
       "      <td>0</td>\n",
       "      <td>6</td>\n",
       "      <td>0</td>\n",
       "      <td>0</td>\n",
       "      <td>4</td>\n",
       "      <td>122.075000</td>\n",
       "      <td>0.000000</td>\n",
       "      <td>0.000000</td>\n",
       "      <td>False</td>\n",
       "      <td>True</td>\n",
       "      <td>False</td>\n",
       "      <td>False</td>\n",
       "      <td>False</td>\n",
       "      <td>False</td>\n",
       "      <td>True</td>\n",
       "      <td>False</td>\n",
       "      <td>False</td>\n",
       "      <td>True</td>\n",
       "      <td>True</td>\n",
       "      <td>False</td>\n",
       "      <td>False</td>\n",
       "      <td>False</td>\n",
       "      <td>True</td>\n",
       "      <td>False</td>\n",
       "      <td>False</td>\n",
       "      <td>False</td>\n",
       "      <td>False</td>\n",
       "      <td>True</td>\n",
       "      <td>False</td>\n",
       "      <td>False</td>\n",
       "      <td>True</td>\n",
       "      <td>False</td>\n",
       "      <td>False</td>\n",
       "      <td>True</td>\n",
       "      <td>False</td>\n",
       "      <td>False</td>\n",
       "    </tr>\n",
       "    <tr>\n",
       "      <th>3</th>\n",
       "      <td>1</td>\n",
       "      <td>87500</td>\n",
       "      <td>1</td>\n",
       "      <td>5.0</td>\n",
       "      <td>1</td>\n",
       "      <td>6</td>\n",
       "      <td>0</td>\n",
       "      <td>0</td>\n",
       "      <td>5</td>\n",
       "      <td>108.053158</td>\n",
       "      <td>451.299193</td>\n",
       "      <td>0.000000</td>\n",
       "      <td>False</td>\n",
       "      <td>True</td>\n",
       "      <td>False</td>\n",
       "      <td>False</td>\n",
       "      <td>False</td>\n",
       "      <td>False</td>\n",
       "      <td>False</td>\n",
       "      <td>True</td>\n",
       "      <td>False</td>\n",
       "      <td>True</td>\n",
       "      <td>False</td>\n",
       "      <td>True</td>\n",
       "      <td>False</td>\n",
       "      <td>False</td>\n",
       "      <td>True</td>\n",
       "      <td>False</td>\n",
       "      <td>False</td>\n",
       "      <td>False</td>\n",
       "      <td>False</td>\n",
       "      <td>True</td>\n",
       "      <td>False</td>\n",
       "      <td>False</td>\n",
       "      <td>True</td>\n",
       "      <td>False</td>\n",
       "      <td>False</td>\n",
       "      <td>True</td>\n",
       "      <td>False</td>\n",
       "      <td>False</td>\n",
       "    </tr>\n",
       "    <tr>\n",
       "      <th>4</th>\n",
       "      <td>2</td>\n",
       "      <td>70000</td>\n",
       "      <td>2</td>\n",
       "      <td>19.0</td>\n",
       "      <td>0</td>\n",
       "      <td>6</td>\n",
       "      <td>0</td>\n",
       "      <td>0</td>\n",
       "      <td>12</td>\n",
       "      <td>190.398333</td>\n",
       "      <td>0.000000</td>\n",
       "      <td>0.083540</td>\n",
       "      <td>True</td>\n",
       "      <td>False</td>\n",
       "      <td>False</td>\n",
       "      <td>False</td>\n",
       "      <td>False</td>\n",
       "      <td>True</td>\n",
       "      <td>False</td>\n",
       "      <td>False</td>\n",
       "      <td>False</td>\n",
       "      <td>True</td>\n",
       "      <td>True</td>\n",
       "      <td>False</td>\n",
       "      <td>False</td>\n",
       "      <td>False</td>\n",
       "      <td>True</td>\n",
       "      <td>False</td>\n",
       "      <td>False</td>\n",
       "      <td>False</td>\n",
       "      <td>False</td>\n",
       "      <td>False</td>\n",
       "      <td>True</td>\n",
       "      <td>False</td>\n",
       "      <td>True</td>\n",
       "      <td>False</td>\n",
       "      <td>False</td>\n",
       "      <td>True</td>\n",
       "      <td>False</td>\n",
       "      <td>False</td>\n",
       "    </tr>\n",
       "    <tr>\n",
       "      <th>...</th>\n",
       "      <td>...</td>\n",
       "      <td>...</td>\n",
       "      <td>...</td>\n",
       "      <td>...</td>\n",
       "      <td>...</td>\n",
       "      <td>...</td>\n",
       "      <td>...</td>\n",
       "      <td>...</td>\n",
       "      <td>...</td>\n",
       "      <td>...</td>\n",
       "      <td>...</td>\n",
       "      <td>...</td>\n",
       "      <td>...</td>\n",
       "      <td>...</td>\n",
       "      <td>...</td>\n",
       "      <td>...</td>\n",
       "      <td>...</td>\n",
       "      <td>...</td>\n",
       "      <td>...</td>\n",
       "      <td>...</td>\n",
       "      <td>...</td>\n",
       "      <td>...</td>\n",
       "      <td>...</td>\n",
       "      <td>...</td>\n",
       "      <td>...</td>\n",
       "      <td>...</td>\n",
       "      <td>...</td>\n",
       "      <td>...</td>\n",
       "      <td>...</td>\n",
       "      <td>...</td>\n",
       "      <td>...</td>\n",
       "      <td>...</td>\n",
       "      <td>...</td>\n",
       "      <td>...</td>\n",
       "      <td>...</td>\n",
       "      <td>...</td>\n",
       "      <td>...</td>\n",
       "      <td>...</td>\n",
       "      <td>...</td>\n",
       "      <td>...</td>\n",
       "    </tr>\n",
       "    <tr>\n",
       "      <th>6264074</th>\n",
       "      <td>1</td>\n",
       "      <td>70000</td>\n",
       "      <td>2</td>\n",
       "      <td>0.0</td>\n",
       "      <td>0</td>\n",
       "      <td>1</td>\n",
       "      <td>0</td>\n",
       "      <td>0</td>\n",
       "      <td>1</td>\n",
       "      <td>180.420000</td>\n",
       "      <td>0.000000</td>\n",
       "      <td>0.000000</td>\n",
       "      <td>False</td>\n",
       "      <td>False</td>\n",
       "      <td>True</td>\n",
       "      <td>False</td>\n",
       "      <td>False</td>\n",
       "      <td>False</td>\n",
       "      <td>True</td>\n",
       "      <td>False</td>\n",
       "      <td>False</td>\n",
       "      <td>True</td>\n",
       "      <td>True</td>\n",
       "      <td>False</td>\n",
       "      <td>False</td>\n",
       "      <td>False</td>\n",
       "      <td>False</td>\n",
       "      <td>False</td>\n",
       "      <td>True</td>\n",
       "      <td>False</td>\n",
       "      <td>False</td>\n",
       "      <td>True</td>\n",
       "      <td>False</td>\n",
       "      <td>False</td>\n",
       "      <td>False</td>\n",
       "      <td>True</td>\n",
       "      <td>False</td>\n",
       "      <td>True</td>\n",
       "      <td>False</td>\n",
       "      <td>False</td>\n",
       "    </tr>\n",
       "    <tr>\n",
       "      <th>6264075</th>\n",
       "      <td>1</td>\n",
       "      <td>70000</td>\n",
       "      <td>2</td>\n",
       "      <td>0.0</td>\n",
       "      <td>0</td>\n",
       "      <td>1</td>\n",
       "      <td>0</td>\n",
       "      <td>0</td>\n",
       "      <td>1</td>\n",
       "      <td>134.000000</td>\n",
       "      <td>0.000000</td>\n",
       "      <td>0.000000</td>\n",
       "      <td>False</td>\n",
       "      <td>False</td>\n",
       "      <td>True</td>\n",
       "      <td>False</td>\n",
       "      <td>False</td>\n",
       "      <td>False</td>\n",
       "      <td>True</td>\n",
       "      <td>False</td>\n",
       "      <td>False</td>\n",
       "      <td>True</td>\n",
       "      <td>True</td>\n",
       "      <td>False</td>\n",
       "      <td>False</td>\n",
       "      <td>False</td>\n",
       "      <td>True</td>\n",
       "      <td>False</td>\n",
       "      <td>False</td>\n",
       "      <td>False</td>\n",
       "      <td>False</td>\n",
       "      <td>True</td>\n",
       "      <td>False</td>\n",
       "      <td>False</td>\n",
       "      <td>False</td>\n",
       "      <td>True</td>\n",
       "      <td>False</td>\n",
       "      <td>True</td>\n",
       "      <td>False</td>\n",
       "      <td>False</td>\n",
       "    </tr>\n",
       "    <tr>\n",
       "      <th>6264076</th>\n",
       "      <td>1</td>\n",
       "      <td>70000</td>\n",
       "      <td>2</td>\n",
       "      <td>0.0</td>\n",
       "      <td>0</td>\n",
       "      <td>1</td>\n",
       "      <td>0</td>\n",
       "      <td>0</td>\n",
       "      <td>1</td>\n",
       "      <td>82.780000</td>\n",
       "      <td>0.000000</td>\n",
       "      <td>0.000000</td>\n",
       "      <td>False</td>\n",
       "      <td>False</td>\n",
       "      <td>True</td>\n",
       "      <td>False</td>\n",
       "      <td>False</td>\n",
       "      <td>False</td>\n",
       "      <td>True</td>\n",
       "      <td>False</td>\n",
       "      <td>False</td>\n",
       "      <td>True</td>\n",
       "      <td>False</td>\n",
       "      <td>False</td>\n",
       "      <td>True</td>\n",
       "      <td>False</td>\n",
       "      <td>True</td>\n",
       "      <td>False</td>\n",
       "      <td>False</td>\n",
       "      <td>False</td>\n",
       "      <td>False</td>\n",
       "      <td>True</td>\n",
       "      <td>False</td>\n",
       "      <td>False</td>\n",
       "      <td>False</td>\n",
       "      <td>True</td>\n",
       "      <td>False</td>\n",
       "      <td>True</td>\n",
       "      <td>False</td>\n",
       "      <td>False</td>\n",
       "    </tr>\n",
       "    <tr>\n",
       "      <th>6264077</th>\n",
       "      <td>1</td>\n",
       "      <td>70000</td>\n",
       "      <td>2</td>\n",
       "      <td>0.0</td>\n",
       "      <td>0</td>\n",
       "      <td>1</td>\n",
       "      <td>0</td>\n",
       "      <td>0</td>\n",
       "      <td>1</td>\n",
       "      <td>155.000000</td>\n",
       "      <td>0.000000</td>\n",
       "      <td>0.000000</td>\n",
       "      <td>False</td>\n",
       "      <td>False</td>\n",
       "      <td>True</td>\n",
       "      <td>False</td>\n",
       "      <td>False</td>\n",
       "      <td>False</td>\n",
       "      <td>True</td>\n",
       "      <td>False</td>\n",
       "      <td>False</td>\n",
       "      <td>True</td>\n",
       "      <td>False</td>\n",
       "      <td>False</td>\n",
       "      <td>True</td>\n",
       "      <td>False</td>\n",
       "      <td>True</td>\n",
       "      <td>False</td>\n",
       "      <td>False</td>\n",
       "      <td>False</td>\n",
       "      <td>False</td>\n",
       "      <td>True</td>\n",
       "      <td>False</td>\n",
       "      <td>False</td>\n",
       "      <td>False</td>\n",
       "      <td>True</td>\n",
       "      <td>False</td>\n",
       "      <td>True</td>\n",
       "      <td>False</td>\n",
       "      <td>False</td>\n",
       "    </tr>\n",
       "    <tr>\n",
       "      <th>6264078</th>\n",
       "      <td>1</td>\n",
       "      <td>70000</td>\n",
       "      <td>2</td>\n",
       "      <td>0.0</td>\n",
       "      <td>0</td>\n",
       "      <td>1</td>\n",
       "      <td>0</td>\n",
       "      <td>0</td>\n",
       "      <td>1</td>\n",
       "      <td>223.000000</td>\n",
       "      <td>0.000000</td>\n",
       "      <td>0.000000</td>\n",
       "      <td>False</td>\n",
       "      <td>False</td>\n",
       "      <td>True</td>\n",
       "      <td>False</td>\n",
       "      <td>False</td>\n",
       "      <td>False</td>\n",
       "      <td>True</td>\n",
       "      <td>False</td>\n",
       "      <td>False</td>\n",
       "      <td>True</td>\n",
       "      <td>False</td>\n",
       "      <td>True</td>\n",
       "      <td>False</td>\n",
       "      <td>False</td>\n",
       "      <td>False</td>\n",
       "      <td>False</td>\n",
       "      <td>True</td>\n",
       "      <td>False</td>\n",
       "      <td>False</td>\n",
       "      <td>True</td>\n",
       "      <td>False</td>\n",
       "      <td>False</td>\n",
       "      <td>False</td>\n",
       "      <td>True</td>\n",
       "      <td>False</td>\n",
       "      <td>True</td>\n",
       "      <td>False</td>\n",
       "      <td>False</td>\n",
       "    </tr>\n",
       "  </tbody>\n",
       "</table>\n",
       "<p>6264079 rows × 40 columns</p>\n",
       "</div>"
      ],
      "text/plain": [
       "         DISTINCT_COUNTRIES_PAST_12MONTHS  US_HONORS_INCOME_RANGE_DETAILED  \\\n",
       "0                                       1                           125000   \n",
       "1                                       0                                0   \n",
       "2                                       1                                0   \n",
       "3                                       1                            87500   \n",
       "4                                       2                            70000   \n",
       "...                                   ...                              ...   \n",
       "6264074                                 1                            70000   \n",
       "6264075                                 1                            70000   \n",
       "6264076                                 1                            70000   \n",
       "6264077                                 1                            70000   \n",
       "6264078                                 1                            70000   \n",
       "\n",
       "         US_HONORS_HOUSEHOLD_SIZE  EMAIL_CLICKS_P36M  MARKETABLE_CUSTOMER  \\\n",
       "0                               3               17.0                    1   \n",
       "1                               1                0.0                    1   \n",
       "2                               1                2.0                    0   \n",
       "3                               1                5.0                    1   \n",
       "4                               2               19.0                    0   \n",
       "...                           ...                ...                  ...   \n",
       "6264074                         2                0.0                    0   \n",
       "6264075                         2                0.0                    0   \n",
       "6264076                         2                0.0                    0   \n",
       "6264077                         2                0.0                    0   \n",
       "6264078                         2                0.0                    0   \n",
       "\n",
       "         Diff_FCY_NOW  CUST_STAYS_RESORT_P36M  \\\n",
       "0                   6                       2   \n",
       "1                   6                       0   \n",
       "2                   6                       0   \n",
       "3                   6                       0   \n",
       "4                   6                       0   \n",
       "...               ...                     ...   \n",
       "6264074             1                       0   \n",
       "6264075             1                       0   \n",
       "6264076             1                       0   \n",
       "6264077             1                       0   \n",
       "6264078             1                       0   \n",
       "\n",
       "         CUST_STAYS_LUXURY_BRAND_DIV_P36M  CUST_STAYS_P36M  \\\n",
       "0                                       0               10   \n",
       "1                                       0                1   \n",
       "2                                       0                4   \n",
       "3                                       0                5   \n",
       "4                                       0               12   \n",
       "...                                   ...              ...   \n",
       "6264074                                 0                1   \n",
       "6264075                                 0                1   \n",
       "6264076                                 0                1   \n",
       "6264077                                 0                1   \n",
       "6264078                                 0                1   \n",
       "\n",
       "         FOLIO_NIGHTS_RATIO  TRIP_MILES_PER_STAY  FB_FOLIO_RATIO  \\\n",
       "0                132.200556           914.538071        0.116876   \n",
       "1                380.756667           210.825144        0.056904   \n",
       "2                122.075000             0.000000        0.000000   \n",
       "3                108.053158           451.299193        0.000000   \n",
       "4                190.398333             0.000000        0.083540   \n",
       "...                     ...                  ...             ...   \n",
       "6264074          180.420000             0.000000        0.000000   \n",
       "6264075          134.000000             0.000000        0.000000   \n",
       "6264076           82.780000             0.000000        0.000000   \n",
       "6264077          155.000000             0.000000        0.000000   \n",
       "6264078          223.000000             0.000000        0.000000   \n",
       "\n",
       "         HONORS_ACTIVE_FLAG_Active Honors  HONORS_ACTIVE_FLAG_Inactive Honors  \\\n",
       "0                                    True                               False   \n",
       "1                                    True                               False   \n",
       "2                                   False                                True   \n",
       "3                                   False                                True   \n",
       "4                                    True                               False   \n",
       "...                                   ...                                 ...   \n",
       "6264074                             False                               False   \n",
       "6264075                             False                               False   \n",
       "6264076                             False                               False   \n",
       "6264077                             False                               False   \n",
       "6264078                             False                               False   \n",
       "\n",
       "         HONORS_ACTIVE_FLAG_Non Honors  HONORS_TIER_B  HONORS_TIER_D  \\\n",
       "0                                False          False          False   \n",
       "1                                False           True          False   \n",
       "2                                False          False          False   \n",
       "3                                False          False          False   \n",
       "4                                False          False          False   \n",
       "...                                ...            ...            ...   \n",
       "6264074                           True          False          False   \n",
       "6264075                           True          False          False   \n",
       "6264076                           True          False          False   \n",
       "6264077                           True          False          False   \n",
       "6264078                           True          False          False   \n",
       "\n",
       "         HONORS_TIER_G  HONORS_TIER_NHH  HONORS_TIER_S  \\\n",
       "0                False            False           True   \n",
       "1                False            False          False   \n",
       "2                False             True          False   \n",
       "3                False            False           True   \n",
       "4                 True            False          False   \n",
       "...                ...              ...            ...   \n",
       "6264074          False             True          False   \n",
       "6264075          False             True          False   \n",
       "6264076          False             True          False   \n",
       "6264077          False             True          False   \n",
       "6264078          False             True          False   \n",
       "\n",
       "         COBRAND_CARDHOLDER_FLAG_COBRAND CARDHOLDER  \\\n",
       "0                                             False   \n",
       "1                                             False   \n",
       "2                                             False   \n",
       "3                                             False   \n",
       "4                                             False   \n",
       "...                                             ...   \n",
       "6264074                                       False   \n",
       "6264075                                       False   \n",
       "6264076                                       False   \n",
       "6264077                                       False   \n",
       "6264078                                       False   \n",
       "\n",
       "         COBRAND_CARDHOLDER_FLAG_NOT COBRAND CARDHOLDER  \\\n",
       "0                                                  True   \n",
       "1                                                  True   \n",
       "2                                                  True   \n",
       "3                                                  True   \n",
       "4                                                  True   \n",
       "...                                                 ...   \n",
       "6264074                                            True   \n",
       "6264075                                            True   \n",
       "6264076                                            True   \n",
       "6264077                                            True   \n",
       "6264078                                            True   \n",
       "\n",
       "         PRIMARY_STAY_TYPE_LIFETIME_Business  \\\n",
       "0                                       True   \n",
       "1                                      False   \n",
       "2                                       True   \n",
       "3                                      False   \n",
       "4                                       True   \n",
       "...                                      ...   \n",
       "6264074                                 True   \n",
       "6264075                                 True   \n",
       "6264076                                False   \n",
       "6264077                                False   \n",
       "6264078                                False   \n",
       "\n",
       "         PRIMARY_STAY_TYPE_LIFETIME_Leisure  \\\n",
       "0                                     False   \n",
       "1                                     False   \n",
       "2                                     False   \n",
       "3                                      True   \n",
       "4                                     False   \n",
       "...                                     ...   \n",
       "6264074                               False   \n",
       "6264075                               False   \n",
       "6264076                               False   \n",
       "6264077                               False   \n",
       "6264078                                True   \n",
       "\n",
       "         PRIMARY_STAY_TYPE_LIFETIME_Other/Mix  \\\n",
       "0                                       False   \n",
       "1                                        True   \n",
       "2                                       False   \n",
       "3                                       False   \n",
       "4                                       False   \n",
       "...                                       ...   \n",
       "6264074                                 False   \n",
       "6264075                                 False   \n",
       "6264076                                  True   \n",
       "6264077                                  True   \n",
       "6264078                                 False   \n",
       "\n",
       "         PRIMARY_STAY_TYPE_LIFETIME_Unknown  PRIMARY_CHANNEL_LIFETIME_Direct  \\\n",
       "0                                     False                             True   \n",
       "1                                     False                            False   \n",
       "2                                     False                             True   \n",
       "3                                     False                             True   \n",
       "4                                     False                             True   \n",
       "...                                     ...                              ...   \n",
       "6264074                               False                            False   \n",
       "6264075                               False                             True   \n",
       "6264076                               False                             True   \n",
       "6264077                               False                             True   \n",
       "6264078                               False                            False   \n",
       "\n",
       "         PRIMARY_CHANNEL_LIFETIME_GDS  PRIMARY_CHANNEL_LIFETIME_OTA  \\\n",
       "0                               False                         False   \n",
       "1                               False                         False   \n",
       "2                               False                         False   \n",
       "3                               False                         False   \n",
       "4                               False                         False   \n",
       "...                               ...                           ...   \n",
       "6264074                         False                          True   \n",
       "6264075                         False                         False   \n",
       "6264076                         False                         False   \n",
       "6264077                         False                         False   \n",
       "6264078                         False                          True   \n",
       "\n",
       "         PRIMARY_CHANNEL_LIFETIME_Other/Mix  PRIMARY_CHANNEL_LIFETIME_Unknown  \\\n",
       "0                                     False                             False   \n",
       "1                                      True                             False   \n",
       "2                                     False                             False   \n",
       "3                                     False                             False   \n",
       "4                                     False                             False   \n",
       "...                                     ...                               ...   \n",
       "6264074                               False                             False   \n",
       "6264075                               False                             False   \n",
       "6264076                               False                             False   \n",
       "6264077                               False                             False   \n",
       "6264078                               False                             False   \n",
       "\n",
       "         PROMO_REGISTRANT_FLAG_P12M_NOT PROMO REGISTRANT  \\\n",
       "0                                                  False   \n",
       "1                                                   True   \n",
       "2                                                   True   \n",
       "3                                                   True   \n",
       "4                                                  False   \n",
       "...                                                  ...   \n",
       "6264074                                             True   \n",
       "6264075                                             True   \n",
       "6264076                                             True   \n",
       "6264077                                             True   \n",
       "6264078                                             True   \n",
       "\n",
       "         PROMO_REGISTRANT_FLAG_P12M_PROMO REGISTRANT  \\\n",
       "0                                               True   \n",
       "1                                              False   \n",
       "2                                              False   \n",
       "3                                              False   \n",
       "4                                               True   \n",
       "...                                              ...   \n",
       "6264074                                        False   \n",
       "6264075                                        False   \n",
       "6264076                                        False   \n",
       "6264077                                        False   \n",
       "6264078                                        False   \n",
       "\n",
       "         PROMO_REGISTRANT_FLAG_P12M_Unknown  \\\n",
       "0                                     False   \n",
       "1                                     False   \n",
       "2                                     False   \n",
       "3                                     False   \n",
       "4                                     False   \n",
       "...                                     ...   \n",
       "6264074                               False   \n",
       "6264075                               False   \n",
       "6264076                               False   \n",
       "6264077                               False   \n",
       "6264078                               False   \n",
       "\n",
       "         PREFERRED_LANGUGAGE_GROUPING_English  \\\n",
       "0                                        True   \n",
       "1                                        True   \n",
       "2                                        True   \n",
       "3                                        True   \n",
       "4                                        True   \n",
       "...                                       ...   \n",
       "6264074                                 False   \n",
       "6264075                                 False   \n",
       "6264076                                 False   \n",
       "6264077                                 False   \n",
       "6264078                                 False   \n",
       "\n",
       "         PREFERRED_LANGUGAGE_GROUPING_Not English  \\\n",
       "0                                           False   \n",
       "1                                           False   \n",
       "2                                           False   \n",
       "3                                           False   \n",
       "4                                           False   \n",
       "...                                           ...   \n",
       "6264074                                      True   \n",
       "6264075                                      True   \n",
       "6264076                                      True   \n",
       "6264077                                      True   \n",
       "6264078                                      True   \n",
       "\n",
       "         PREFERRED_LANGUGAGE_GROUPING_Unknown  \\\n",
       "0                                       False   \n",
       "1                                       False   \n",
       "2                                       False   \n",
       "3                                       False   \n",
       "4                                       False   \n",
       "...                                       ...   \n",
       "6264074                                 False   \n",
       "6264075                                 False   \n",
       "6264076                                 False   \n",
       "6264077                                 False   \n",
       "6264078                                 False   \n",
       "\n",
       "         PT_REDEEMER_PAST_12MONTHS_NON PT REDEEMER  \\\n",
       "0                                            False   \n",
       "1                                             True   \n",
       "2                                             True   \n",
       "3                                             True   \n",
       "4                                             True   \n",
       "...                                            ...   \n",
       "6264074                                       True   \n",
       "6264075                                       True   \n",
       "6264076                                       True   \n",
       "6264077                                       True   \n",
       "6264078                                       True   \n",
       "\n",
       "         PT_REDEEMER_PAST_12MONTHS_PT REDEEMER  \\\n",
       "0                                         True   \n",
       "1                                        False   \n",
       "2                                        False   \n",
       "3                                        False   \n",
       "4                                        False   \n",
       "...                                        ...   \n",
       "6264074                                  False   \n",
       "6264075                                  False   \n",
       "6264076                                  False   \n",
       "6264077                                  False   \n",
       "6264078                                  False   \n",
       "\n",
       "         PT_REDEEMER_PAST_12MONTHS_Unknown  \n",
       "0                                    False  \n",
       "1                                    False  \n",
       "2                                    False  \n",
       "3                                    False  \n",
       "4                                    False  \n",
       "...                                    ...  \n",
       "6264074                              False  \n",
       "6264075                              False  \n",
       "6264076                              False  \n",
       "6264077                              False  \n",
       "6264078                              False  \n",
       "\n",
       "[6264079 rows x 40 columns]"
      ]
     },
     "execution_count": 36,
     "metadata": {},
     "output_type": "execute_result"
    }
   ],
   "source": [
    "newdata"
   ]
  },
  {
   "cell_type": "code",
   "execution_count": 0,
   "metadata": {
    "application/vnd.databricks.v1+cell": {
     "cellMetadata": {
      "byteLimit": 2048000,
      "rowLimit": 10000
     },
     "inputWidgets": {},
     "nuid": "7f32d7d3-72b4-4ac7-be15-5fda77a1a770",
     "showTitle": false,
     "title": ""
    }
   },
   "outputs": [],
   "source": [
    "# For unstandardized values\n",
    "\n",
    "def standardize_column(df, col):\n",
    "    mean = df[col].mean()\n",
    "    std = df[col].std()\n",
    "    df[col] = (df[col] - mean) / std\n",
    "    return mean, std"
   ]
  },
  {
   "cell_type": "code",
   "execution_count": 0,
   "metadata": {
    "application/vnd.databricks.v1+cell": {
     "cellMetadata": {
      "byteLimit": 2048000,
      "rowLimit": 10000
     },
     "inputWidgets": {},
     "nuid": "35176a47-40e8-41ad-9491-05d062990ca8",
     "showTitle": false,
     "title": ""
    }
   },
   "outputs": [],
   "source": [
    "standardize=[\"DISTINCT_COUNTRIES_PAST_12MONTHS\", \"US_HONORS_INCOME_RANGE_DETAILED\",\n",
    "       \"US_HONORS_HOUSEHOLD_SIZE\", 'EMAIL_CLICKS_P36M', 'CUST_STAYS_RESORT_P36M', 'Diff_FCY_NOW', \n",
    "       'CUST_STAYS_LUXURY_BRAND_DIV_P36M', 'CUST_STAYS_P36M', 'FOLIO_NIGHTS_RATIO', 'TRIP_MILES_PER_STAY',\n",
    "       'FB_FOLIO_RATIO']\n",
    "\n",
    "# standardize=[\"DISTINCT_COUNTRIES_PAST_12MONTHS\", \"US_HONORS_INCOME_RANGE_DETAILED\",\n",
    "#        \"US_HONORS_HOUSEHOLD_SIZE\", 'EMAIL_CLICKS_P36M', 'CUST_STAYS_RESORT_P36M', 'Diff_FCY_NOW', \n",
    "#        'CUST_STAYS_LUXURY_BRAND_DIV_P36M', 'CUST_STAYS_P36M', 'FOLIO_NIGHTS_RATIO', 'TRIP_MILES_PER_STAY',\n",
    "#        'FB_FOLIO_RATIO']\n",
    "\n",
    "mean_std_dict = {}\n",
    "for col in standardize:\n",
    "    newdata[col] = y[col]  # Ensure newdata has the correct columns from y\n",
    "    mean, std = standardize_column(newdata, col)\n",
    "    mean_std_dict[col] = (mean, std)"
   ]
  },
  {
   "cell_type": "code",
   "execution_count": 0,
   "metadata": {
    "application/vnd.databricks.v1+cell": {
     "cellMetadata": {
      "byteLimit": 2048000,
      "rowLimit": 10000
     },
     "inputWidgets": {},
     "nuid": "1c5b8b9e-6270-4e5e-8a58-1cd4f2f902c1",
     "showTitle": false,
     "title": ""
    }
   },
   "outputs": [
    {
     "output_type": "execute_result",
     "data": {
      "text/plain": [
       "['DISTINCT_COUNTRIES_PAST_12MONTHS',\n",
       " 'US_HONORS_INCOME_RANGE_DETAILED',\n",
       " 'US_HONORS_HOUSEHOLD_SIZE',\n",
       " 'EMAIL_CLICKS_P36M',\n",
       " 'MARKETABLE_CUSTOMER',\n",
       " 'Diff_FCY_NOW',\n",
       " 'CUST_STAYS_RESORT_P36M',\n",
       " 'CUST_STAYS_LUXURY_BRAND_DIV_P36M',\n",
       " 'CUST_STAYS_P36M',\n",
       " 'FOLIO_NIGHTS_RATIO',\n",
       " 'TRIP_MILES_PER_STAY',\n",
       " 'FB_FOLIO_RATIO',\n",
       " 'HONORS_ACTIVE_FLAG_Active Honors',\n",
       " 'HONORS_ACTIVE_FLAG_Inactive Honors',\n",
       " 'HONORS_ACTIVE_FLAG_Non Honors',\n",
       " 'HONORS_TIER_B',\n",
       " 'HONORS_TIER_D',\n",
       " 'HONORS_TIER_G',\n",
       " 'HONORS_TIER_NHH',\n",
       " 'HONORS_TIER_S',\n",
       " 'COBRAND_CARDHOLDER_FLAG_COBRAND CARDHOLDER',\n",
       " 'COBRAND_CARDHOLDER_FLAG_NOT COBRAND CARDHOLDER',\n",
       " 'PRIMARY_STAY_TYPE_LIFETIME_Business',\n",
       " 'PRIMARY_STAY_TYPE_LIFETIME_Leisure',\n",
       " 'PRIMARY_STAY_TYPE_LIFETIME_Other/Mix',\n",
       " 'PRIMARY_STAY_TYPE_LIFETIME_Unknown',\n",
       " 'PRIMARY_CHANNEL_LIFETIME_Direct',\n",
       " 'PRIMARY_CHANNEL_LIFETIME_GDS',\n",
       " 'PRIMARY_CHANNEL_LIFETIME_OTA',\n",
       " 'PRIMARY_CHANNEL_LIFETIME_Other/Mix',\n",
       " 'PRIMARY_CHANNEL_LIFETIME_Unknown',\n",
       " 'PROMO_REGISTRANT_FLAG_P12M_NOT PROMO REGISTRANT',\n",
       " 'PROMO_REGISTRANT_FLAG_P12M_PROMO REGISTRANT',\n",
       " 'PROMO_REGISTRANT_FLAG_P12M_Unknown',\n",
       " 'PREFERRED_LANGUGAGE_GROUPING_English',\n",
       " 'PREFERRED_LANGUGAGE_GROUPING_Not English',\n",
       " 'PREFERRED_LANGUGAGE_GROUPING_Unknown',\n",
       " 'PT_REDEEMER_PAST_12MONTHS_NON PT REDEEMER',\n",
       " 'PT_REDEEMER_PAST_12MONTHS_PT REDEEMER',\n",
       " 'PT_REDEEMER_PAST_12MONTHS_Unknown']"
      ]
     },
     "execution_count": 39,
     "metadata": {},
     "output_type": "execute_result"
    }
   ],
   "source": [
    "cols=newdata.columns.tolist()\n",
    "cols"
   ]
  },
  {
   "cell_type": "code",
   "execution_count": 0,
   "metadata": {
    "application/vnd.databricks.v1+cell": {
     "cellMetadata": {
      "byteLimit": 2048000,
      "rowLimit": 10000
     },
     "inputWidgets": {},
     "nuid": "5e4f9c8e-2524-4e5d-9a85-e265d513e204",
     "showTitle": false,
     "title": ""
    }
   },
   "outputs": [],
   "source": [
    "newdata2 = pd.concat([newdata.reset_index(drop=True), \n",
    "                      pd.get_dummies(customers[['CUSTOMER_SEGMENT', 'COBRAND_SEG', 'LIFETIME_DIAMOND_FLAG', 'ORGANIC_INORGANIC_FLAG', \n",
    "           'ENROLL_CHANNEL', 'APP_LAUNCHER_P12M', 'CUSTOMER_REGION_CODE', 'CUSTOMER_COUNTRY', \n",
    "           'HGV_OWNER_FLAG', 'PRIMARY_BRAND_LT', 'US_HONORS_OCCUPATION', 'US_HONORS_OCCUPATION_DETAILED', \n",
    "           'US_HONORS_LIFE_STAGE', 'UPSCALE_PROPENSITY', 'POINTS_BALANCE_CATEGORIES',\n",
    "           'UNIQUE_BRANDS_P12M_BUCKETS', 'UNIQUE_BRANDS_P36M_BUCKETS', 'FIRST_PREFERRED_BOOKING_RATE_P36M', \n",
    "           'SECOND_PREFERRED_BOOKING_RATE_P36M', 'THIRD_PREFERRED_BOOKING_RATE_P31M']]),\n",
    "           customers[columns_to_fill]], axis=1)"
   ]
  },
  {
   "cell_type": "code",
   "execution_count": 0,
   "metadata": {
    "application/vnd.databricks.v1+cell": {
     "cellMetadata": {
      "byteLimit": 2048000,
      "rowLimit": 10000
     },
     "inputWidgets": {},
     "nuid": "339b7f8e-be94-45d9-a88a-c4a34b642a9f",
     "showTitle": false,
     "title": ""
    }
   },
   "outputs": [],
   "source": [
    "# newdata2 = pd.concat([newdata.reset_index(drop=True), \n",
    "#                       pd.get_dummies(customers[['CUSTOMER_SEGMENT', 'COBRAND_SEG', 'LIFETIME_DIAMOND_FLAG', 'ORGANIC_INORGANIC_FLAG', \n",
    "#            'ENROLL_CHANNEL', 'APP_LAUNCHER_P12M', 'CUSTOMER_REGION_CODE', 'CUSTOMER_COUNTRY', \n",
    "#            'HGV_OWNER_FLAG', 'PRIMARY_BRAND_LT', 'US_HONORS_OCCUPATION', 'US_HONORS_OCCUPATION_DETAILED', \n",
    "#            'US_HONORS_LIFE_STAGE', 'UPSCALE_PROPENSITY', 'POINTS_BALANCE_CATEGORIES',\n",
    "#            'FIRST_PREFERRED_BOOKING_RATE_P36M', \n",
    "#            'SECOND_PREFERRED_BOOKING_RATE_P36M', 'THIRD_PREFERRED_BOOKING_RATE_P31M']]),\n",
    "#            customers[columns_to_fill]], axis=1)"
   ]
  },
  {
   "cell_type": "code",
   "execution_count": 0,
   "metadata": {
    "application/vnd.databricks.v1+cell": {
     "cellMetadata": {
      "byteLimit": 2048000,
      "rowLimit": 10000
     },
     "inputWidgets": {},
     "nuid": "5a2c4dde-1eb2-4f2c-bb34-8aced0775a1e",
     "showTitle": false,
     "title": ""
    }
   },
   "outputs": [
    {
     "output_type": "stream",
     "name": "stderr",
     "output_type": "stream",
     "text": [
      "Exception ignored on calling ctypes callback function: <function _ThreadpoolInfo._find_modules_with_dl_iterate_phdr.<locals>.match_module_callback at 0x7f5e04440360>\nTraceback (most recent call last):\n  File \"/databricks/python/lib/python3.11/site-packages/threadpoolctl.py\", line 400, in match_module_callback\n    self._make_module_from_path(filepath)\n  File \"/databricks/python/lib/python3.11/site-packages/threadpoolctl.py\", line 515, in _make_module_from_path\n    module = module_class(filepath, prefix, user_api, internal_api)\n             ^^^^^^^^^^^^^^^^^^^^^^^^^^^^^^^^^^^^^^^^^^^^^^^^^^^^^^\n  File \"/databricks/python/lib/python3.11/site-packages/threadpoolctl.py\", line 606, in __init__\n    self.version = self.get_version()\n                   ^^^^^^^^^^^^^^^^^^\n  File \"/databricks/python/lib/python3.11/site-packages/threadpoolctl.py\", line 646, in get_version\n    config = get_config().split()\n             ^^^^^^^^^^^^^^^^^^\nAttributeError: 'NoneType' object has no attribute 'split'\nException ignored on calling ctypes callback function: <function _ThreadpoolInfo._find_modules_with_dl_iterate_phdr.<locals>.match_module_callback at 0x7f5e04440360>\nTraceback (most recent call last):\n  File \"/databricks/python/lib/python3.11/site-packages/threadpoolctl.py\", line 400, in match_module_callback\n    self._make_module_from_path(filepath)\n  File \"/databricks/python/lib/python3.11/site-packages/threadpoolctl.py\", line 515, in _make_module_from_path\n    module = module_class(filepath, prefix, user_api, internal_api)\n             ^^^^^^^^^^^^^^^^^^^^^^^^^^^^^^^^^^^^^^^^^^^^^^^^^^^^^^\n  File \"/databricks/python/lib/python3.11/site-packages/threadpoolctl.py\", line 606, in __init__\n    self.version = self.get_version()\n                   ^^^^^^^^^^^^^^^^^^\n  File \"/databricks/python/lib/python3.11/site-packages/threadpoolctl.py\", line 646, in get_version\n    config = get_config().split()\n             ^^^^^^^^^^^^^^^^^^\nAttributeError: 'NoneType' object has no attribute 'split'\nException ignored on calling ctypes callback function: <function _ThreadpoolInfo._find_modules_with_dl_iterate_phdr.<locals>.match_module_callback at 0x7f5e04440360>\nTraceback (most recent call last):\n  File \"/databricks/python/lib/python3.11/site-packages/threadpoolctl.py\", line 400, in match_module_callback\n    self._make_module_from_path(filepath)\n  File \"/databricks/python/lib/python3.11/site-packages/threadpoolctl.py\", line 515, in _make_module_from_path\n    module = module_class(filepath, prefix, user_api, internal_api)\n             ^^^^^^^^^^^^^^^^^^^^^^^^^^^^^^^^^^^^^^^^^^^^^^^^^^^^^^\n  File \"/databricks/python/lib/python3.11/site-packages/threadpoolctl.py\", line 606, in __init__\n    self.version = self.get_version()\n                   ^^^^^^^^^^^^^^^^^^\n  File \"/databricks/python/lib/python3.11/site-packages/threadpoolctl.py\", line 646, in get_version\n    config = get_config().split()\n             ^^^^^^^^^^^^^^^^^^\nAttributeError: 'NoneType' object has no attribute 'split'\nException ignored on calling ctypes callback function: <function _ThreadpoolInfo._find_modules_with_dl_iterate_phdr.<locals>.match_module_callback at 0x7f5e04440360>\nTraceback (most recent call last):\n  File \"/databricks/python/lib/python3.11/site-packages/threadpoolctl.py\", line 400, in match_module_callback\n    self._make_module_from_path(filepath)\n  File \"/databricks/python/lib/python3.11/site-packages/threadpoolctl.py\", line 515, in _make_module_from_path\n    module = module_class(filepath, prefix, user_api, internal_api)\n             ^^^^^^^^^^^^^^^^^^^^^^^^^^^^^^^^^^^^^^^^^^^^^^^^^^^^^^\n  File \"/databricks/python/lib/python3.11/site-packages/threadpoolctl.py\", line 606, in __init__\n    self.version = self.get_version()\n                   ^^^^^^^^^^^^^^^^^^\n  File \"/databricks/python/lib/python3.11/site-packages/threadpoolctl.py\", line 646, in get_version\n    config = get_config().split()\n             ^^^^^^^^^^^^^^^^^^\nAttributeError: 'NoneType' object has no attribute 'split'\nException ignored on calling ctypes callback function: <function _ThreadpoolInfo._find_modules_with_dl_iterate_phdr.<locals>.match_module_callback at 0x7f5e04440360>\nTraceback (most recent call last):\n  File \"/databricks/python/lib/python3.11/site-packages/threadpoolctl.py\", line 400, in match_module_callback\n    self._make_module_from_path(filepath)\n  File \"/databricks/python/lib/python3.11/site-packages/threadpoolctl.py\", line 515, in _make_module_from_path\n    module = module_class(filepath, prefix, user_api, internal_api)\n             ^^^^^^^^^^^^^^^^^^^^^^^^^^^^^^^^^^^^^^^^^^^^^^^^^^^^^^\n  File \"/databricks/python/lib/python3.11/site-packages/threadpoolctl.py\", line 606, in __init__\n    self.version = self.get_version()\n                   ^^^^^^^^^^^^^^^^^^\n  File \"/databricks/python/lib/python3.11/site-packages/threadpoolctl.py\", line 646, in get_version\n    config = get_config().split()\n             ^^^^^^^^^^^^^^^^^^\nAttributeError: 'NoneType' object has no attribute 'split'\nException ignored on calling ctypes callback function: <function _ThreadpoolInfo._find_modules_with_dl_iterate_phdr.<locals>.match_module_callback at 0x7f5e04440360>\nTraceback (most recent call last):\n  File \"/databricks/python/lib/python3.11/site-packages/threadpoolctl.py\", line 400, in match_module_callback\n    self._make_module_from_path(filepath)\n  File \"/databricks/python/lib/python3.11/site-packages/threadpoolctl.py\", line 515, in _make_module_from_path\n    module = module_class(filepath, prefix, user_api, internal_api)\n             ^^^^^^^^^^^^^^^^^^^^^^^^^^^^^^^^^^^^^^^^^^^^^^^^^^^^^^\n  File \"/databricks/python/lib/python3.11/site-packages/threadpoolctl.py\", line 606, in __init__\n    self.version = self.get_version()\n                   ^^^^^^^^^^^^^^^^^^\n  File \"/databricks/python/lib/python3.11/site-packages/threadpoolctl.py\", line 646, in get_version\n    config = get_config().split()\n             ^^^^^^^^^^^^^^^^^^\nAttributeError: 'NoneType' object has no attribute 'split'\nException ignored on calling ctypes callback function: <function _ThreadpoolInfo._find_modules_with_dl_iterate_phdr.<locals>.match_module_callback at 0x7f5e04440360>\nTraceback (most recent call last):\n  File \"/databricks/python/lib/python3.11/site-packages/threadpoolctl.py\", line 400, in match_module_callback\n    self._make_module_from_path(filepath)\n  File \"/databricks/python/lib/python3.11/site-packages/threadpoolctl.py\", line 515, in _make_module_from_path\n    module = module_class(filepath, prefix, user_api, internal_api)\n             ^^^^^^^^^^^^^^^^^^^^^^^^^^^^^^^^^^^^^^^^^^^^^^^^^^^^^^\n  File \"/databricks/python/lib/python3.11/site-packages/threadpoolctl.py\", line 606, in __init__\n    self.version = self.get_version()\n                   ^^^^^^^^^^^^^^^^^^\n  File \"/databricks/python/lib/python3.11/site-packages/threadpoolctl.py\", line 646, in get_version\n    config = get_config().split()\n             ^^^^^^^^^^^^^^^^^^\nAttributeError: 'NoneType' object has no attribute 'split'\nException ignored on calling ctypes callback function: <function _ThreadpoolInfo._find_modules_with_dl_iterate_phdr.<locals>.match_module_callback at 0x7f5e04440360>\nTraceback (most recent call last):\n  File \"/databricks/python/lib/python3.11/site-packages/threadpoolctl.py\", line 400, in match_module_callback\n    self._make_module_from_path(filepath)\n  File \"/databricks/python/lib/python3.11/site-packages/threadpoolctl.py\", line 515, in _make_module_from_path\n    module = module_class(filepath, prefix, user_api, internal_api)\n             ^^^^^^^^^^^^^^^^^^^^^^^^^^^^^^^^^^^^^^^^^^^^^^^^^^^^^^\n  File \"/databricks/python/lib/python3.11/site-packages/threadpoolctl.py\", line 606, in __init__\n    self.version = self.get_version()\n                   ^^^^^^^^^^^^^^^^^^\n  File \"/databricks/python/lib/python3.11/site-packages/threadpoolctl.py\", line 646, in get_version\n    config = get_config().split()\n             ^^^^^^^^^^^^^^^^^^\nAttributeError: 'NoneType' object has no attribute 'split'\nException ignored on calling ctypes callback function: <function _ThreadpoolInfo._find_modules_with_dl_iterate_phdr.<locals>.match_module_callback at 0x7f5e04440360>\nTraceback (most recent call last):\n  File \"/databricks/python/lib/python3.11/site-packages/threadpoolctl.py\", line 400, in match_module_callback\n    self._make_module_from_path(filepath)\n  File \"/databricks/python/lib/python3.11/site-packages/threadpoolctl.py\", line 515, in _make_module_from_path\n    module = module_class(filepath, prefix, user_api, internal_api)\n             ^^^^^^^^^^^^^^^^^^^^^^^^^^^^^^^^^^^^^^^^^^^^^^^^^^^^^^\n  File \"/databricks/python/lib/python3.11/site-packages/threadpoolctl.py\", line 606, in __init__\n    self.version = self.get_version()\n                   ^^^^^^^^^^^^^^^^^^\n  File \"/databricks/python/lib/python3.11/site-packages/threadpoolctl.py\", line 646, in get_version\n    config = get_config().split()\n             ^^^^^^^^^^^^^^^^^^\nAttributeError: 'NoneType' object has no attribute 'split'\nException ignored on calling ctypes callback function: <function _ThreadpoolInfo._find_modules_with_dl_iterate_phdr.<locals>.match_module_callback at 0x7f5e04440360>\nTraceback (most recent call last):\n  File \"/databricks/python/lib/python3.11/site-packages/threadpoolctl.py\", line 400, in match_module_callback\n    self._make_module_from_path(filepath)\n  File \"/databricks/python/lib/python3.11/site-packages/threadpoolctl.py\", line 515, in _make_module_from_path\n    module = module_class(filepath, prefix, user_api, internal_api)\n             ^^^^^^^^^^^^^^^^^^^^^^^^^^^^^^^^^^^^^^^^^^^^^^^^^^^^^^\n  File \"/databricks/python/lib/python3.11/site-packages/threadpoolctl.py\", line 606, in __init__\n    self.version = self.get_version()\n                   ^^^^^^^^^^^^^^^^^^\n  File \"/databricks/python/lib/python3.11/site-packages/threadpoolctl.py\", line 646, in get_version\n    config = get_config().split()\n             ^^^^^^^^^^^^^^^^^^\nAttributeError: 'NoneType' object has no attribute 'split'\nException ignored on calling ctypes callback function: <function _ThreadpoolInfo._find_modules_with_dl_iterate_phdr.<locals>.match_module_callback at 0x7f5e04440360>\nTraceback (most recent call last):\n  File \"/databricks/python/lib/python3.11/site-packages/threadpoolctl.py\", line 400, in match_module_callback\n    self._make_module_from_path(filepath)\n  File \"/databricks/python/lib/python3.11/site-packages/threadpoolctl.py\", line 515, in _make_module_from_path\n    module = module_class(filepath, prefix, user_api, internal_api)\n             ^^^^^^^^^^^^^^^^^^^^^^^^^^^^^^^^^^^^^^^^^^^^^^^^^^^^^^\n  File \"/databricks/python/lib/python3.11/site-packages/threadpoolctl.py\", line 606, in __init__\n    self.version = self.get_version()\n                   ^^^^^^^^^^^^^^^^^^\n  File \"/databricks/python/lib/python3.11/site-packages/threadpoolctl.py\", line 646, in get_version\n    config = get_config().split()\n             ^^^^^^^^^^^^^^^^^^\nAttributeError: 'NoneType' object has no attribute 'split'\nException ignored on calling ctypes callback function: <function _ThreadpoolInfo._find_modules_with_dl_iterate_phdr.<locals>.match_module_callback at 0x7f5e04440360>\nTraceback (most recent call last):\n  File \"/databricks/python/lib/python3.11/site-packages/threadpoolctl.py\", line 400, in match_module_callback\n    self._make_module_from_path(filepath)\n  File \"/databricks/python/lib/python3.11/site-packages/threadpoolctl.py\", line 515, in _make_module_from_path\n    module = module_class(filepath, prefix, user_api, internal_api)\n             ^^^^^^^^^^^^^^^^^^^^^^^^^^^^^^^^^^^^^^^^^^^^^^^^^^^^^^\n  File \"/databricks/python/lib/python3.11/site-packages/threadpoolctl.py\", line 606, in __init__\n    self.version = self.get_version()\n                   ^^^^^^^^^^^^^^^^^^\n  File \"/databricks/python/lib/python3.11/site-packages/threadpoolctl.py\", line 646, in get_version\n    config = get_config().split()\n             ^^^^^^^^^^^^^^^^^^\nAttributeError: 'NoneType' object has no attribute 'split'\nException ignored on calling ctypes callback function: <function _ThreadpoolInfo._find_modules_with_dl_iterate_phdr.<locals>.match_module_callback at 0x7f5894b00360>\nTraceback (most recent call last):\n  File \"/databricks/python/lib/python3.11/site-packages/threadpoolctl.py\", line 400, in match_module_callback\n    self._make_module_from_path(filepath)\n  File \"/databricks/python/lib/python3.11/site-packages/threadpoolctl.py\", line 515, in _make_module_from_path\n    module = module_class(filepath, prefix, user_api, internal_api)\n             ^^^^^^^^^^^^^^^^^^^^^^^^^^^^^^^^^^^^^^^^^^^^^^^^^^^^^^\n  File \"/databricks/python/lib/python3.11/site-packages/threadpoolctl.py\", line 606, in __init__\n    self.version = self.get_version()\n                   ^^^^^^^^^^^^^^^^^^\n  File \"/databricks/python/lib/python3.11/site-packages/threadpoolctl.py\", line 646, in get_version\n    config = get_config().split()\n             ^^^^^^^^^^^^^^^^^^\nAttributeError: 'NoneType' object has no attribute 'split'\nException ignored on calling ctypes callback function: <function _ThreadpoolInfo._find_modules_with_dl_iterate_phdr.<locals>.match_module_callback at 0x7f5894b00360>\nTraceback (most recent call last):\n  File \"/databricks/python/lib/python3.11/site-packages/threadpoolctl.py\", line 400, in match_module_callback\n    self._make_module_from_path(filepath)\n  File \"/databricks/python/lib/python3.11/site-packages/threadpoolctl.py\", line 515, in _make_module_from_path\n    module = module_class(filepath, prefix, user_api, internal_api)\n             ^^^^^^^^^^^^^^^^^^^^^^^^^^^^^^^^^^^^^^^^^^^^^^^^^^^^^^\n  File \"/databricks/python/lib/python3.11/site-packages/threadpoolctl.py\", line 606, in __init__\n    self.version = self.get_version()\n                   ^^^^^^^^^^^^^^^^^^\n  File \"/databricks/python/lib/python3.11/site-packages/threadpoolctl.py\", line 646, in get_version\n    config = get_config().split()\n             ^^^^^^^^^^^^^^^^^^\nAttributeError: 'NoneType' object has no attribute 'split'\nException ignored on calling ctypes callback function: <function _ThreadpoolInfo._find_modules_with_dl_iterate_phdr.<locals>.match_module_callback at 0x7f5e04440360>\nTraceback (most recent call last):\n  File \"/databricks/python/lib/python3.11/site-packages/threadpoolctl.py\", line 400, in match_module_callback\n    self._make_module_from_path(filepath)\n  File \"/databricks/python/lib/python3.11/site-packages/threadpoolctl.py\", line 515, in _make_module_from_path\n    module = module_class(filepath, prefix, user_api, internal_api)\n             ^^^^^^^^^^^^^^^^^^^^^^^^^^^^^^^^^^^^^^^^^^^^^^^^^^^^^^\n  File \"/databricks/python/lib/python3.11/site-packages/threadpoolctl.py\", line 606, in __init__\n    self.version = self.get_version()\n                   ^^^^^^^^^^^^^^^^^^\n  File \"/databricks/python/lib/python3.11/site-packages/threadpoolctl.py\", line 646, in get_version\n    config = get_config().split()\n             ^^^^^^^^^^^^^^^^^^\nAttributeError: 'NoneType' object has no attribute 'split'\nException ignored on calling ctypes callback function: <function _ThreadpoolInfo._find_modules_with_dl_iterate_phdr.<locals>.match_module_callback at 0x7f5e04440360>\nTraceback (most recent call last):\n  File \"/databricks/python/lib/python3.11/site-packages/threadpoolctl.py\", line 400, in match_module_callback\n    self._make_module_from_path(filepath)\n  File \"/databricks/python/lib/python3.11/site-packages/threadpoolctl.py\", line 515, in _make_module_from_path\n    module = module_class(filepath, prefix, user_api, internal_api)\n             ^^^^^^^^^^^^^^^^^^^^^^^^^^^^^^^^^^^^^^^^^^^^^^^^^^^^^^\n  File \"/databricks/python/lib/python3.11/site-packages/threadpoolctl.py\", line 606, in __init__\n    self.version = self.get_version()\n                   ^^^^^^^^^^^^^^^^^^\n  File \"/databricks/python/lib/python3.11/site-packages/threadpoolctl.py\", line 646, in get_version\n    config = get_config().split()\n             ^^^^^^^^^^^^^^^^^^\nAttributeError: 'NoneType' object has no attribute 'split'\nException ignored on calling ctypes callback function: <function _ThreadpoolInfo._find_modules_with_dl_iterate_phdr.<locals>.match_module_callback at 0x7f5e04440360>\nTraceback (most recent call last):\n  File \"/databricks/python/lib/python3.11/site-packages/threadpoolctl.py\", line 400, in match_module_callback\n    self._make_module_from_path(filepath)\n  File \"/databricks/python/lib/python3.11/site-packages/threadpoolctl.py\", line 515, in _make_module_from_path\n    module = module_class(filepath, prefix, user_api, internal_api)\n             ^^^^^^^^^^^^^^^^^^^^^^^^^^^^^^^^^^^^^^^^^^^^^^^^^^^^^^\n  File \"/databricks/python/lib/python3.11/site-packages/threadpoolctl.py\", line 606, in __init__\n    self.version = self.get_version()\n                   ^^^^^^^^^^^^^^^^^^\n  File \"/databricks/python/lib/python3.11/site-packages/threadpoolctl.py\", line 646, in get_version\n    config = get_config().split()\n             ^^^^^^^^^^^^^^^^^^\nAttributeError: 'NoneType' object has no attribute 'split'\nException ignored on calling ctypes callback function: <function _ThreadpoolInfo._find_modules_with_dl_iterate_phdr.<locals>.match_module_callback at 0x7f5e04440360>\nTraceback (most recent call last):\n  File \"/databricks/python/lib/python3.11/site-packages/threadpoolctl.py\", line 400, in match_module_callback\n    self._make_module_from_path(filepath)\n  File \"/databricks/python/lib/python3.11/site-packages/threadpoolctl.py\", line 515, in _make_module_from_path\n    module = module_class(filepath, prefix, user_api, internal_api)\n             ^^^^^^^^^^^^^^^^^^^^^^^^^^^^^^^^^^^^^^^^^^^^^^^^^^^^^^\n  File \"/databricks/python/lib/python3.11/site-packages/threadpoolctl.py\", line 606, in __init__\n    self.version = self.get_version()\n                   ^^^^^^^^^^^^^^^^^^\n  File \"/databricks/python/lib/python3.11/site-packages/threadpoolctl.py\", line 646, in get_version\n    config = get_config().split()\n             ^^^^^^^^^^^^^^^^^^\nAttributeError: 'NoneType' object has no attribute 'split'\nException ignored on calling ctypes callback function: <function _ThreadpoolInfo._find_modules_with_dl_iterate_phdr.<locals>.match_module_callback at 0x7f5e04440360>\nTraceback (most recent call last):\n  File \"/databricks/python/lib/python3.11/site-packages/threadpoolctl.py\", line 400, in match_module_callback\n    self._make_module_from_path(filepath)\n  File \"/databricks/python/lib/python3.11/site-packages/threadpoolctl.py\", line 515, in _make_module_from_path\n    module = module_class(filepath, prefix, user_api, internal_api)\n             ^^^^^^^^^^^^^^^^^^^^^^^^^^^^^^^^^^^^^^^^^^^^^^^^^^^^^^\n  File \"/databricks/python/lib/python3.11/site-packages/threadpoolctl.py\", line 606, in __init__\n    self.version = self.get_version()\n                   ^^^^^^^^^^^^^^^^^^\n  File \"/databricks/python/lib/python3.11/site-packages/threadpoolctl.py\", line 646, in get_version\n    config = get_config().split()\n             ^^^^^^^^^^^^^^^^^^\nAttributeError: 'NoneType' object has no attribute 'split'\nException ignored on calling ctypes callback function: <function _ThreadpoolInfo._find_modules_with_dl_iterate_phdr.<locals>.match_module_callback at 0x7f5e04440360>\nTraceback (most recent call last):\n  File \"/databricks/python/lib/python3.11/site-packages/threadpoolctl.py\", line 400, in match_module_callback\n    self._make_module_from_path(filepath)\n  File \"/databricks/python/lib/python3.11/site-packages/threadpoolctl.py\", line 515, in _make_module_from_path\n    module = module_class(filepath, prefix, user_api, internal_api)\n             ^^^^^^^^^^^^^^^^^^^^^^^^^^^^^^^^^^^^^^^^^^^^^^^^^^^^^^\n  File \"/databricks/python/lib/python3.11/site-packages/threadpoolctl.py\", line 606, in __init__\n    self.version = self.get_version()\n                   ^^^^^^^^^^^^^^^^^^\n  File \"/databricks/python/lib/python3.11/site-packages/threadpoolctl.py\", line 646, in get_version\n    config = get_config().split()\n             ^^^^^^^^^^^^^^^^^^\nAttributeError: 'NoneType' object has no attribute 'split'\nException ignored on calling ctypes callback function: <function _ThreadpoolInfo._find_modules_with_dl_iterate_phdr.<locals>.match_module_callback at 0x7f5e04440360>\nTraceback (most recent call last):\n  File \"/databricks/python/lib/python3.11/site-packages/threadpoolctl.py\", line 400, in match_module_callback\n    self._make_module_from_path(filepath)\n  File \"/databricks/python/lib/python3.11/site-packages/threadpoolctl.py\", line 515, in _make_module_from_path\n    module = module_class(filepath, prefix, user_api, internal_api)\n             ^^^^^^^^^^^^^^^^^^^^^^^^^^^^^^^^^^^^^^^^^^^^^^^^^^^^^^\n  File \"/databricks/python/lib/python3.11/site-packages/threadpoolctl.py\", line 606, in __init__\n    self.version = self.get_version()\n                   ^^^^^^^^^^^^^^^^^^\n  File \"/databricks/python/lib/python3.11/site-packages/threadpoolctl.py\", line 646, in get_version\n    config = get_config().split()\n             ^^^^^^^^^^^^^^^^^^\nAttributeError: 'NoneType' object has no attribute 'split'\nException ignored on calling ctypes callback function: <function _ThreadpoolInfo._find_modules_with_dl_iterate_phdr.<locals>.match_module_callback at 0x7f5e04440360>\nTraceback (most recent call last):\n  File \"/databricks/python/lib/python3.11/site-packages/threadpoolctl.py\", line 400, in match_module_callback\n    self._make_module_from_path(filepath)\n  File \"/databricks/python/lib/python3.11/site-packages/threadpoolctl.py\", line 515, in _make_module_from_path\n    module = module_class(filepath, prefix, user_api, internal_api)\n             ^^^^^^^^^^^^^^^^^^^^^^^^^^^^^^^^^^^^^^^^^^^^^^^^^^^^^^\n  File \"/databricks/python/lib/python3.11/site-packages/threadpoolctl.py\", line 606, in __init__\n    self.version = self.get_version()\n                   ^^^^^^^^^^^^^^^^^^\n  File \"/databricks/python/lib/python3.11/site-packages/threadpoolctl.py\", line 646, in get_version\n    config = get_config().split()\n             ^^^^^^^^^^^^^^^^^^\nAttributeError: 'NoneType' object has no attribute 'split'\nException ignored on calling ctypes callback function: <function _ThreadpoolInfo._find_modules_with_dl_iterate_phdr.<locals>.match_module_callback at 0x7f5e04440360>\nTraceback (most recent call last):\n  File \"/databricks/python/lib/python3.11/site-packages/threadpoolctl.py\", line 400, in match_module_callback\n    self._make_module_from_path(filepath)\n  File \"/databricks/python/lib/python3.11/site-packages/threadpoolctl.py\", line 515, in _make_module_from_path\n    module = module_class(filepath, prefix, user_api, internal_api)\n             ^^^^^^^^^^^^^^^^^^^^^^^^^^^^^^^^^^^^^^^^^^^^^^^^^^^^^^\n  File \"/databricks/python/lib/python3.11/site-packages/threadpoolctl.py\", line 606, in __init__\n    self.version = self.get_version()\n                   ^^^^^^^^^^^^^^^^^^\n  File \"/databricks/python/lib/python3.11/site-packages/threadpoolctl.py\", line 646, in get_version\n    config = get_config().split()\n             ^^^^^^^^^^^^^^^^^^\nAttributeError: 'NoneType' object has no attribute 'split'\nException ignored on calling ctypes callback function: <function _ThreadpoolInfo._find_modules_with_dl_iterate_phdr.<locals>.match_module_callback at 0x7f5e04440360>\nTraceback (most recent call last):\n  File \"/databricks/python/lib/python3.11/site-packages/threadpoolctl.py\", line 400, in match_module_callback\n    self._make_module_from_path(filepath)\n  File \"/databricks/python/lib/python3.11/site-packages/threadpoolctl.py\", line 515, in _make_module_from_path\n    module = module_class(filepath, prefix, user_api, internal_api)\n             ^^^^^^^^^^^^^^^^^^^^^^^^^^^^^^^^^^^^^^^^^^^^^^^^^^^^^^\n  File \"/databricks/python/lib/python3.11/site-packages/threadpoolctl.py\", line 606, in __init__\n    self.version = self.get_version()\n                   ^^^^^^^^^^^^^^^^^^\n  File \"/databricks/python/lib/python3.11/site-packages/threadpoolctl.py\", line 646, in get_version\n    config = get_config().split()\n             ^^^^^^^^^^^^^^^^^^\nAttributeError: 'NoneType' object has no attribute 'split'\nException ignored on calling ctypes callback function: <function _ThreadpoolInfo._find_modules_with_dl_iterate_phdr.<locals>.match_module_callback at 0x7f5e04440360>\nTraceback (most recent call last):\n  File \"/databricks/python/lib/python3.11/site-packages/threadpoolctl.py\", line 400, in match_module_callback\n    self._make_module_from_path(filepath)\n  File \"/databricks/python/lib/python3.11/site-packages/threadpoolctl.py\", line 515, in _make_module_from_path\n    module = module_class(filepath, prefix, user_api, internal_api)\n             ^^^^^^^^^^^^^^^^^^^^^^^^^^^^^^^^^^^^^^^^^^^^^^^^^^^^^^\n  File \"/databricks/python/lib/python3.11/site-packages/threadpoolctl.py\", line 606, in __init__\n    self.version = self.get_version()\n                   ^^^^^^^^^^^^^^^^^^\n  File \"/databricks/python/lib/python3.11/site-packages/threadpoolctl.py\", line 646, in get_version\n    config = get_config().split()\n             ^^^^^^^^^^^^^^^^^^\nAttributeError: 'NoneType' object has no attribute 'split'\nException ignored on calling ctypes callback function: <function _ThreadpoolInfo._find_modules_with_dl_iterate_phdr.<locals>.match_module_callback at 0x7f5e04440360>\nTraceback (most recent call last):\n  File \"/databricks/python/lib/python3.11/site-packages/threadpoolctl.py\", line 400, in match_module_callback\n    self._make_module_from_path(filepath)\n  File \"/databricks/python/lib/python3.11/site-packages/threadpoolctl.py\", line 515, in _make_module_from_path\n    module = module_class(filepath, prefix, user_api, internal_api)\n             ^^^^^^^^^^^^^^^^^^^^^^^^^^^^^^^^^^^^^^^^^^^^^^^^^^^^^^\n  File \"/databricks/python/lib/python3.11/site-packages/threadpoolctl.py\", line 606, in __init__\n    self.version = self.get_version()\n                   ^^^^^^^^^^^^^^^^^^\n  File \"/databricks/python/lib/python3.11/site-packages/threadpoolctl.py\", line 646, in get_version\n    config = get_config().split()\n             ^^^^^^^^^^^^^^^^^^\nAttributeError: 'NoneType' object has no attribute 'split'\nException ignored on calling ctypes callback function: <function _ThreadpoolInfo._find_modules_with_dl_iterate_phdr.<locals>.match_module_callback at 0x7f5e04440360>\nTraceback (most recent call last):\n  File \"/databricks/python/lib/python3.11/site-packages/threadpoolctl.py\", line 400, in match_module_callback\n    self._make_module_from_path(filepath)\n  File \"/databricks/python/lib/python3.11/site-packages/threadpoolctl.py\", line 515, in _make_module_from_path\n    module = module_class(filepath, prefix, user_api, internal_api)\n             ^^^^^^^^^^^^^^^^^^^^^^^^^^^^^^^^^^^^^^^^^^^^^^^^^^^^^^\n  File \"/databricks/python/lib/python3.11/site-packages/threadpoolctl.py\", line 606, in __init__\n    self.version = self.get_version()\n                   ^^^^^^^^^^^^^^^^^^\n  File \"/databricks/python/lib/python3.11/site-packages/threadpoolctl.py\", line 646, in get_version\n    config = get_config().split()\n             ^^^^^^^^^^^^^^^^^^\nAttributeError: 'NoneType' object has no attribute 'split'\nException ignored on calling ctypes callback function: <function _ThreadpoolInfo._find_modules_with_dl_iterate_phdr.<locals>.match_module_callback at 0x7f5e04440360>\nTraceback (most recent call last):\n  File \"/databricks/python/lib/python3.11/site-packages/threadpoolctl.py\", line 400, in match_module_callback\n    self._make_module_from_path(filepath)\n  File \"/databricks/python/lib/python3.11/site-packages/threadpoolctl.py\", line 515, in _make_module_from_path\n    module = module_class(filepath, prefix, user_api, internal_api)\n             ^^^^^^^^^^^^^^^^^^^^^^^^^^^^^^^^^^^^^^^^^^^^^^^^^^^^^^\n  File \"/databricks/python/lib/python3.11/site-packages/threadpoolctl.py\", line 606, in __init__\n    self.version = self.get_version()\n                   ^^^^^^^^^^^^^^^^^^\n  File \"/databricks/python/lib/python3.11/site-packages/threadpoolctl.py\", line 646, in get_version\n    config = get_config().split()\n             ^^^^^^^^^^^^^^^^^^\nAttributeError: 'NoneType' object has no attribute 'split'\nException ignored on calling ctypes callback function: <function _ThreadpoolInfo._find_modules_with_dl_iterate_phdr.<locals>.match_module_callback at 0x7f5e04440360>\nTraceback (most recent call last):\n  File \"/databricks/python/lib/python3.11/site-packages/threadpoolctl.py\", line 400, in match_module_callback\n    self._make_module_from_path(filepath)\n  File \"/databricks/python/lib/python3.11/site-packages/threadpoolctl.py\", line 515, in _make_module_from_path\n    module = module_class(filepath, prefix, user_api, internal_api)\n             ^^^^^^^^^^^^^^^^^^^^^^^^^^^^^^^^^^^^^^^^^^^^^^^^^^^^^^\n  File \"/databricks/python/lib/python3.11/site-packages/threadpoolctl.py\", line 606, in __init__\n    self.version = self.get_version()\n                   ^^^^^^^^^^^^^^^^^^\n  File \"/databricks/python/lib/python3.11/site-packages/threadpoolctl.py\", line 646, in get_version\n    config = get_config().split()\n             ^^^^^^^^^^^^^^^^^^\nAttributeError: 'NoneType' object has no attribute 'split'\nException ignored on calling ctypes callback function: <function _ThreadpoolInfo._find_modules_with_dl_iterate_phdr.<locals>.match_module_callback at 0x7f5e04440360>\nTraceback (most recent call last):\n  File \"/databricks/python/lib/python3.11/site-packages/threadpoolctl.py\", line 400, in match_module_callback\n    self._make_module_from_path(filepath)\n  File \"/databricks/python/lib/python3.11/site-packages/threadpoolctl.py\", line 515, in _make_module_from_path\n    module = module_class(filepath, prefix, user_api, internal_api)\n             ^^^^^^^^^^^^^^^^^^^^^^^^^^^^^^^^^^^^^^^^^^^^^^^^^^^^^^\n  File \"/databricks/python/lib/python3.11/site-packages/threadpoolctl.py\", line 606, in __init__\n    self.version = self.get_version()\n                   ^^^^^^^^^^^^^^^^^^\n  File \"/databricks/python/lib/python3.11/site-packages/threadpoolctl.py\", line 646, in get_version\n    config = get_config().split()\n             ^^^^^^^^^^^^^^^^^^\nAttributeError: 'NoneType' object has no attribute 'split'\nException ignored on calling ctypes callback function: <function _ThreadpoolInfo._find_modules_with_dl_iterate_phdr.<locals>.match_module_callback at 0x7f5e04440360>\nTraceback (most recent call last):\n  File \"/databricks/python/lib/python3.11/site-packages/threadpoolctl.py\", line 400, in match_module_callback\n    self._make_module_from_path(filepath)\n  File \"/databricks/python/lib/python3.11/site-packages/threadpoolctl.py\", line 515, in _make_module_from_path\n    module = module_class(filepath, prefix, user_api, internal_api)\n             ^^^^^^^^^^^^^^^^^^^^^^^^^^^^^^^^^^^^^^^^^^^^^^^^^^^^^^\n  File \"/databricks/python/lib/python3.11/site-packages/threadpoolctl.py\", line 606, in __init__\n    self.version = self.get_version()\n                   ^^^^^^^^^^^^^^^^^^\n  File \"/databricks/python/lib/python3.11/site-packages/threadpoolctl.py\", line 646, in get_version\n    config = get_config().split()\n             ^^^^^^^^^^^^^^^^^^\nAttributeError: 'NoneType' object has no attribute 'split'\nException ignored on calling ctypes callback function: <function _ThreadpoolInfo._find_modules_with_dl_iterate_phdr.<locals>.match_module_callback at 0x7f5e04440360>\nTraceback (most recent call last):\n  File \"/databricks/python/lib/python3.11/site-packages/threadpoolctl.py\", line 400, in match_module_callback\n    self._make_module_from_path(filepath)\n  File \"/databricks/python/lib/python3.11/site-packages/threadpoolctl.py\", line 515, in _make_module_from_path\n    module = module_class(filepath, prefix, user_api, internal_api)\n             ^^^^^^^^^^^^^^^^^^^^^^^^^^^^^^^^^^^^^^^^^^^^^^^^^^^^^^\n  File \"/databricks/python/lib/python3.11/site-packages/threadpoolctl.py\", line 606, in __init__\n    self.version = self.get_version()\n                   ^^^^^^^^^^^^^^^^^^\n  File \"/databricks/python/lib/python3.11/site-packages/threadpoolctl.py\", line 646, in get_version\n    config = get_config().split()\n             ^^^^^^^^^^^^^^^^^^\nAttributeError: 'NoneType' object has no attribute 'split'\nException ignored on calling ctypes callback function: <function _ThreadpoolInfo._find_modules_with_dl_iterate_phdr.<locals>.match_module_callback at 0x7f5e04440360>\nTraceback (most recent call last):\n  File \"/databricks/python/lib/python3.11/site-packages/threadpoolctl.py\", line 400, in match_module_callback\n    self._make_module_from_path(filepath)\n  File \"/databricks/python/lib/python3.11/site-packages/threadpoolctl.py\", line 515, in _make_module_from_path\n    module = module_class(filepath, prefix, user_api, internal_api)\n             ^^^^^^^^^^^^^^^^^^^^^^^^^^^^^^^^^^^^^^^^^^^^^^^^^^^^^^\n  File \"/databricks/python/lib/python3.11/site-packages/threadpoolctl.py\", line 606, in __init__\n    self.version = self.get_version()\n                   ^^^^^^^^^^^^^^^^^^\n  File \"/databricks/python/lib/python3.11/site-packages/threadpoolctl.py\", line 646, in get_version\n    config = get_config().split()\n             ^^^^^^^^^^^^^^^^^^\nAttributeError: 'NoneType' object has no attribute 'split'\nException ignored on calling ctypes callback function: <function _ThreadpoolInfo._find_modules_with_dl_iterate_phdr.<locals>.match_module_callback at 0x7f5e04440360>\nTraceback (most recent call last):\n  File \"/databricks/python/lib/python3.11/site-packages/threadpoolctl.py\", line 400, in match_module_callback\n    self._make_module_from_path(filepath)\n  File \"/databricks/python/lib/python3.11/site-packages/threadpoolctl.py\", line 515, in _make_module_from_path\n    module = module_class(filepath, prefix, user_api, internal_api)\n             ^^^^^^^^^^^^^^^^^^^^^^^^^^^^^^^^^^^^^^^^^^^^^^^^^^^^^^\n  File \"/databricks/python/lib/python3.11/site-packages/threadpoolctl.py\", line 606, in __init__\n    self.version = self.get_version()\n                   ^^^^^^^^^^^^^^^^^^\n  File \"/databricks/python/lib/python3.11/site-packages/threadpoolctl.py\", line 646, in get_version\n    config = get_config().split()\n             ^^^^^^^^^^^^^^^^^^\nAttributeError: 'NoneType' object has no attribute 'split'\nException ignored on calling ctypes callback function: <function _ThreadpoolInfo._find_modules_with_dl_iterate_phdr.<locals>.match_module_callback at 0x7f5e04440360>\nTraceback (most recent call last):\n  File \"/databricks/python/lib/python3.11/site-packages/threadpoolctl.py\", line 400, in match_module_callback\n    self._make_module_from_path(filepath)\n  File \"/databricks/python/lib/python3.11/site-packages/threadpoolctl.py\", line 515, in _make_module_from_path\n    module = module_class(filepath, prefix, user_api, internal_api)\n             ^^^^^^^^^^^^^^^^^^^^^^^^^^^^^^^^^^^^^^^^^^^^^^^^^^^^^^\n  File \"/databricks/python/lib/python3.11/site-packages/threadpoolctl.py\", line 606, in __init__\n    self.version = self.get_version()\n                   ^^^^^^^^^^^^^^^^^^\n  File \"/databricks/python/lib/python3.11/site-packages/threadpoolctl.py\", line 646, in get_version\n    config = get_config().split()\n             ^^^^^^^^^^^^^^^^^^\nAttributeError: 'NoneType' object has no attribute 'split'\nException ignored on calling ctypes callback function: <function _ThreadpoolInfo._find_modules_with_dl_iterate_phdr.<locals>.match_module_callback at 0x7f5e04440360>\nTraceback (most recent call last):\n  File \"/databricks/python/lib/python3.11/site-packages/threadpoolctl.py\", line 400, in match_module_callback\n    self._make_module_from_path(filepath)\n  File \"/databricks/python/lib/python3.11/site-packages/threadpoolctl.py\", line 515, in _make_module_from_path\n    module = module_class(filepath, prefix, user_api, internal_api)\n             ^^^^^^^^^^^^^^^^^^^^^^^^^^^^^^^^^^^^^^^^^^^^^^^^^^^^^^\n  File \"/databricks/python/lib/python3.11/site-packages/threadpoolctl.py\", line 606, in __init__\n    self.version = self.get_version()\n                   ^^^^^^^^^^^^^^^^^^\n  File \"/databricks/python/lib/python3.11/site-packages/threadpoolctl.py\", line 646, in get_version\n    config = get_config().split()\n             ^^^^^^^^^^^^^^^^^^\nAttributeError: 'NoneType' object has no attribute 'split'\nException ignored on calling ctypes callback function: <function _ThreadpoolInfo._find_modules_with_dl_iterate_phdr.<locals>.match_module_callback at 0x7f5e04440360>\nTraceback (most recent call last):\n  File \"/databricks/python/lib/python3.11/site-packages/threadpoolctl.py\", line 400, in match_module_callback\n    self._make_module_from_path(filepath)\n  File \"/databricks/python/lib/python3.11/site-packages/threadpoolctl.py\", line 515, in _make_module_from_path\n    module = module_class(filepath, prefix, user_api, internal_api)\n             ^^^^^^^^^^^^^^^^^^^^^^^^^^^^^^^^^^^^^^^^^^^^^^^^^^^^^^\n  File \"/databricks/python/lib/python3.11/site-packages/threadpoolctl.py\", line 606, in __init__\n    self.version = self.get_version()\n                   ^^^^^^^^^^^^^^^^^^\n  File \"/databricks/python/lib/python3.11/site-packages/threadpoolctl.py\", line 646, in get_version\n    config = get_config().split()\n             ^^^^^^^^^^^^^^^^^^\nAttributeError: 'NoneType' object has no attribute 'split'\nException ignored on calling ctypes callback function: <function _ThreadpoolInfo._find_modules_with_dl_iterate_phdr.<locals>.match_module_callback at 0x7f5e04440360>\nTraceback (most recent call last):\n  File \"/databricks/python/lib/python3.11/site-packages/threadpoolctl.py\", line 400, in match_module_callback\n    self._make_module_from_path(filepath)\n  File \"/databricks/python/lib/python3.11/site-packages/threadpoolctl.py\", line 515, in _make_module_from_path\n    module = module_class(filepath, prefix, user_api, internal_api)\n             ^^^^^^^^^^^^^^^^^^^^^^^^^^^^^^^^^^^^^^^^^^^^^^^^^^^^^^\n  File \"/databricks/python/lib/python3.11/site-packages/threadpoolctl.py\", line 606, in __init__\n    self.version = self.get_version()\n                   ^^^^^^^^^^^^^^^^^^\n  File \"/databricks/python/lib/python3.11/site-packages/threadpoolctl.py\", line 646, in get_version\n    config = get_config().split()\n             ^^^^^^^^^^^^^^^^^^\nAttributeError: 'NoneType' object has no attribute 'split'\nException ignored on calling ctypes callback function: <function _ThreadpoolInfo._find_modules_with_dl_iterate_phdr.<locals>.match_module_callback at 0x7f5e04440360>\nTraceback (most recent call last):\n  File \"/databricks/python/lib/python3.11/site-packages/threadpoolctl.py\", line 400, in match_module_callback\n    self._make_module_from_path(filepath)\n  File \"/databricks/python/lib/python3.11/site-packages/threadpoolctl.py\", line 515, in _make_module_from_path\n    module = module_class(filepath, prefix, user_api, internal_api)\n             ^^^^^^^^^^^^^^^^^^^^^^^^^^^^^^^^^^^^^^^^^^^^^^^^^^^^^^\n  File \"/databricks/python/lib/python3.11/site-packages/threadpoolctl.py\", line 606, in __init__\n    self.version = self.get_version()\n                   ^^^^^^^^^^^^^^^^^^\n  File \"/databricks/python/lib/python3.11/site-packages/threadpoolctl.py\", line 646, in get_version\n    config = get_config().split()\n             ^^^^^^^^^^^^^^^^^^\nAttributeError: 'NoneType' object has no attribute 'split'\nException ignored on calling ctypes callback function: <function _ThreadpoolInfo._find_modules_with_dl_iterate_phdr.<locals>.match_module_callback at 0x7f5e04440360>\nTraceback (most recent call last):\n  File \"/databricks/python/lib/python3.11/site-packages/threadpoolctl.py\", line 400, in match_module_callback\n    self._make_module_from_path(filepath)\n  File \"/databricks/python/lib/python3.11/site-packages/threadpoolctl.py\", line 515, in _make_module_from_path\n    module = module_class(filepath, prefix, user_api, internal_api)\n             ^^^^^^^^^^^^^^^^^^^^^^^^^^^^^^^^^^^^^^^^^^^^^^^^^^^^^^\n  File \"/databricks/python/lib/python3.11/site-packages/threadpoolctl.py\", line 606, in __init__\n    self.version = self.get_version()\n                   ^^^^^^^^^^^^^^^^^^\n  File \"/databricks/python/lib/python3.11/site-packages/threadpoolctl.py\", line 646, in get_version\n    config = get_config().split()\n             ^^^^^^^^^^^^^^^^^^\nAttributeError: 'NoneType' object has no attribute 'split'\nException ignored on calling ctypes callback function: <function _ThreadpoolInfo._find_modules_with_dl_iterate_phdr.<locals>.match_module_callback at 0x7f5e04440360>\nTraceback (most recent call last):\n  File \"/databricks/python/lib/python3.11/site-packages/threadpoolctl.py\", line 400, in match_module_callback\n    self._make_module_from_path(filepath)\n  File \"/databricks/python/lib/python3.11/site-packages/threadpoolctl.py\", line 515, in _make_module_from_path\n    module = module_class(filepath, prefix, user_api, internal_api)\n             ^^^^^^^^^^^^^^^^^^^^^^^^^^^^^^^^^^^^^^^^^^^^^^^^^^^^^^\n  File \"/databricks/python/lib/python3.11/site-packages/threadpoolctl.py\", line 606, in __init__\n    self.version = self.get_version()\n                   ^^^^^^^^^^^^^^^^^^\n  File \"/databricks/python/lib/python3.11/site-packages/threadpoolctl.py\", line 646, in get_version\n    config = get_config().split()\n             ^^^^^^^^^^^^^^^^^^\nAttributeError: 'NoneType' object has no attribute 'split'\nException ignored on calling ctypes callback function: <function _ThreadpoolInfo._find_modules_with_dl_iterate_phdr.<locals>.match_module_callback at 0x7f5e04440360>\nTraceback (most recent call last):\n  File \"/databricks/python/lib/python3.11/site-packages/threadpoolctl.py\", line 400, in match_module_callback\n    self._make_module_from_path(filepath)\n  File \"/databricks/python/lib/python3.11/site-packages/threadpoolctl.py\", line 515, in _make_module_from_path\n    module = module_class(filepath, prefix, user_api, internal_api)\n             ^^^^^^^^^^^^^^^^^^^^^^^^^^^^^^^^^^^^^^^^^^^^^^^^^^^^^^\n  File \"/databricks/python/lib/python3.11/site-packages/threadpoolctl.py\", line 606, in __init__\n    self.version = self.get_version()\n                   ^^^^^^^^^^^^^^^^^^\n  File \"/databricks/python/lib/python3.11/site-packages/threadpoolctl.py\", line 646, in get_version\n    config = get_config().split()\n             ^^^^^^^^^^^^^^^^^^\nAttributeError: 'NoneType' object has no attribute 'split'\nException ignored on calling ctypes callback function: <function _ThreadpoolInfo._find_modules_with_dl_iterate_phdr.<locals>.match_module_callback at 0x7f5e04440360>\nTraceback (most recent call last):\n  File \"/databricks/python/lib/python3.11/site-packages/threadpoolctl.py\", line 400, in match_module_callback\n    self._make_module_from_path(filepath)\n  File \"/databricks/python/lib/python3.11/site-packages/threadpoolctl.py\", line 515, in _make_module_from_path\n    module = module_class(filepath, prefix, user_api, internal_api)\n             ^^^^^^^^^^^^^^^^^^^^^^^^^^^^^^^^^^^^^^^^^^^^^^^^^^^^^^\n  File \"/databricks/python/lib/python3.11/site-packages/threadpoolctl.py\", line 606, in __init__\n    self.version = self.get_version()\n                   ^^^^^^^^^^^^^^^^^^\n  File \"/databricks/python/lib/python3.11/site-packages/threadpoolctl.py\", line 646, in get_version\n    config = get_config().split()\n             ^^^^^^^^^^^^^^^^^^\nAttributeError: 'NoneType' object has no attribute 'split'\nException ignored on calling ctypes callback function: <function _ThreadpoolInfo._find_modules_with_dl_iterate_phdr.<locals>.match_module_callback at 0x7f5e04440360>\nTraceback (most recent call last):\n  File \"/databricks/python/lib/python3.11/site-packages/threadpoolctl.py\", line 400, in match_module_callback\n    self._make_module_from_path(filepath)\n  File \"/databricks/python/lib/python3.11/site-packages/threadpoolctl.py\", line 515, in _make_module_from_path\n    module = module_class(filepath, prefix, user_api, internal_api)\n             ^^^^^^^^^^^^^^^^^^^^^^^^^^^^^^^^^^^^^^^^^^^^^^^^^^^^^^\n  File \"/databricks/python/lib/python3.11/site-packages/threadpoolctl.py\", line 606, in __init__\n    self.version = self.get_version()\n                   ^^^^^^^^^^^^^^^^^^\n  File \"/databricks/python/lib/python3.11/site-packages/threadpoolctl.py\", line 646, in get_version\n    config = get_config().split()\n             ^^^^^^^^^^^^^^^^^^\nAttributeError: 'NoneType' object has no attribute 'split'\nException ignored on calling ctypes callback function: <function _ThreadpoolInfo._find_modules_with_dl_iterate_phdr.<locals>.match_module_callback at 0x7f5e04440360>\nTraceback (most recent call last):\n  File \"/databricks/python/lib/python3.11/site-packages/threadpoolctl.py\", line 400, in match_module_callback\n    self._make_module_from_path(filepath)\n  File \"/databricks/python/lib/python3.11/site-packages/threadpoolctl.py\", line 515, in _make_module_from_path\n    module = module_class(filepath, prefix, user_api, internal_api)\n             ^^^^^^^^^^^^^^^^^^^^^^^^^^^^^^^^^^^^^^^^^^^^^^^^^^^^^^\n  File \"/databricks/python/lib/python3.11/site-packages/threadpoolctl.py\", line 606, in __init__\n    self.version = self.get_version()\n                   ^^^^^^^^^^^^^^^^^^\n  File \"/databricks/python/lib/python3.11/site-packages/threadpoolctl.py\", line 646, in get_version\n    config = get_config().split()\n             ^^^^^^^^^^^^^^^^^^\nAttributeError: 'NoneType' object has no attribute 'split'\nException ignored on calling ctypes callback function: <function _ThreadpoolInfo._find_modules_with_dl_iterate_phdr.<locals>.match_module_callback at 0x7f5e04440360>\nTraceback (most recent call last):\n  File \"/databricks/python/lib/python3.11/site-packages/threadpoolctl.py\", line 400, in match_module_callback\n    self._make_module_from_path(filepath)\n  File \"/databricks/python/lib/python3.11/site-packages/threadpoolctl.py\", line 515, in _make_module_from_path\n    module = module_class(filepath, prefix, user_api, internal_api)\n             ^^^^^^^^^^^^^^^^^^^^^^^^^^^^^^^^^^^^^^^^^^^^^^^^^^^^^^\n  File \"/databricks/python/lib/python3.11/site-packages/threadpoolctl.py\", line 606, in __init__\n    self.version = self.get_version()\n                   ^^^^^^^^^^^^^^^^^^\n  File \"/databricks/python/lib/python3.11/site-packages/threadpoolctl.py\", line 646, in get_version\n    config = get_config().split()\n             ^^^^^^^^^^^^^^^^^^\nAttributeError: 'NoneType' object has no attribute 'split'\nException ignored on calling ctypes callback function: <function _ThreadpoolInfo._find_modules_with_dl_iterate_phdr.<locals>.match_module_callback at 0x7f5e04440360>\nTraceback (most recent call last):\n  File \"/databricks/python/lib/python3.11/site-packages/threadpoolctl.py\", line 400, in match_module_callback\n    self._make_module_from_path(filepath)\n  File \"/databricks/python/lib/python3.11/site-packages/threadpoolctl.py\", line 515, in _make_module_from_path\n    module = module_class(filepath, prefix, user_api, internal_api)\n             ^^^^^^^^^^^^^^^^^^^^^^^^^^^^^^^^^^^^^^^^^^^^^^^^^^^^^^\n  File \"/databricks/python/lib/python3.11/site-packages/threadpoolctl.py\", line 606, in __init__\n    self.version = self.get_version()\n                   ^^^^^^^^^^^^^^^^^^\n  File \"/databricks/python/lib/python3.11/site-packages/threadpoolctl.py\", line 646, in get_version\n    config = get_config().split()\n             ^^^^^^^^^^^^^^^^^^\nAttributeError: 'NoneType' object has no attribute 'split'\nException ignored on calling ctypes callback function: <function _ThreadpoolInfo._find_modules_with_dl_iterate_phdr.<locals>.match_module_callback at 0x7f5e04440360>\nTraceback (most recent call last):\n  File \"/databricks/python/lib/python3.11/site-packages/threadpoolctl.py\", line 400, in match_module_callback\n    self._make_module_from_path(filepath)\n  File \"/databricks/python/lib/python3.11/site-packages/threadpoolctl.py\", line 515, in _make_module_from_path\n    module = module_class(filepath, prefix, user_api, internal_api)\n             ^^^^^^^^^^^^^^^^^^^^^^^^^^^^^^^^^^^^^^^^^^^^^^^^^^^^^^\n  File \"/databricks/python/lib/python3.11/site-packages/threadpoolctl.py\", line 606, in __init__\n    self.version = self.get_version()\n                   ^^^^^^^^^^^^^^^^^^\n  File \"/databricks/python/lib/python3.11/site-packages/threadpoolctl.py\", line 646, in get_version\n    config = get_config().split()\n             ^^^^^^^^^^^^^^^^^^\nAttributeError: 'NoneType' object has no attribute 'split'\nException ignored on calling ctypes callback function: <function _ThreadpoolInfo._find_modules_with_dl_iterate_phdr.<locals>.match_module_callback at 0x7f5e04440360>\nTraceback (most recent call last):\n  File \"/databricks/python/lib/python3.11/site-packages/threadpoolctl.py\", line 400, in match_module_callback\n    self._make_module_from_path(filepath)\n  File \"/databricks/python/lib/python3.11/site-packages/threadpoolctl.py\", line 515, in _make_module_from_path\n    module = module_class(filepath, prefix, user_api, internal_api)\n             ^^^^^^^^^^^^^^^^^^^^^^^^^^^^^^^^^^^^^^^^^^^^^^^^^^^^^^\n  File \"/databricks/python/lib/python3.11/site-packages/threadpoolctl.py\", line 606, in __init__\n    self.version = self.get_version()\n                   ^^^^^^^^^^^^^^^^^^\n  File \"/databricks/python/lib/python3.11/site-packages/threadpoolctl.py\", line 646, in get_version\n    config = get_config().split()\n             ^^^^^^^^^^^^^^^^^^\nAttributeError: 'NoneType' object has no attribute 'split'\nException ignored on calling ctypes callback function: <function _ThreadpoolInfo._find_modules_with_dl_iterate_phdr.<locals>.match_module_callback at 0x7f5e04440360>\nTraceback (most recent call last):\n  File \"/databricks/python/lib/python3.11/site-packages/threadpoolctl.py\", line 400, in match_module_callback\n    self._make_module_from_path(filepath)\n  File \"/databricks/python/lib/python3.11/site-packages/threadpoolctl.py\", line 515, in _make_module_from_path\n    module = module_class(filepath, prefix, user_api, internal_api)\n             ^^^^^^^^^^^^^^^^^^^^^^^^^^^^^^^^^^^^^^^^^^^^^^^^^^^^^^\n  File \"/databricks/python/lib/python3.11/site-packages/threadpoolctl.py\", line 606, in __init__\n    self.version = self.get_version()\n                   ^^^^^^^^^^^^^^^^^^\n  File \"/databricks/python/lib/python3.11/site-packages/threadpoolctl.py\", line 646, in get_version\n    config = get_config().split()\n             ^^^^^^^^^^^^^^^^^^\nAttributeError: 'NoneType' object has no attribute 'split'\n"
     ]
    }
   ],
   "source": [
    "X=newdata[cols].to_numpy()\n",
    "TSS = np.sum((X-X.mean(0))**2)\n",
    "stats=[]\n",
    "\n",
    "for k in range(8,9):\n",
    "\n",
    "    #Clustering\n",
    "    clusters=KMeans(n_clusters=k,random_state=1234,n_init=50,max_iter=100000).fit(newdata[cols])\n",
    "    ss=silhouette_score(newdata[cols],clusters.labels_,sample_size=10000)\n",
    "    stats.append({'k':k,'silhouette':ss,'within/total':clusters.inertia_/TSS})\n",
    "\n",
    "    centroids = clusters.cluster_centers_\n",
    "\n",
    "    newdata2['clusters']=clusters.labels_\n",
    "    cluster_counts = newdata2.groupby('clusters').size()\n",
    "    cluster_percentages = cluster_counts / len(newdata)\n",
    "\n",
    "    #Profiling\n",
    "    profiles=newdata2.groupby('clusters').mean().transpose().reset_index()\n",
    "    profiles.columns=['variable']+[f'class{i+1}'for i in range(k)]\n",
    "\n",
    "    profiles = profiles.drop_duplicates(subset='variable')\n",
    "\n",
    "    # Unstandardize the profiling variables\n",
    "    for col in standardize:\n",
    "        col_mean, col_std = mean_std_dict[col]\n",
    "        profiles.loc[profiles['variable'] == col, [f'class{i+1}' for i in range(k)]] = \\\n",
    "            profiles.loc[profiles['variable'] == col, [f'class{i+1}' for i in range(k)]].apply(lambda x: x * col_std + col_mean)\n",
    "\n",
    "    # Add row with cluster percentages\n",
    "    profiles.loc[len(profiles)] = ['Proportion'] + cluster_percentages.tolist()\n",
    "    \n",
    "    profiles.to_csv(f'Value_segmentation_profiling_variables_{k}_{dt.date.today()}.csv',index=False)"
   ]
  },
  {
   "cell_type": "code",
   "execution_count": 0,
   "metadata": {
    "application/vnd.databricks.v1+cell": {
     "cellMetadata": {
      "byteLimit": 2048000,
      "rowLimit": 10000
     },
     "inputWidgets": {},
     "nuid": "cada7cad-ca50-411d-90bc-7c04483661d8",
     "showTitle": false,
     "title": ""
    }
   },
   "outputs": [
    {
     "output_type": "execute_result",
     "data": {
      "text/plain": [
       "array([5, 4, 3, 2, 1, 0], dtype=int32)"
      ]
     },
     "execution_count": 43,
     "metadata": {},
     "output_type": "execute_result"
    }
   ],
   "source": [
    "newdata2['clusters'].unique()"
   ]
  },
  {
   "cell_type": "code",
   "execution_count": 0,
   "metadata": {
    "application/vnd.databricks.v1+cell": {
     "cellMetadata": {
      "byteLimit": 2048000,
      "rowLimit": 10000
     },
     "inputWidgets": {},
     "nuid": "ffbd3e56-827b-44af-b660-2a8480b60ff7",
     "showTitle": false,
     "title": ""
    }
   },
   "outputs": [],
   "source": [
    "stats=pd.DataFrame(stats)\n",
    "stats=pd.melt(stats,id_vars=['k'],value_vars=['silhouette','within/total'])\n",
    "p1=(ggplot(stats,aes('k','value',color='factor(variable)'))\n",
    "+ geom_point()\n",
    "+ geom_line()\n",
    "+ xlab(\"Number of Clusters\"))"
   ]
  },
  {
   "cell_type": "code",
   "execution_count": 0,
   "metadata": {
    "application/vnd.databricks.v1+cell": {
     "cellMetadata": {
      "byteLimit": 2048000,
      "rowLimit": 10000
     },
     "inputWidgets": {},
     "nuid": "affa853a-ed9e-47e2-9334-8f883bd6496e",
     "showTitle": false,
     "title": ""
    }
   },
   "outputs": [
    {
     "output_type": "stream",
     "name": "stderr",
     "output_type": "stream",
     "text": [
      "/local_disk0/.ephemeral_nfs/envs/pythonEnv-a1846ca2-8408-47e2-9daa-42fa58355e20/lib/python3.11/site-packages/plotnine/ggplot.py:606: PlotnineWarning: Saving 6.4 x 4.8 in image.\n/local_disk0/.ephemeral_nfs/envs/pythonEnv-a1846ca2-8408-47e2-9daa-42fa58355e20/lib/python3.11/site-packages/plotnine/ggplot.py:607: PlotnineWarning: Filename: clustering_results.png\n/local_disk0/.ephemeral_nfs/envs/pythonEnv-a1846ca2-8408-47e2-9daa-42fa58355e20/lib/python3.11/site-packages/plotnine/geoms/geom_path.py:113: PlotnineWarning: geom_path: Each group consist of only one observation. Do you need to adjust the group aesthetic?\n"
     ]
    }
   ],
   "source": [
    "p1.save(filename='clustering_results.png')"
   ]
  }
 ],
 "metadata": {
  "application/vnd.databricks.v1+notebook": {
   "dashboards": [],
   "environmentMetadata": null,
   "language": "python",
   "notebookMetadata": {
    "pythonIndentUnit": 4
   },
   "notebookName": "(Clone) Main_Hilton_Value_Segmentation",
   "widgets": {}
  },
  "interpreter": {
   "hash": "1991de463f37f0440d93bc51e17d3babc6e680e740ed16c871f664fbe55e00b3"
  },
  "kernelspec": {
   "display_name": "Python 3.9.12 ('army_env')",
   "language": "python",
   "name": "python3"
  },
  "language_info": {
   "codemirror_mode": {
    "name": "ipython",
    "version": 3
   },
   "file_extension": ".py",
   "mimetype": "text/x-python",
   "name": "python",
   "nbconvert_exporter": "python",
   "pygments_lexer": "ipython3",
   "version": "3.9.12"
  },
  "orig_nbformat": 4
 },
 "nbformat": 4,
 "nbformat_minor": 0
}
